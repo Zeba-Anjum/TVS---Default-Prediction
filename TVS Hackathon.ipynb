{
 "cells": [
  {
   "cell_type": "markdown",
   "id": "15026c5a",
   "metadata": {},
   "source": [
    "## Importing Necessary Libraries"
   ]
  },
  {
   "cell_type": "code",
   "execution_count": 1,
   "id": "9c51994a",
   "metadata": {},
   "outputs": [],
   "source": [
    "import numpy as np\n",
    "import pandas as pd\n",
    "import matplotlib.pyplot as plt\n",
    "import seaborn as sns\n",
    "from warnings import filterwarnings\n",
    "filterwarnings ('ignore')"
   ]
  },
  {
   "cell_type": "code",
   "execution_count": 2,
   "id": "06ad2a87",
   "metadata": {},
   "outputs": [
    {
     "data": {
      "text/html": [
       "<div>\n",
       "<style scoped>\n",
       "    .dataframe tbody tr th:only-of-type {\n",
       "        vertical-align: middle;\n",
       "    }\n",
       "\n",
       "    .dataframe tbody tr th {\n",
       "        vertical-align: top;\n",
       "    }\n",
       "\n",
       "    .dataframe thead th {\n",
       "        text-align: right;\n",
       "    }\n",
       "</style>\n",
       "<table border=\"1\" class=\"dataframe\">\n",
       "  <thead>\n",
       "    <tr style=\"text-align: right;\">\n",
       "      <th></th>\n",
       "      <th>ID</th>\n",
       "      <th>Compensation</th>\n",
       "      <th>Vehicle_Status</th>\n",
       "      <th>Loan_amt</th>\n",
       "      <th>Annuity_amt</th>\n",
       "      <th>density_Ind</th>\n",
       "      <th>Job_Type</th>\n",
       "      <th>Default_hist</th>\n",
       "      <th>Prop_List</th>\n",
       "      <th>Home_Appliances</th>\n",
       "      <th>...</th>\n",
       "      <th>Region</th>\n",
       "      <th>Age</th>\n",
       "      <th>hour_Process</th>\n",
       "      <th>Addr_permanent</th>\n",
       "      <th>Permanent_Addr_tag</th>\n",
       "      <th>c1_rated</th>\n",
       "      <th>c2_rated</th>\n",
       "      <th>Contact_age</th>\n",
       "      <th>Product_bought</th>\n",
       "      <th>Default</th>\n",
       "    </tr>\n",
       "  </thead>\n",
       "  <tbody>\n",
       "    <tr>\n",
       "      <th>0</th>\n",
       "      <td>540071</td>\n",
       "      <td>801850.0</td>\n",
       "      <td>Y</td>\n",
       "      <td>658040.0</td>\n",
       "      <td>13816.52</td>\n",
       "      <td>0.0304</td>\n",
       "      <td>IT</td>\n",
       "      <td>ndf</td>\n",
       "      <td>Morethan_One</td>\n",
       "      <td>NaN</td>\n",
       "      <td>...</td>\n",
       "      <td>East</td>\n",
       "      <td>46.0</td>\n",
       "      <td>10.0</td>\n",
       "      <td>Yes</td>\n",
       "      <td>No</td>\n",
       "      <td>0.077</td>\n",
       "      <td>0.077</td>\n",
       "      <td>18.0</td>\n",
       "      <td>2.0</td>\n",
       "      <td>1.0</td>\n",
       "    </tr>\n",
       "    <tr>\n",
       "      <th>1</th>\n",
       "      <td>511643</td>\n",
       "      <td>884222.0</td>\n",
       "      <td>N</td>\n",
       "      <td>198075.0</td>\n",
       "      <td>11173.06</td>\n",
       "      <td>0.0194</td>\n",
       "      <td>IT</td>\n",
       "      <td>ndf</td>\n",
       "      <td>Morethan_One</td>\n",
       "      <td>1.0</td>\n",
       "      <td>...</td>\n",
       "      <td>North</td>\n",
       "      <td>46.0</td>\n",
       "      <td>12.0</td>\n",
       "      <td>Yes</td>\n",
       "      <td>Yes</td>\n",
       "      <td>0.184</td>\n",
       "      <td>0.184</td>\n",
       "      <td>306.0</td>\n",
       "      <td>4.0</td>\n",
       "      <td>0.0</td>\n",
       "    </tr>\n",
       "    <tr>\n",
       "      <th>2</th>\n",
       "      <td>506688</td>\n",
       "      <td>284120.0</td>\n",
       "      <td>N</td>\n",
       "      <td>101056.0</td>\n",
       "      <td>8390.40</td>\n",
       "      <td>0.0118</td>\n",
       "      <td>Govt.</td>\n",
       "      <td>ndf</td>\n",
       "      <td>One</td>\n",
       "      <td>4.0</td>\n",
       "      <td>...</td>\n",
       "      <td>North</td>\n",
       "      <td>57.0</td>\n",
       "      <td>5.0</td>\n",
       "      <td>Yes</td>\n",
       "      <td>Yes</td>\n",
       "      <td>0.538</td>\n",
       "      <td>0.538</td>\n",
       "      <td>281.0</td>\n",
       "      <td>4.0</td>\n",
       "      <td>0.0</td>\n",
       "    </tr>\n",
       "    <tr>\n",
       "      <th>3</th>\n",
       "      <td>499360</td>\n",
       "      <td>341874.0</td>\n",
       "      <td>N</td>\n",
       "      <td>179008.0</td>\n",
       "      <td>7184.13</td>\n",
       "      <td>0.0373</td>\n",
       "      <td>Non-IT</td>\n",
       "      <td>df</td>\n",
       "      <td>None</td>\n",
       "      <td>2.0</td>\n",
       "      <td>...</td>\n",
       "      <td>South</td>\n",
       "      <td>39.0</td>\n",
       "      <td>12.0</td>\n",
       "      <td>Yes</td>\n",
       "      <td>Yes</td>\n",
       "      <td>NaN</td>\n",
       "      <td>0.561</td>\n",
       "      <td>20.0</td>\n",
       "      <td>4.0</td>\n",
       "      <td>0.0</td>\n",
       "    </tr>\n",
       "    <tr>\n",
       "      <th>4</th>\n",
       "      <td>438350</td>\n",
       "      <td>1259895.0</td>\n",
       "      <td>Y</td>\n",
       "      <td>573715.0</td>\n",
       "      <td>13212.77</td>\n",
       "      <td>0.0138</td>\n",
       "      <td>Non-IT</td>\n",
       "      <td>ndf</td>\n",
       "      <td>Morethan_One</td>\n",
       "      <td>1.0</td>\n",
       "      <td>...</td>\n",
       "      <td>North</td>\n",
       "      <td>32.0</td>\n",
       "      <td>16.0</td>\n",
       "      <td>Yes</td>\n",
       "      <td>Yes</td>\n",
       "      <td>NaN</td>\n",
       "      <td>0.200</td>\n",
       "      <td>2339.0</td>\n",
       "      <td>6.0</td>\n",
       "      <td>0.0</td>\n",
       "    </tr>\n",
       "  </tbody>\n",
       "</table>\n",
       "<p>5 rows × 33 columns</p>\n",
       "</div>"
      ],
      "text/plain": [
       "       ID  Compensation Vehicle_Status  Loan_amt  Annuity_amt  density_Ind  \\\n",
       "0  540071      801850.0              Y  658040.0     13816.52       0.0304   \n",
       "1  511643      884222.0              N  198075.0     11173.06       0.0194   \n",
       "2  506688      284120.0              N  101056.0      8390.40       0.0118   \n",
       "3  499360      341874.0              N  179008.0      7184.13       0.0373   \n",
       "4  438350     1259895.0              Y  573715.0     13212.77       0.0138   \n",
       "\n",
       "  Job_Type Default_hist     Prop_List  Home_Appliances  ... Region   Age  \\\n",
       "0       IT          ndf  Morethan_One              NaN  ...   East  46.0   \n",
       "1       IT          ndf  Morethan_One              1.0  ...  North  46.0   \n",
       "2    Govt.          ndf           One              4.0  ...  North  57.0   \n",
       "3   Non-IT           df          None              2.0  ...  South  39.0   \n",
       "4   Non-IT          ndf  Morethan_One              1.0  ...  North  32.0   \n",
       "\n",
       "  hour_Process Addr_permanent Permanent_Addr_tag c1_rated  c2_rated  \\\n",
       "0         10.0            Yes                 No    0.077     0.077   \n",
       "1         12.0            Yes                Yes    0.184     0.184   \n",
       "2          5.0            Yes                Yes    0.538     0.538   \n",
       "3         12.0            Yes                Yes      NaN     0.561   \n",
       "4         16.0            Yes                Yes      NaN     0.200   \n",
       "\n",
       "  Contact_age Product_bought Default  \n",
       "0        18.0            2.0     1.0  \n",
       "1       306.0            4.0     0.0  \n",
       "2       281.0            4.0     0.0  \n",
       "3        20.0            4.0     0.0  \n",
       "4      2339.0            6.0     0.0  \n",
       "\n",
       "[5 rows x 33 columns]"
      ]
     },
     "execution_count": 2,
     "metadata": {},
     "output_type": "execute_result"
    }
   ],
   "source": [
    "df = pd.read_csv('Train_Set_TVS.csv')\n",
    "df.head()"
   ]
  },
  {
   "cell_type": "markdown",
   "id": "48d76054",
   "metadata": {},
   "source": [
    "## 1 Data Cleaning"
   ]
  },
  {
   "cell_type": "code",
   "execution_count": 3,
   "id": "e3e8d6fc",
   "metadata": {},
   "outputs": [],
   "source": [
    "dff = df"
   ]
  },
  {
   "cell_type": "code",
   "execution_count": 4,
   "id": "08b89ffe",
   "metadata": {},
   "outputs": [
    {
     "data": {
      "text/plain": [
       "(132440, 33)"
      ]
     },
     "execution_count": 4,
     "metadata": {},
     "output_type": "execute_result"
    }
   ],
   "source": [
    "df.shape"
   ]
  },
  {
   "cell_type": "code",
   "execution_count": 5,
   "id": "a8d3a863",
   "metadata": {},
   "outputs": [
    {
     "data": {
      "text/plain": [
       "ID                      int64\n",
       "Compensation          float64\n",
       "Vehicle_Status         object\n",
       "Loan_amt              float64\n",
       "Annuity_amt           float64\n",
       "density_Ind           float64\n",
       "Job_Type               object\n",
       "Default_hist           object\n",
       "Prop_List              object\n",
       "Home_Appliances       float64\n",
       "Region_Type            object\n",
       "Credit_Inq             object\n",
       "Education_det          object\n",
       "Marital_Stat           object\n",
       "Gen                    object\n",
       "Credit_Lnks            object\n",
       "Experience            float64\n",
       "Income_Alt             object\n",
       "Day_Process            object\n",
       "Ph.No                  object\n",
       "Type_Loan              object\n",
       "Dependents            float64\n",
       "Company_Rating        float64\n",
       "Region                 object\n",
       "Age                   float64\n",
       "hour_Process          float64\n",
       "Addr_permanent         object\n",
       "Permanent_Addr_tag     object\n",
       "c1_rated              float64\n",
       "c2_rated              float64\n",
       "Contact_age           float64\n",
       "Product_bought        float64\n",
       "Default               float64\n",
       "dtype: object"
      ]
     },
     "execution_count": 5,
     "metadata": {},
     "output_type": "execute_result"
    }
   ],
   "source": [
    "df.dtypes"
   ]
  },
  {
   "cell_type": "code",
   "execution_count": 6,
   "id": "857a95d1",
   "metadata": {},
   "outputs": [
    {
     "data": {
      "text/plain": [
       "0"
      ]
     },
     "execution_count": 6,
     "metadata": {},
     "output_type": "execute_result"
    }
   ],
   "source": [
    "df.duplicated().sum()"
   ]
  },
  {
   "cell_type": "code",
   "execution_count": 7,
   "id": "789361b4",
   "metadata": {},
   "outputs": [
    {
     "data": {
      "text/plain": [
       "ID                     0.000000\n",
       "Compensation           4.713078\n",
       "Vehicle_Status         6.874056\n",
       "Loan_amt               0.000000\n",
       "Annuity_amt            3.481577\n",
       "density_Ind            4.089399\n",
       "Job_Type               7.737844\n",
       "Default_hist           0.000000\n",
       "Prop_List              1.483691\n",
       "Home_Appliances        8.278466\n",
       "Region_Type            0.000000\n",
       "Credit_Inq             2.031108\n",
       "Education_det          0.000000\n",
       "Marital_Stat           0.000000\n",
       "Gen                    0.000000\n",
       "Credit_Lnks            0.000000\n",
       "Experience            16.494262\n",
       "Income_Alt             5.800362\n",
       "Day_Process            0.000000\n",
       "Ph.No                  0.000000\n",
       "Type_Loan              0.000000\n",
       "Dependents             0.000000\n",
       "Company_Rating         8.857596\n",
       "Region                 0.000000\n",
       "Age                    0.000000\n",
       "hour_Process           0.000000\n",
       "Addr_permanent         0.000000\n",
       "Permanent_Addr_tag     0.000000\n",
       "c1_rated              13.223346\n",
       "c2_rated              10.058140\n",
       "Contact_age            6.155995\n",
       "Product_bought         0.000000\n",
       "Default                0.000000\n",
       "dtype: float64"
      ]
     },
     "execution_count": 7,
     "metadata": {},
     "output_type": "execute_result"
    }
   ],
   "source": [
    "df.isnull().sum()/len(df)*100"
   ]
  },
  {
   "cell_type": "markdown",
   "id": "ef1b2278",
   "metadata": {},
   "source": [
    "### EXPLORATORY ANALYSIS"
   ]
  },
  {
   "cell_type": "code",
   "execution_count": 8,
   "id": "85dea7e5",
   "metadata": {},
   "outputs": [
    {
     "data": {
      "text/html": [
       "<div>\n",
       "<style scoped>\n",
       "    .dataframe tbody tr th:only-of-type {\n",
       "        vertical-align: middle;\n",
       "    }\n",
       "\n",
       "    .dataframe tbody tr th {\n",
       "        vertical-align: top;\n",
       "    }\n",
       "\n",
       "    .dataframe thead th {\n",
       "        text-align: right;\n",
       "    }\n",
       "</style>\n",
       "<table border=\"1\" class=\"dataframe\">\n",
       "  <thead>\n",
       "    <tr style=\"text-align: right;\">\n",
       "      <th></th>\n",
       "      <th>Vehicle_Status</th>\n",
       "      <th>Job_Type</th>\n",
       "      <th>Default_hist</th>\n",
       "      <th>Prop_List</th>\n",
       "      <th>Region_Type</th>\n",
       "      <th>Credit_Inq</th>\n",
       "      <th>Education_det</th>\n",
       "      <th>Marital_Stat</th>\n",
       "      <th>Gen</th>\n",
       "      <th>Credit_Lnks</th>\n",
       "      <th>Income_Alt</th>\n",
       "      <th>Day_Process</th>\n",
       "      <th>Ph.No</th>\n",
       "      <th>Type_Loan</th>\n",
       "      <th>Region</th>\n",
       "      <th>Addr_permanent</th>\n",
       "      <th>Permanent_Addr_tag</th>\n",
       "    </tr>\n",
       "  </thead>\n",
       "  <tbody>\n",
       "    <tr>\n",
       "      <th>0</th>\n",
       "      <td>Y</td>\n",
       "      <td>IT</td>\n",
       "      <td>ndf</td>\n",
       "      <td>Morethan_One</td>\n",
       "      <td>Metro</td>\n",
       "      <td>1</td>\n",
       "      <td>Grad</td>\n",
       "      <td>Married</td>\n",
       "      <td>F</td>\n",
       "      <td>1_to_3</td>\n",
       "      <td>Not_Specified</td>\n",
       "      <td>SAT</td>\n",
       "      <td>Yes</td>\n",
       "      <td>CLoan</td>\n",
       "      <td>East</td>\n",
       "      <td>Yes</td>\n",
       "      <td>No</td>\n",
       "    </tr>\n",
       "    <tr>\n",
       "      <th>1</th>\n",
       "      <td>N</td>\n",
       "      <td>IT</td>\n",
       "      <td>ndf</td>\n",
       "      <td>Morethan_One</td>\n",
       "      <td>Metro</td>\n",
       "      <td>2</td>\n",
       "      <td>Grad</td>\n",
       "      <td>Married</td>\n",
       "      <td>M</td>\n",
       "      <td>1_to_3</td>\n",
       "      <td>Not_Specified</td>\n",
       "      <td>wed</td>\n",
       "      <td>Yes</td>\n",
       "      <td>CLoan</td>\n",
       "      <td>North</td>\n",
       "      <td>Yes</td>\n",
       "      <td>Yes</td>\n",
       "    </tr>\n",
       "    <tr>\n",
       "      <th>2</th>\n",
       "      <td>N</td>\n",
       "      <td>Govt.</td>\n",
       "      <td>ndf</td>\n",
       "      <td>One</td>\n",
       "      <td>Metro</td>\n",
       "      <td>3</td>\n",
       "      <td>Other</td>\n",
       "      <td>Married</td>\n",
       "      <td>M</td>\n",
       "      <td>1_to_3</td>\n",
       "      <td>Not_Specified</td>\n",
       "      <td>mon</td>\n",
       "      <td>Yes</td>\n",
       "      <td>CLoan</td>\n",
       "      <td>North</td>\n",
       "      <td>Yes</td>\n",
       "      <td>Yes</td>\n",
       "    </tr>\n",
       "    <tr>\n",
       "      <th>3</th>\n",
       "      <td>N</td>\n",
       "      <td>Non-IT</td>\n",
       "      <td>df</td>\n",
       "      <td>None</td>\n",
       "      <td>Metro</td>\n",
       "      <td>1</td>\n",
       "      <td>Grad</td>\n",
       "      <td>Married</td>\n",
       "      <td>M</td>\n",
       "      <td>1_to_3</td>\n",
       "      <td>Not_Specified</td>\n",
       "      <td>wed</td>\n",
       "      <td>Yes</td>\n",
       "      <td>RLoan</td>\n",
       "      <td>South</td>\n",
       "      <td>Yes</td>\n",
       "      <td>Yes</td>\n",
       "    </tr>\n",
       "    <tr>\n",
       "      <th>4</th>\n",
       "      <td>Y</td>\n",
       "      <td>Non-IT</td>\n",
       "      <td>ndf</td>\n",
       "      <td>Morethan_One</td>\n",
       "      <td>Rural</td>\n",
       "      <td>2</td>\n",
       "      <td>Grad</td>\n",
       "      <td>Married</td>\n",
       "      <td>F</td>\n",
       "      <td>4_to_6</td>\n",
       "      <td>Y</td>\n",
       "      <td>Sun</td>\n",
       "      <td>Yes</td>\n",
       "      <td>CLoan</td>\n",
       "      <td>North</td>\n",
       "      <td>Yes</td>\n",
       "      <td>Yes</td>\n",
       "    </tr>\n",
       "  </tbody>\n",
       "</table>\n",
       "</div>"
      ],
      "text/plain": [
       "  Vehicle_Status Job_Type Default_hist     Prop_List Region_Type Credit_Inq  \\\n",
       "0              Y       IT          ndf  Morethan_One       Metro          1   \n",
       "1              N       IT          ndf  Morethan_One       Metro          2   \n",
       "2              N    Govt.          ndf           One       Metro          3   \n",
       "3              N   Non-IT           df          None       Metro          1   \n",
       "4              Y   Non-IT          ndf  Morethan_One       Rural          2   \n",
       "\n",
       "  Education_det Marital_Stat Gen Credit_Lnks     Income_Alt Day_Process Ph.No  \\\n",
       "0          Grad      Married   F      1_to_3  Not_Specified         SAT   Yes   \n",
       "1          Grad      Married   M      1_to_3  Not_Specified         wed   Yes   \n",
       "2         Other      Married   M      1_to_3  Not_Specified         mon   Yes   \n",
       "3          Grad      Married   M      1_to_3  Not_Specified         wed   Yes   \n",
       "4          Grad      Married   F      4_to_6              Y         Sun   Yes   \n",
       "\n",
       "  Type_Loan Region Addr_permanent Permanent_Addr_tag  \n",
       "0     CLoan   East            Yes                 No  \n",
       "1     CLoan  North            Yes                Yes  \n",
       "2     CLoan  North            Yes                Yes  \n",
       "3     RLoan  South            Yes                Yes  \n",
       "4     CLoan  North            Yes                Yes  "
      ]
     },
     "execution_count": 8,
     "metadata": {},
     "output_type": "execute_result"
    }
   ],
   "source": [
    "df_cat = df.select_dtypes(include = 'object')\n",
    "df_cat.head()"
   ]
  },
  {
   "cell_type": "code",
   "execution_count": 9,
   "id": "81e70df2",
   "metadata": {},
   "outputs": [
    {
     "data": {
      "text/html": [
       "<div>\n",
       "<style scoped>\n",
       "    .dataframe tbody tr th:only-of-type {\n",
       "        vertical-align: middle;\n",
       "    }\n",
       "\n",
       "    .dataframe tbody tr th {\n",
       "        vertical-align: top;\n",
       "    }\n",
       "\n",
       "    .dataframe thead th {\n",
       "        text-align: right;\n",
       "    }\n",
       "</style>\n",
       "<table border=\"1\" class=\"dataframe\">\n",
       "  <thead>\n",
       "    <tr style=\"text-align: right;\">\n",
       "      <th></th>\n",
       "      <th>ID</th>\n",
       "      <th>Compensation</th>\n",
       "      <th>Loan_amt</th>\n",
       "      <th>Annuity_amt</th>\n",
       "      <th>density_Ind</th>\n",
       "      <th>Home_Appliances</th>\n",
       "      <th>Experience</th>\n",
       "      <th>Dependents</th>\n",
       "      <th>Company_Rating</th>\n",
       "      <th>Age</th>\n",
       "      <th>hour_Process</th>\n",
       "      <th>c1_rated</th>\n",
       "      <th>c2_rated</th>\n",
       "      <th>Contact_age</th>\n",
       "      <th>Product_bought</th>\n",
       "      <th>Default</th>\n",
       "    </tr>\n",
       "  </thead>\n",
       "  <tbody>\n",
       "    <tr>\n",
       "      <th>0</th>\n",
       "      <td>540071</td>\n",
       "      <td>801850.0</td>\n",
       "      <td>658040.0</td>\n",
       "      <td>13816.52</td>\n",
       "      <td>0.0304</td>\n",
       "      <td>NaN</td>\n",
       "      <td>0.9</td>\n",
       "      <td>3.0</td>\n",
       "      <td>2.0</td>\n",
       "      <td>46.0</td>\n",
       "      <td>10.0</td>\n",
       "      <td>0.077</td>\n",
       "      <td>0.077</td>\n",
       "      <td>18.0</td>\n",
       "      <td>2.0</td>\n",
       "      <td>1.0</td>\n",
       "    </tr>\n",
       "    <tr>\n",
       "      <th>1</th>\n",
       "      <td>511643</td>\n",
       "      <td>884222.0</td>\n",
       "      <td>198075.0</td>\n",
       "      <td>11173.06</td>\n",
       "      <td>0.0194</td>\n",
       "      <td>1.0</td>\n",
       "      <td>3.0</td>\n",
       "      <td>3.0</td>\n",
       "      <td>1.0</td>\n",
       "      <td>46.0</td>\n",
       "      <td>12.0</td>\n",
       "      <td>0.184</td>\n",
       "      <td>0.184</td>\n",
       "      <td>306.0</td>\n",
       "      <td>4.0</td>\n",
       "      <td>0.0</td>\n",
       "    </tr>\n",
       "    <tr>\n",
       "      <th>2</th>\n",
       "      <td>506688</td>\n",
       "      <td>284120.0</td>\n",
       "      <td>101056.0</td>\n",
       "      <td>8390.40</td>\n",
       "      <td>0.0118</td>\n",
       "      <td>4.0</td>\n",
       "      <td>NaN</td>\n",
       "      <td>2.0</td>\n",
       "      <td>3.0</td>\n",
       "      <td>57.0</td>\n",
       "      <td>5.0</td>\n",
       "      <td>0.538</td>\n",
       "      <td>0.538</td>\n",
       "      <td>281.0</td>\n",
       "      <td>4.0</td>\n",
       "      <td>0.0</td>\n",
       "    </tr>\n",
       "    <tr>\n",
       "      <th>3</th>\n",
       "      <td>499360</td>\n",
       "      <td>341874.0</td>\n",
       "      <td>179008.0</td>\n",
       "      <td>7184.13</td>\n",
       "      <td>0.0373</td>\n",
       "      <td>2.0</td>\n",
       "      <td>4.7</td>\n",
       "      <td>4.0</td>\n",
       "      <td>2.0</td>\n",
       "      <td>39.0</td>\n",
       "      <td>12.0</td>\n",
       "      <td>NaN</td>\n",
       "      <td>0.561</td>\n",
       "      <td>20.0</td>\n",
       "      <td>4.0</td>\n",
       "      <td>0.0</td>\n",
       "    </tr>\n",
       "    <tr>\n",
       "      <th>4</th>\n",
       "      <td>438350</td>\n",
       "      <td>1259895.0</td>\n",
       "      <td>573715.0</td>\n",
       "      <td>13212.77</td>\n",
       "      <td>0.0138</td>\n",
       "      <td>1.0</td>\n",
       "      <td>6.9</td>\n",
       "      <td>3.0</td>\n",
       "      <td>1.0</td>\n",
       "      <td>32.0</td>\n",
       "      <td>16.0</td>\n",
       "      <td>NaN</td>\n",
       "      <td>0.200</td>\n",
       "      <td>2339.0</td>\n",
       "      <td>6.0</td>\n",
       "      <td>0.0</td>\n",
       "    </tr>\n",
       "  </tbody>\n",
       "</table>\n",
       "</div>"
      ],
      "text/plain": [
       "       ID  Compensation  Loan_amt  Annuity_amt  density_Ind  Home_Appliances  \\\n",
       "0  540071      801850.0  658040.0     13816.52       0.0304              NaN   \n",
       "1  511643      884222.0  198075.0     11173.06       0.0194              1.0   \n",
       "2  506688      284120.0  101056.0      8390.40       0.0118              4.0   \n",
       "3  499360      341874.0  179008.0      7184.13       0.0373              2.0   \n",
       "4  438350     1259895.0  573715.0     13212.77       0.0138              1.0   \n",
       "\n",
       "   Experience  Dependents  Company_Rating   Age  hour_Process  c1_rated  \\\n",
       "0         0.9         3.0             2.0  46.0          10.0     0.077   \n",
       "1         3.0         3.0             1.0  46.0          12.0     0.184   \n",
       "2         NaN         2.0             3.0  57.0           5.0     0.538   \n",
       "3         4.7         4.0             2.0  39.0          12.0       NaN   \n",
       "4         6.9         3.0             1.0  32.0          16.0       NaN   \n",
       "\n",
       "   c2_rated  Contact_age  Product_bought  Default  \n",
       "0     0.077         18.0             2.0      1.0  \n",
       "1     0.184        306.0             4.0      0.0  \n",
       "2     0.538        281.0             4.0      0.0  \n",
       "3     0.561         20.0             4.0      0.0  \n",
       "4     0.200       2339.0             6.0      0.0  "
      ]
     },
     "execution_count": 9,
     "metadata": {},
     "output_type": "execute_result"
    }
   ],
   "source": [
    "df_num = df.select_dtypes(include = np.number)\n",
    "df_num.head()"
   ]
  },
  {
   "cell_type": "code",
   "execution_count": 10,
   "id": "fe462108",
   "metadata": {},
   "outputs": [
    {
     "data": {
      "image/png": "[encoded data removed]",
      "text/plain": [
       "<Figure size 432x288 with 1 Axes>"
      ]
     },
     "metadata": {
      "needs_background": "light"
     },
     "output_type": "display_data"
    },
    {
     "data": {
      "image/png": "[encoded data removed]",
      "text/plain": [
       "<Figure size 432x288 with 1 Axes>"
      ]
     },
     "metadata": {
      "needs_background": "light"
     },
     "output_type": "display_data"
    },
    {
     "data": {
      "image/png": "[encoded data removed]",
      "text/plain": [
       "<Figure size 432x288 with 1 Axes>"
      ]
     },
     "metadata": {
      "needs_background": "light"
     },
     "output_type": "display_data"
    },
    {
     "data": {
      "image/png": "[encoded data removed]",
      "text/plain": [
       "<Figure size 432x288 with 1 Axes>"
      ]
     },
     "metadata": {
      "needs_background": "light"
     },
     "output_type": "display_data"
    },
    {
     "data": {
      "image/png": "[encoded data removed]",
      "text/plain": [
       "<Figure size 432x288 with 1 Axes>"
      ]
     },
     "metadata": {
      "needs_background": "light"
     },
     "output_type": "display_data"
    },
    {
     "data": {
      "image/png": "[encoded data removed]",
      "text/plain": [
       "<Figure size 432x288 with 1 Axes>"
      ]
     },
     "metadata": {
      "needs_background": "light"
     },
     "output_type": "display_data"
    },
    {
     "data": {
      "image/png": "[encoded data removed]",
      "text/plain": [
       "<Figure size 432x288 with 1 Axes>"
      ]
     },
     "metadata": {
      "needs_background": "light"
     },
     "output_type": "display_data"
    },
    {
     "data": {
      "image/png": "[encoded data removed]",
      "text/plain": [
       "<Figure size 432x288 with 1 Axes>"
      ]
     },
     "metadata": {
      "needs_background": "light"
     },
     "output_type": "display_data"
    },
    {
     "data": {
      "image/png": "[encoded data removed]",
      "text/plain": [
       "<Figure size 432x288 with 1 Axes>"
      ]
     },
     "metadata": {
      "needs_background": "light"
     },
     "output_type": "display_data"
    },
    {
     "data": {
      "image/png": "[encoded data removed]",
      "text/plain": [
       "<Figure size 432x288 with 1 Axes>"
      ]
     },
     "metadata": {
      "needs_background": "light"
     },
     "output_type": "display_data"
    },
    {
     "data": {
      "image/png": "[encoded data removed]",
      "text/plain": [
       "<Figure size 432x288 with 1 Axes>"
      ]
     },
     "metadata": {
      "needs_background": "light"
     },
     "output_type": "display_data"
    },
    {
     "data": {
      "image/png": "[encoded data removed]",
      "text/plain": [
       "<Figure size 432x288 with 1 Axes>"
      ]
     },
     "metadata": {
      "needs_background": "light"
     },
     "output_type": "display_data"
    },
    {
     "data": {
      "image/png": "[encoded data removed]",
      "text/plain": [
       "<Figure size 432x288 with 1 Axes>"
      ]
     },
     "metadata": {
      "needs_background": "light"
     },
     "output_type": "display_data"
    },
    {
     "data": {
      "image/png": "[encoded data removed]",
      "text/plain": [
       "<Figure size 432x288 with 1 Axes>"
      ]
     },
     "metadata": {
      "needs_background": "light"
     },
     "output_type": "display_data"
    },
    {
     "data": {
      "image/png": "[encoded data removed]",
      "text/plain": [
       "<Figure size 432x288 with 1 Axes>"
      ]
     },
     "metadata": {
      "needs_background": "light"
     },
     "output_type": "display_data"
    },
    {
     "data": {
      "image/png": "[encoded data removed]",
      "text/plain": [
       "<Figure size 432x288 with 1 Axes>"
      ]
     },
     "metadata": {
      "needs_background": "light"
     },
     "output_type": "display_data"
    }
   ],
   "source": [
    "for i in df_num.columns:\n",
    "    sns.boxplot(df_num[i])\n",
    "    plt.show()"
   ]
  },
  {
   "cell_type": "code",
   "execution_count": 11,
   "id": "0ab739ef",
   "metadata": {},
   "outputs": [],
   "source": [
    "df['Compensation'].fillna(df['Compensation'].median(),inplace = True)"
   ]
  },
  {
   "cell_type": "code",
   "execution_count": 12,
   "id": "ab4b500a",
   "metadata": {},
   "outputs": [
    {
     "data": {
      "text/plain": [
       "'N'"
      ]
     },
     "execution_count": 12,
     "metadata": {},
     "output_type": "execute_result"
    }
   ],
   "source": [
    "df['Vehicle_Status'].mode()[0]"
   ]
  },
  {
   "cell_type": "code",
   "execution_count": 13,
   "id": "02376f18",
   "metadata": {},
   "outputs": [],
   "source": [
    "df['Vehicle_Status'].fillna(df['Vehicle_Status'].mode()[0],inplace = True)"
   ]
  },
  {
   "cell_type": "code",
   "execution_count": 14,
   "id": "fed592dd",
   "metadata": {},
   "outputs": [],
   "source": [
    "df['Annuity_amt'].fillna(df['Annuity_amt'].median(),inplace = True)"
   ]
  },
  {
   "cell_type": "code",
   "execution_count": 15,
   "id": "b74e79bb",
   "metadata": {},
   "outputs": [
    {
     "data": {
      "text/plain": [
       "(0.020446197568964243, 0.0204)"
      ]
     },
     "execution_count": 15,
     "metadata": {},
     "output_type": "execute_result"
    }
   ],
   "source": [
    "df['density_Ind'].mean(),df['density_Ind'].median()"
   ]
  },
  {
   "cell_type": "code",
   "execution_count": 16,
   "id": "6f6568c3",
   "metadata": {},
   "outputs": [],
   "source": [
    "df['density_Ind'].fillna(df['density_Ind'].median(),inplace = True)"
   ]
  },
  {
   "cell_type": "code",
   "execution_count": 17,
   "id": "77b9d48f",
   "metadata": {},
   "outputs": [],
   "source": [
    "df['Job_Type'].fillna(df['Job_Type'].mode()[0],inplace = True)"
   ]
  },
  {
   "cell_type": "code",
   "execution_count": 18,
   "id": "6b3c96a6",
   "metadata": {},
   "outputs": [
    {
     "data": {
      "text/plain": [
       "0    One\n",
       "dtype: object"
      ]
     },
     "execution_count": 18,
     "metadata": {},
     "output_type": "execute_result"
    }
   ],
   "source": [
    "df['Prop_List'].mode()"
   ]
  },
  {
   "cell_type": "code",
   "execution_count": 19,
   "id": "a5843b5a",
   "metadata": {},
   "outputs": [],
   "source": [
    "df['Prop_List'].fillna(df['Prop_List'].mode()[0],inplace = True)"
   ]
  },
  {
   "cell_type": "code",
   "execution_count": 20,
   "id": "2006290e",
   "metadata": {},
   "outputs": [],
   "source": [
    "df['Home_Appliances'].fillna(df['Home_Appliances'].mode()[0],inplace = True)"
   ]
  },
  {
   "cell_type": "code",
   "execution_count": 21,
   "id": "c0c84871",
   "metadata": {},
   "outputs": [
    {
     "data": {
      "text/plain": [
       "1     0.516933\n",
       "2     0.234004\n",
       "3     0.178636\n",
       ">4    0.070428\n",
       "Name: Credit_Inq, dtype: float64"
      ]
     },
     "execution_count": 21,
     "metadata": {},
     "output_type": "execute_result"
    }
   ],
   "source": [
    "df['Credit_Inq'].value_counts(normalize = True)"
   ]
  },
  {
   "cell_type": "code",
   "execution_count": 22,
   "id": "060bfc15",
   "metadata": {},
   "outputs": [],
   "source": [
    "df['Credit_Inq'].fillna(df['Credit_Inq'].mode()[0],inplace = True)"
   ]
  },
  {
   "cell_type": "code",
   "execution_count": 23,
   "id": "66437370",
   "metadata": {},
   "outputs": [
    {
     "data": {
      "text/plain": [
       "(6.580615760205829, 4.6)"
      ]
     },
     "execution_count": 23,
     "metadata": {},
     "output_type": "execute_result"
    }
   ],
   "source": [
    "df['Experience'].mean(),df['Experience'].median()"
   ]
  },
  {
   "cell_type": "code",
   "execution_count": 24,
   "id": "1ede6fe8",
   "metadata": {},
   "outputs": [],
   "source": [
    "df['Experience'].fillna(df['Experience'].median(),inplace = True)"
   ]
  },
  {
   "cell_type": "code",
   "execution_count": 25,
   "id": "2f25fef9",
   "metadata": {},
   "outputs": [
    {
     "data": {
      "text/plain": [
       "Not_Specified    0.720178\n",
       "Y                0.279822\n",
       "Name: Income_Alt, dtype: float64"
      ]
     },
     "execution_count": 25,
     "metadata": {},
     "output_type": "execute_result"
    }
   ],
   "source": [
    "df['Income_Alt'].value_counts(normalize = True)"
   ]
  },
  {
   "cell_type": "code",
   "execution_count": 26,
   "id": "f4f072fd",
   "metadata": {},
   "outputs": [],
   "source": [
    "df['Income_Alt'].fillna(df['Income_Alt'].mode()[0],inplace = True)"
   ]
  },
  {
   "cell_type": "code",
   "execution_count": 27,
   "id": "96c0268d",
   "metadata": {},
   "outputs": [
    {
     "data": {
      "text/plain": [
       "2.0"
      ]
     },
     "execution_count": 27,
     "metadata": {},
     "output_type": "execute_result"
    }
   ],
   "source": [
    "df['Company_Rating'].median()"
   ]
  },
  {
   "cell_type": "code",
   "execution_count": 28,
   "id": "371b9004",
   "metadata": {},
   "outputs": [],
   "source": [
    "df['Company_Rating'].fillna(df['Company_Rating'].median(),inplace = True)"
   ]
  },
  {
   "cell_type": "code",
   "execution_count": 29,
   "id": "d6761516",
   "metadata": {},
   "outputs": [],
   "source": [
    "df['c1_rated'].fillna(df['c1_rated'].median(),inplace = True)"
   ]
  },
  {
   "cell_type": "code",
   "execution_count": 30,
   "id": "088a3f30",
   "metadata": {},
   "outputs": [],
   "source": [
    "df['c2_rated'].fillna(df['c2_rated'].median(),inplace = True)"
   ]
  },
  {
   "cell_type": "code",
   "execution_count": 31,
   "id": "c30e40c7",
   "metadata": {},
   "outputs": [
    {
     "data": {
      "text/plain": [
       "<AxesSubplot:xlabel='Contact_age'>"
      ]
     },
     "execution_count": 31,
     "metadata": {},
     "output_type": "execute_result"
    },
    {
     "data": {
      "image/png": "[encoded data removed]",
      "text/plain": [
       "<Figure size 432x288 with 1 Axes>"
      ]
     },
     "metadata": {
      "needs_background": "light"
     },
     "output_type": "display_data"
    }
   ],
   "source": [
    "sns.boxplot(df['Contact_age'])"
   ]
  },
  {
   "cell_type": "code",
   "execution_count": 32,
   "id": "187eba48",
   "metadata": {},
   "outputs": [],
   "source": [
    "df['Contact_age'].fillna(df['Contact_age'].median(),inplace = True)"
   ]
  },
  {
   "cell_type": "code",
   "execution_count": 33,
   "id": "1f1ab30f",
   "metadata": {},
   "outputs": [
    {
     "data": {
      "text/plain": [
       "ID                    0\n",
       "Compensation          0\n",
       "Vehicle_Status        0\n",
       "Loan_amt              0\n",
       "Annuity_amt           0\n",
       "density_Ind           0\n",
       "Job_Type              0\n",
       "Default_hist          0\n",
       "Prop_List             0\n",
       "Home_Appliances       0\n",
       "Region_Type           0\n",
       "Credit_Inq            0\n",
       "Education_det         0\n",
       "Marital_Stat          0\n",
       "Gen                   0\n",
       "Credit_Lnks           0\n",
       "Experience            0\n",
       "Income_Alt            0\n",
       "Day_Process           0\n",
       "Ph.No                 0\n",
       "Type_Loan             0\n",
       "Dependents            0\n",
       "Company_Rating        0\n",
       "Region                0\n",
       "Age                   0\n",
       "hour_Process          0\n",
       "Addr_permanent        0\n",
       "Permanent_Addr_tag    0\n",
       "c1_rated              0\n",
       "c2_rated              0\n",
       "Contact_age           0\n",
       "Product_bought        0\n",
       "Default               0\n",
       "dtype: int64"
      ]
     },
     "execution_count": 33,
     "metadata": {},
     "output_type": "execute_result"
    }
   ],
   "source": [
    "df.isnull().sum()"
   ]
  },
  {
   "cell_type": "code",
   "execution_count": 34,
   "id": "8c7adfec",
   "metadata": {},
   "outputs": [
    {
     "data": {
      "text/html": [
       "<div>\n",
       "<style scoped>\n",
       "    .dataframe tbody tr th:only-of-type {\n",
       "        vertical-align: middle;\n",
       "    }\n",
       "\n",
       "    .dataframe tbody tr th {\n",
       "        vertical-align: top;\n",
       "    }\n",
       "\n",
       "    .dataframe thead th {\n",
       "        text-align: right;\n",
       "    }\n",
       "</style>\n",
       "<table border=\"1\" class=\"dataframe\">\n",
       "  <thead>\n",
       "    <tr style=\"text-align: right;\">\n",
       "      <th></th>\n",
       "      <th>Vehicle_Status</th>\n",
       "      <th>Job_Type</th>\n",
       "      <th>Default_hist</th>\n",
       "      <th>Prop_List</th>\n",
       "      <th>Region_Type</th>\n",
       "      <th>Credit_Inq</th>\n",
       "      <th>Education_det</th>\n",
       "      <th>Marital_Stat</th>\n",
       "      <th>Gen</th>\n",
       "      <th>Credit_Lnks</th>\n",
       "      <th>Income_Alt</th>\n",
       "      <th>Day_Process</th>\n",
       "      <th>Ph.No</th>\n",
       "      <th>Type_Loan</th>\n",
       "      <th>Region</th>\n",
       "      <th>Addr_permanent</th>\n",
       "      <th>Permanent_Addr_tag</th>\n",
       "    </tr>\n",
       "  </thead>\n",
       "  <tbody>\n",
       "    <tr>\n",
       "      <th>0</th>\n",
       "      <td>Y</td>\n",
       "      <td>IT</td>\n",
       "      <td>ndf</td>\n",
       "      <td>Morethan_One</td>\n",
       "      <td>Metro</td>\n",
       "      <td>1</td>\n",
       "      <td>Grad</td>\n",
       "      <td>Married</td>\n",
       "      <td>F</td>\n",
       "      <td>1_to_3</td>\n",
       "      <td>Not_Specified</td>\n",
       "      <td>SAT</td>\n",
       "      <td>Yes</td>\n",
       "      <td>CLoan</td>\n",
       "      <td>East</td>\n",
       "      <td>Yes</td>\n",
       "      <td>No</td>\n",
       "    </tr>\n",
       "    <tr>\n",
       "      <th>1</th>\n",
       "      <td>N</td>\n",
       "      <td>IT</td>\n",
       "      <td>ndf</td>\n",
       "      <td>Morethan_One</td>\n",
       "      <td>Metro</td>\n",
       "      <td>2</td>\n",
       "      <td>Grad</td>\n",
       "      <td>Married</td>\n",
       "      <td>M</td>\n",
       "      <td>1_to_3</td>\n",
       "      <td>Not_Specified</td>\n",
       "      <td>wed</td>\n",
       "      <td>Yes</td>\n",
       "      <td>CLoan</td>\n",
       "      <td>North</td>\n",
       "      <td>Yes</td>\n",
       "      <td>Yes</td>\n",
       "    </tr>\n",
       "    <tr>\n",
       "      <th>2</th>\n",
       "      <td>N</td>\n",
       "      <td>Govt.</td>\n",
       "      <td>ndf</td>\n",
       "      <td>One</td>\n",
       "      <td>Metro</td>\n",
       "      <td>3</td>\n",
       "      <td>Other</td>\n",
       "      <td>Married</td>\n",
       "      <td>M</td>\n",
       "      <td>1_to_3</td>\n",
       "      <td>Not_Specified</td>\n",
       "      <td>mon</td>\n",
       "      <td>Yes</td>\n",
       "      <td>CLoan</td>\n",
       "      <td>North</td>\n",
       "      <td>Yes</td>\n",
       "      <td>Yes</td>\n",
       "    </tr>\n",
       "    <tr>\n",
       "      <th>3</th>\n",
       "      <td>N</td>\n",
       "      <td>Non-IT</td>\n",
       "      <td>df</td>\n",
       "      <td>None</td>\n",
       "      <td>Metro</td>\n",
       "      <td>1</td>\n",
       "      <td>Grad</td>\n",
       "      <td>Married</td>\n",
       "      <td>M</td>\n",
       "      <td>1_to_3</td>\n",
       "      <td>Not_Specified</td>\n",
       "      <td>wed</td>\n",
       "      <td>Yes</td>\n",
       "      <td>RLoan</td>\n",
       "      <td>South</td>\n",
       "      <td>Yes</td>\n",
       "      <td>Yes</td>\n",
       "    </tr>\n",
       "    <tr>\n",
       "      <th>4</th>\n",
       "      <td>Y</td>\n",
       "      <td>Non-IT</td>\n",
       "      <td>ndf</td>\n",
       "      <td>Morethan_One</td>\n",
       "      <td>Rural</td>\n",
       "      <td>2</td>\n",
       "      <td>Grad</td>\n",
       "      <td>Married</td>\n",
       "      <td>F</td>\n",
       "      <td>4_to_6</td>\n",
       "      <td>Y</td>\n",
       "      <td>Sun</td>\n",
       "      <td>Yes</td>\n",
       "      <td>CLoan</td>\n",
       "      <td>North</td>\n",
       "      <td>Yes</td>\n",
       "      <td>Yes</td>\n",
       "    </tr>\n",
       "  </tbody>\n",
       "</table>\n",
       "</div>"
      ],
      "text/plain": [
       "  Vehicle_Status Job_Type Default_hist     Prop_List Region_Type Credit_Inq  \\\n",
       "0              Y       IT          ndf  Morethan_One       Metro          1   \n",
       "1              N       IT          ndf  Morethan_One       Metro          2   \n",
       "2              N    Govt.          ndf           One       Metro          3   \n",
       "3              N   Non-IT           df          None       Metro          1   \n",
       "4              Y   Non-IT          ndf  Morethan_One       Rural          2   \n",
       "\n",
       "  Education_det Marital_Stat Gen Credit_Lnks     Income_Alt Day_Process Ph.No  \\\n",
       "0          Grad      Married   F      1_to_3  Not_Specified         SAT   Yes   \n",
       "1          Grad      Married   M      1_to_3  Not_Specified         wed   Yes   \n",
       "2         Other      Married   M      1_to_3  Not_Specified         mon   Yes   \n",
       "3          Grad      Married   M      1_to_3  Not_Specified         wed   Yes   \n",
       "4          Grad      Married   F      4_to_6              Y         Sun   Yes   \n",
       "\n",
       "  Type_Loan Region Addr_permanent Permanent_Addr_tag  \n",
       "0     CLoan   East            Yes                 No  \n",
       "1     CLoan  North            Yes                Yes  \n",
       "2     CLoan  North            Yes                Yes  \n",
       "3     RLoan  South            Yes                Yes  \n",
       "4     CLoan  North            Yes                Yes  "
      ]
     },
     "execution_count": 34,
     "metadata": {},
     "output_type": "execute_result"
    }
   ],
   "source": [
    "df_cat = df.select_dtypes(include = 'object')\n",
    "df_cat.head()"
   ]
  },
  {
   "cell_type": "code",
   "execution_count": 35,
   "id": "3ae9a66d",
   "metadata": {},
   "outputs": [
    {
     "data": {
      "text/html": [
       "<div>\n",
       "<style scoped>\n",
       "    .dataframe tbody tr th:only-of-type {\n",
       "        vertical-align: middle;\n",
       "    }\n",
       "\n",
       "    .dataframe tbody tr th {\n",
       "        vertical-align: top;\n",
       "    }\n",
       "\n",
       "    .dataframe thead th {\n",
       "        text-align: right;\n",
       "    }\n",
       "</style>\n",
       "<table border=\"1\" class=\"dataframe\">\n",
       "  <thead>\n",
       "    <tr style=\"text-align: right;\">\n",
       "      <th></th>\n",
       "      <th>ID</th>\n",
       "      <th>Compensation</th>\n",
       "      <th>Loan_amt</th>\n",
       "      <th>Annuity_amt</th>\n",
       "      <th>density_Ind</th>\n",
       "      <th>Home_Appliances</th>\n",
       "      <th>Experience</th>\n",
       "      <th>Dependents</th>\n",
       "      <th>Company_Rating</th>\n",
       "      <th>Age</th>\n",
       "      <th>hour_Process</th>\n",
       "      <th>c1_rated</th>\n",
       "      <th>c2_rated</th>\n",
       "      <th>Contact_age</th>\n",
       "      <th>Product_bought</th>\n",
       "      <th>Default</th>\n",
       "    </tr>\n",
       "  </thead>\n",
       "  <tbody>\n",
       "    <tr>\n",
       "      <th>0</th>\n",
       "      <td>540071</td>\n",
       "      <td>801850.0</td>\n",
       "      <td>658040.0</td>\n",
       "      <td>13816.52</td>\n",
       "      <td>0.0304</td>\n",
       "      <td>4.0</td>\n",
       "      <td>0.9</td>\n",
       "      <td>3.0</td>\n",
       "      <td>2.0</td>\n",
       "      <td>46.0</td>\n",
       "      <td>10.0</td>\n",
       "      <td>0.077</td>\n",
       "      <td>0.077</td>\n",
       "      <td>18.0</td>\n",
       "      <td>2.0</td>\n",
       "      <td>1.0</td>\n",
       "    </tr>\n",
       "    <tr>\n",
       "      <th>1</th>\n",
       "      <td>511643</td>\n",
       "      <td>884222.0</td>\n",
       "      <td>198075.0</td>\n",
       "      <td>11173.06</td>\n",
       "      <td>0.0194</td>\n",
       "      <td>1.0</td>\n",
       "      <td>3.0</td>\n",
       "      <td>3.0</td>\n",
       "      <td>1.0</td>\n",
       "      <td>46.0</td>\n",
       "      <td>12.0</td>\n",
       "      <td>0.184</td>\n",
       "      <td>0.184</td>\n",
       "      <td>306.0</td>\n",
       "      <td>4.0</td>\n",
       "      <td>0.0</td>\n",
       "    </tr>\n",
       "    <tr>\n",
       "      <th>2</th>\n",
       "      <td>506688</td>\n",
       "      <td>284120.0</td>\n",
       "      <td>101056.0</td>\n",
       "      <td>8390.40</td>\n",
       "      <td>0.0118</td>\n",
       "      <td>4.0</td>\n",
       "      <td>4.6</td>\n",
       "      <td>2.0</td>\n",
       "      <td>3.0</td>\n",
       "      <td>57.0</td>\n",
       "      <td>5.0</td>\n",
       "      <td>0.538</td>\n",
       "      <td>0.538</td>\n",
       "      <td>281.0</td>\n",
       "      <td>4.0</td>\n",
       "      <td>0.0</td>\n",
       "    </tr>\n",
       "    <tr>\n",
       "      <th>3</th>\n",
       "      <td>499360</td>\n",
       "      <td>341874.0</td>\n",
       "      <td>179008.0</td>\n",
       "      <td>7184.13</td>\n",
       "      <td>0.0373</td>\n",
       "      <td>2.0</td>\n",
       "      <td>4.7</td>\n",
       "      <td>4.0</td>\n",
       "      <td>2.0</td>\n",
       "      <td>39.0</td>\n",
       "      <td>12.0</td>\n",
       "      <td>0.500</td>\n",
       "      <td>0.561</td>\n",
       "      <td>20.0</td>\n",
       "      <td>4.0</td>\n",
       "      <td>0.0</td>\n",
       "    </tr>\n",
       "    <tr>\n",
       "      <th>4</th>\n",
       "      <td>438350</td>\n",
       "      <td>1259895.0</td>\n",
       "      <td>573715.0</td>\n",
       "      <td>13212.77</td>\n",
       "      <td>0.0138</td>\n",
       "      <td>1.0</td>\n",
       "      <td>6.9</td>\n",
       "      <td>3.0</td>\n",
       "      <td>1.0</td>\n",
       "      <td>32.0</td>\n",
       "      <td>16.0</td>\n",
       "      <td>0.500</td>\n",
       "      <td>0.200</td>\n",
       "      <td>2339.0</td>\n",
       "      <td>6.0</td>\n",
       "      <td>0.0</td>\n",
       "    </tr>\n",
       "  </tbody>\n",
       "</table>\n",
       "</div>"
      ],
      "text/plain": [
       "       ID  Compensation  Loan_amt  Annuity_amt  density_Ind  Home_Appliances  \\\n",
       "0  540071      801850.0  658040.0     13816.52       0.0304              4.0   \n",
       "1  511643      884222.0  198075.0     11173.06       0.0194              1.0   \n",
       "2  506688      284120.0  101056.0      8390.40       0.0118              4.0   \n",
       "3  499360      341874.0  179008.0      7184.13       0.0373              2.0   \n",
       "4  438350     1259895.0  573715.0     13212.77       0.0138              1.0   \n",
       "\n",
       "   Experience  Dependents  Company_Rating   Age  hour_Process  c1_rated  \\\n",
       "0         0.9         3.0             2.0  46.0          10.0     0.077   \n",
       "1         3.0         3.0             1.0  46.0          12.0     0.184   \n",
       "2         4.6         2.0             3.0  57.0           5.0     0.538   \n",
       "3         4.7         4.0             2.0  39.0          12.0     0.500   \n",
       "4         6.9         3.0             1.0  32.0          16.0     0.500   \n",
       "\n",
       "   c2_rated  Contact_age  Product_bought  Default  \n",
       "0     0.077         18.0             2.0      1.0  \n",
       "1     0.184        306.0             4.0      0.0  \n",
       "2     0.538        281.0             4.0      0.0  \n",
       "3     0.561         20.0             4.0      0.0  \n",
       "4     0.200       2339.0             6.0      0.0  "
      ]
     },
     "execution_count": 35,
     "metadata": {},
     "output_type": "execute_result"
    }
   ],
   "source": [
    "df_num = df.select_dtypes(include = np.number)\n",
    "df_num.head()"
   ]
  },
  {
   "cell_type": "code",
   "execution_count": 36,
   "id": "32b13645",
   "metadata": {},
   "outputs": [
    {
     "name": "stdout",
     "output_type": "stream",
     "text": [
      "Vehicle_Status\n",
      "N    0.683132\n",
      "Y    0.316868\n",
      "Name: Vehicle_Status, dtype: float64\n",
      "Job_Type\n",
      "IT        0.583132\n",
      "Non-IT    0.222652\n",
      "Govt.     0.194216\n",
      "Name: Job_Type, dtype: float64\n",
      "Default_hist\n",
      "ndf    0.899804\n",
      "df     0.100196\n",
      "Name: Default_hist, dtype: float64\n",
      "Prop_List\n",
      "One             0.706161\n",
      "Morethan_One    0.195530\n",
      "None            0.098309\n",
      "Name: Prop_List, dtype: float64\n",
      "Region_Type\n",
      "Metro    0.812051\n",
      "Rural    0.168212\n",
      "other    0.019737\n",
      "Name: Region_Type, dtype: float64\n",
      "Credit_Inq\n",
      "1     0.526744\n",
      "2     0.229251\n",
      "3     0.175008\n",
      ">4    0.068997\n",
      "Name: Credit_Inq, dtype: float64\n",
      "Education_det\n",
      "Grad      0.708683\n",
      "P_Grad    0.245069\n",
      "Other     0.046247\n",
      "Name: Education_det, dtype: float64\n",
      "Marital_Stat\n",
      "Married    0.737005\n",
      "Single     0.148475\n",
      "Divorce    0.063357\n",
      "Widow      0.051163\n",
      "Name: Marital_Stat, dtype: float64\n",
      "Gen\n",
      "M    0.657377\n",
      "F    0.342623\n",
      "Name: Gen, dtype: float64\n",
      "Credit_Lnks\n",
      "1_to_3    0.887979\n",
      "4_to_6    0.099532\n",
      ">6        0.012489\n",
      "Name: Credit_Lnks, dtype: float64\n",
      "Income_Alt\n",
      "Not_Specified    0.736409\n",
      "Y                0.263591\n",
      "Name: Income_Alt, dtype: float64\n",
      "Day_Process\n",
      "Tue     0.174766\n",
      "wed     0.169035\n",
      "thur    0.165796\n",
      "mon     0.165630\n",
      "Fri     0.163855\n",
      "SAT     0.109400\n",
      "Sun     0.051518\n",
      "Name: Day_Process, dtype: float64\n",
      "Ph.No\n",
      "Yes    0.79994\n",
      "No     0.20006\n",
      "Name: Ph.No, dtype: float64\n",
      "Type_Loan\n",
      "CLoan    0.905527\n",
      "RLoan    0.094473\n",
      "Name: Type_Loan, dtype: float64\n",
      "Region\n",
      "North      0.400944\n",
      "East       0.216060\n",
      "Central    0.205580\n",
      "South      0.177416\n",
      "Name: Region, dtype: float64\n",
      "Addr_permanent\n",
      "Yes    0.921912\n",
      "No     0.078088\n",
      "Name: Addr_permanent, dtype: float64\n",
      "Permanent_Addr_tag\n",
      "Yes    0.820115\n",
      "No     0.179885\n",
      "Name: Permanent_Addr_tag, dtype: float64\n"
     ]
    }
   ],
   "source": [
    "for i in df_cat.columns:\n",
    "    print(i)\n",
    "    print(df_cat[i].value_counts(normalize = True))\n",
    "    "
   ]
  },
  {
   "cell_type": "code",
   "execution_count": 37,
   "id": "db50dc0e",
   "metadata": {},
   "outputs": [],
   "source": [
    "df_num.drop('ID',axis = 1,inplace=True)"
   ]
  },
  {
   "cell_type": "code",
   "execution_count": 38,
   "id": "35d4d028",
   "metadata": {},
   "outputs": [],
   "source": [
    "plt.rcParams['figure.figsize']=[10,8]"
   ]
  },
  {
   "cell_type": "code",
   "execution_count": 39,
   "id": "95707791",
   "metadata": {},
   "outputs": [
    {
     "data": {
      "image/png": "[encoded data removed]",
      "text/plain": [
       "<Figure size 720x576 with 2 Axes>"
      ]
     },
     "metadata": {
      "needs_background": "light"
     },
     "output_type": "display_data"
    }
   ],
   "source": [
    "sns.heatmap(df_num.corr(),annot = True,vmin = -1,vmax = +1)\n",
    "plt.show()"
   ]
  },
  {
   "cell_type": "code",
   "execution_count": 40,
   "id": "e0bce76c",
   "metadata": {},
   "outputs": [],
   "source": [
    "plt.rcParams['figure.figsize']=[7,5]"
   ]
  },
  {
   "cell_type": "code",
   "execution_count": 41,
   "id": "edf78f43",
   "metadata": {},
   "outputs": [
    {
     "name": "stdout",
     "output_type": "stream",
     "text": [
      "Compensation\n"
     ]
    },
    {
     "data": {
      "image/png": "[encoded data removed]",
      "text/plain": [
       "<Figure size 504x360 with 1 Axes>"
      ]
     },
     "metadata": {
      "needs_background": "light"
     },
     "output_type": "display_data"
    },
    {
     "name": "stdout",
     "output_type": "stream",
     "text": [
      "Loan_amt\n"
     ]
    },
    {
     "data": {
      "image/png": "[encoded data removed]",
      "text/plain": [
       "<Figure size 504x360 with 1 Axes>"
      ]
     },
     "metadata": {
      "needs_background": "light"
     },
     "output_type": "display_data"
    },
    {
     "name": "stdout",
     "output_type": "stream",
     "text": [
      "Annuity_amt\n"
     ]
    },
    {
     "data": {
      "image/png": "[encoded data removed]",
      "text/plain": [
       "<Figure size 504x360 with 1 Axes>"
      ]
     },
     "metadata": {
      "needs_background": "light"
     },
     "output_type": "display_data"
    },
    {
     "name": "stdout",
     "output_type": "stream",
     "text": [
      "density_Ind\n"
     ]
    },
    {
     "data": {
      "image/png": "[encoded data removed]",
      "text/plain": [
       "<Figure size 504x360 with 1 Axes>"
      ]
     },
     "metadata": {
      "needs_background": "light"
     },
     "output_type": "display_data"
    },
    {
     "name": "stdout",
     "output_type": "stream",
     "text": [
      "Home_Appliances\n"
     ]
    },
    {
     "data": {
      "image/png": "[encoded data removed]",
      "text/plain": [
       "<Figure size 504x360 with 1 Axes>"
      ]
     },
     "metadata": {
      "needs_background": "light"
     },
     "output_type": "display_data"
    },
    {
     "name": "stdout",
     "output_type": "stream",
     "text": [
      "Experience\n"
     ]
    },
    {
     "data": {
      "image/png": "[encoded data removed]",
      "text/plain": [
       "<Figure size 504x360 with 1 Axes>"
      ]
     },
     "metadata": {
      "needs_background": "light"
     },
     "output_type": "display_data"
    },
    {
     "name": "stdout",
     "output_type": "stream",
     "text": [
      "Dependents\n"
     ]
    },
    {
     "data": {
      "image/png": "[encoded data removed]",
      "text/plain": [
       "<Figure size 504x360 with 1 Axes>"
      ]
     },
     "metadata": {
      "needs_background": "light"
     },
     "output_type": "display_data"
    },
    {
     "name": "stdout",
     "output_type": "stream",
     "text": [
      "Company_Rating\n"
     ]
    },
    {
     "data": {
      "image/png": "[encoded data removed]",
      "text/plain": [
       "<Figure size 504x360 with 1 Axes>"
      ]
     },
     "metadata": {
      "needs_background": "light"
     },
     "output_type": "display_data"
    },
    {
     "name": "stdout",
     "output_type": "stream",
     "text": [
      "Age\n"
     ]
    },
    {
     "data": {
      "image/png": "[encoded data removed]",
      "text/plain": [
       "<Figure size 504x360 with 1 Axes>"
      ]
     },
     "metadata": {
      "needs_background": "light"
     },
     "output_type": "display_data"
    },
    {
     "name": "stdout",
     "output_type": "stream",
     "text": [
      "hour_Process\n"
     ]
    },
    {
     "data": {
      "image/png": "[encoded data removed]",
      "text/plain": [
       "<Figure size 504x360 with 1 Axes>"
      ]
     },
     "metadata": {
      "needs_background": "light"
     },
     "output_type": "display_data"
    },
    {
     "name": "stdout",
     "output_type": "stream",
     "text": [
      "c1_rated\n"
     ]
    },
    {
     "data": {
      "image/png": "[encoded data removed]",
      "text/plain": [
       "<Figure size 504x360 with 1 Axes>"
      ]
     },
     "metadata": {
      "needs_background": "light"
     },
     "output_type": "display_data"
    },
    {
     "name": "stdout",
     "output_type": "stream",
     "text": [
      "c2_rated\n"
     ]
    },
    {
     "data": {
      "image/png": "[encoded data removed]",
      "text/plain": [
       "<Figure size 504x360 with 1 Axes>"
      ]
     },
     "metadata": {
      "needs_background": "light"
     },
     "output_type": "display_data"
    },
    {
     "name": "stdout",
     "output_type": "stream",
     "text": [
      "Contact_age\n"
     ]
    },
    {
     "data": {
      "image/png": "[encoded data removed]",
      "text/plain": [
       "<Figure size 504x360 with 1 Axes>"
      ]
     },
     "metadata": {
      "needs_background": "light"
     },
     "output_type": "display_data"
    },
    {
     "name": "stdout",
     "output_type": "stream",
     "text": [
      "Product_bought\n"
     ]
    },
    {
     "data": {
      "image/png": "[encoded data removed]",
      "text/plain": [
       "<Figure size 504x360 with 1 Axes>"
      ]
     },
     "metadata": {
      "needs_background": "light"
     },
     "output_type": "display_data"
    },
    {
     "name": "stdout",
     "output_type": "stream",
     "text": [
      "Default\n"
     ]
    },
    {
     "data": {
      "image/png": "[encoded data removed]",
      "text/plain": [
       "<Figure size 504x360 with 1 Axes>"
      ]
     },
     "metadata": {
      "needs_background": "light"
     },
     "output_type": "display_data"
    }
   ],
   "source": [
    "for i in df_num.columns:\n",
    "    print(i)\n",
    "    sns.boxplot(df['Default'],df[i])\n",
    "    plt.show()"
   ]
  },
  {
   "cell_type": "code",
   "execution_count": 42,
   "id": "6568c89a",
   "metadata": {},
   "outputs": [],
   "source": [
    "df.drop(columns = ['c1_rated'],inplace = True) ##Highly correlated with c2_rated .Therfore droped one of those ie c1_rated"
   ]
  },
  {
   "cell_type": "code",
   "execution_count": 43,
   "id": "aba616e2",
   "metadata": {},
   "outputs": [
    {
     "data": {
      "text/plain": [
       "count    1.324400e+05\n",
       "mean     7.413259e+05\n",
       "std      4.593658e+05\n",
       "min      1.527280e+05\n",
       "25%      5.251670e+05\n",
       "50%      6.659960e+05\n",
       "75%      8.657610e+05\n",
       "max      7.037702e+07\n",
       "Name: Compensation, dtype: float64"
      ]
     },
     "execution_count": 43,
     "metadata": {},
     "output_type": "execute_result"
    }
   ],
   "source": [
    "df['Compensation'].describe()"
   ]
  },
  {
   "cell_type": "markdown",
   "id": "aa07476f",
   "metadata": {},
   "source": [
    "In this section you can do all the Data cleaning part of all necessary imputations and treatments\n",
    "\n",
    "\n",
    "\n",
    "\n",
    "\n",
    "\n",
    "\n",
    "\n",
    "\n",
    "\n",
    "\n",
    "\n",
    "\n",
    "\n",
    "\n",
    "\n",
    "\n",
    "\n",
    "\n",
    "\n",
    "\n"
   ]
  },
  {
   "cell_type": "code",
   "execution_count": 44,
   "id": "40b9537c",
   "metadata": {
    "scrolled": true
   },
   "outputs": [
    {
     "data": {
      "text/html": [
       "<div>\n",
       "<style scoped>\n",
       "    .dataframe tbody tr th:only-of-type {\n",
       "        vertical-align: middle;\n",
       "    }\n",
       "\n",
       "    .dataframe tbody tr th {\n",
       "        vertical-align: top;\n",
       "    }\n",
       "\n",
       "    .dataframe thead th {\n",
       "        text-align: right;\n",
       "    }\n",
       "</style>\n",
       "<table border=\"1\" class=\"dataframe\">\n",
       "  <thead>\n",
       "    <tr style=\"text-align: right;\">\n",
       "      <th></th>\n",
       "      <th>Vehicle_Status</th>\n",
       "      <th>Job_Type</th>\n",
       "      <th>Default_hist</th>\n",
       "      <th>Prop_List</th>\n",
       "      <th>Region_Type</th>\n",
       "      <th>Credit_Inq</th>\n",
       "      <th>Education_det</th>\n",
       "      <th>Marital_Stat</th>\n",
       "      <th>Gen</th>\n",
       "      <th>Credit_Lnks</th>\n",
       "      <th>Income_Alt</th>\n",
       "      <th>Day_Process</th>\n",
       "      <th>Ph.No</th>\n",
       "      <th>Type_Loan</th>\n",
       "      <th>Region</th>\n",
       "      <th>Addr_permanent</th>\n",
       "      <th>Permanent_Addr_tag</th>\n",
       "    </tr>\n",
       "  </thead>\n",
       "  <tbody>\n",
       "    <tr>\n",
       "      <th>0</th>\n",
       "      <td>Y</td>\n",
       "      <td>IT</td>\n",
       "      <td>ndf</td>\n",
       "      <td>Morethan_One</td>\n",
       "      <td>Metro</td>\n",
       "      <td>1</td>\n",
       "      <td>Grad</td>\n",
       "      <td>Married</td>\n",
       "      <td>F</td>\n",
       "      <td>1_to_3</td>\n",
       "      <td>Not_Specified</td>\n",
       "      <td>SAT</td>\n",
       "      <td>Yes</td>\n",
       "      <td>CLoan</td>\n",
       "      <td>East</td>\n",
       "      <td>Yes</td>\n",
       "      <td>No</td>\n",
       "    </tr>\n",
       "    <tr>\n",
       "      <th>1</th>\n",
       "      <td>N</td>\n",
       "      <td>IT</td>\n",
       "      <td>ndf</td>\n",
       "      <td>Morethan_One</td>\n",
       "      <td>Metro</td>\n",
       "      <td>2</td>\n",
       "      <td>Grad</td>\n",
       "      <td>Married</td>\n",
       "      <td>M</td>\n",
       "      <td>1_to_3</td>\n",
       "      <td>Not_Specified</td>\n",
       "      <td>wed</td>\n",
       "      <td>Yes</td>\n",
       "      <td>CLoan</td>\n",
       "      <td>North</td>\n",
       "      <td>Yes</td>\n",
       "      <td>Yes</td>\n",
       "    </tr>\n",
       "    <tr>\n",
       "      <th>2</th>\n",
       "      <td>N</td>\n",
       "      <td>Govt.</td>\n",
       "      <td>ndf</td>\n",
       "      <td>One</td>\n",
       "      <td>Metro</td>\n",
       "      <td>3</td>\n",
       "      <td>Other</td>\n",
       "      <td>Married</td>\n",
       "      <td>M</td>\n",
       "      <td>1_to_3</td>\n",
       "      <td>Not_Specified</td>\n",
       "      <td>mon</td>\n",
       "      <td>Yes</td>\n",
       "      <td>CLoan</td>\n",
       "      <td>North</td>\n",
       "      <td>Yes</td>\n",
       "      <td>Yes</td>\n",
       "    </tr>\n",
       "    <tr>\n",
       "      <th>3</th>\n",
       "      <td>N</td>\n",
       "      <td>Non-IT</td>\n",
       "      <td>df</td>\n",
       "      <td>None</td>\n",
       "      <td>Metro</td>\n",
       "      <td>1</td>\n",
       "      <td>Grad</td>\n",
       "      <td>Married</td>\n",
       "      <td>M</td>\n",
       "      <td>1_to_3</td>\n",
       "      <td>Not_Specified</td>\n",
       "      <td>wed</td>\n",
       "      <td>Yes</td>\n",
       "      <td>RLoan</td>\n",
       "      <td>South</td>\n",
       "      <td>Yes</td>\n",
       "      <td>Yes</td>\n",
       "    </tr>\n",
       "    <tr>\n",
       "      <th>4</th>\n",
       "      <td>Y</td>\n",
       "      <td>Non-IT</td>\n",
       "      <td>ndf</td>\n",
       "      <td>Morethan_One</td>\n",
       "      <td>Rural</td>\n",
       "      <td>2</td>\n",
       "      <td>Grad</td>\n",
       "      <td>Married</td>\n",
       "      <td>F</td>\n",
       "      <td>4_to_6</td>\n",
       "      <td>Y</td>\n",
       "      <td>Sun</td>\n",
       "      <td>Yes</td>\n",
       "      <td>CLoan</td>\n",
       "      <td>North</td>\n",
       "      <td>Yes</td>\n",
       "      <td>Yes</td>\n",
       "    </tr>\n",
       "  </tbody>\n",
       "</table>\n",
       "</div>"
      ],
      "text/plain": [
       "  Vehicle_Status Job_Type Default_hist     Prop_List Region_Type Credit_Inq  \\\n",
       "0              Y       IT          ndf  Morethan_One       Metro          1   \n",
       "1              N       IT          ndf  Morethan_One       Metro          2   \n",
       "2              N    Govt.          ndf           One       Metro          3   \n",
       "3              N   Non-IT           df          None       Metro          1   \n",
       "4              Y   Non-IT          ndf  Morethan_One       Rural          2   \n",
       "\n",
       "  Education_det Marital_Stat Gen Credit_Lnks     Income_Alt Day_Process Ph.No  \\\n",
       "0          Grad      Married   F      1_to_3  Not_Specified         SAT   Yes   \n",
       "1          Grad      Married   M      1_to_3  Not_Specified         wed   Yes   \n",
       "2         Other      Married   M      1_to_3  Not_Specified         mon   Yes   \n",
       "3          Grad      Married   M      1_to_3  Not_Specified         wed   Yes   \n",
       "4          Grad      Married   F      4_to_6              Y         Sun   Yes   \n",
       "\n",
       "  Type_Loan Region Addr_permanent Permanent_Addr_tag  \n",
       "0     CLoan   East            Yes                 No  \n",
       "1     CLoan  North            Yes                Yes  \n",
       "2     CLoan  North            Yes                Yes  \n",
       "3     RLoan  South            Yes                Yes  \n",
       "4     CLoan  North            Yes                Yes  "
      ]
     },
     "execution_count": 44,
     "metadata": {},
     "output_type": "execute_result"
    }
   ],
   "source": [
    "df_cat.head()"
   ]
  },
  {
   "cell_type": "code",
   "execution_count": 45,
   "id": "c9fcfee3",
   "metadata": {},
   "outputs": [],
   "source": [
    "from warnings import filterwarnings\n",
    "filterwarnings('ignore')"
   ]
  },
  {
   "cell_type": "code",
   "execution_count": 46,
   "id": "d2c64832",
   "metadata": {},
   "outputs": [],
   "source": [
    "df_cat.drop(columns = ['Addr_permanent','Permanent_Addr_tag'],inplace = True)"
   ]
  },
  {
   "cell_type": "code",
   "execution_count": 47,
   "id": "38674f70",
   "metadata": {},
   "outputs": [],
   "source": [
    "df_cat.drop(columns = ['Day_Process','Ph.No'],inplace = True)"
   ]
  },
  {
   "cell_type": "code",
   "execution_count": 48,
   "id": "f8ba5728",
   "metadata": {},
   "outputs": [
    {
     "data": {
      "text/html": [
       "<div>\n",
       "<style scoped>\n",
       "    .dataframe tbody tr th:only-of-type {\n",
       "        vertical-align: middle;\n",
       "    }\n",
       "\n",
       "    .dataframe tbody tr th {\n",
       "        vertical-align: top;\n",
       "    }\n",
       "\n",
       "    .dataframe thead th {\n",
       "        text-align: right;\n",
       "    }\n",
       "</style>\n",
       "<table border=\"1\" class=\"dataframe\">\n",
       "  <thead>\n",
       "    <tr style=\"text-align: right;\">\n",
       "      <th></th>\n",
       "      <th>Vehicle_Status</th>\n",
       "      <th>Job_Type</th>\n",
       "      <th>Default_hist</th>\n",
       "      <th>Prop_List</th>\n",
       "      <th>Region_Type</th>\n",
       "      <th>Credit_Inq</th>\n",
       "      <th>Education_det</th>\n",
       "      <th>Marital_Stat</th>\n",
       "      <th>Gen</th>\n",
       "      <th>Credit_Lnks</th>\n",
       "      <th>Income_Alt</th>\n",
       "      <th>Type_Loan</th>\n",
       "      <th>Region</th>\n",
       "    </tr>\n",
       "  </thead>\n",
       "  <tbody>\n",
       "    <tr>\n",
       "      <th>0</th>\n",
       "      <td>Y</td>\n",
       "      <td>IT</td>\n",
       "      <td>ndf</td>\n",
       "      <td>Morethan_One</td>\n",
       "      <td>Metro</td>\n",
       "      <td>1</td>\n",
       "      <td>Grad</td>\n",
       "      <td>Married</td>\n",
       "      <td>F</td>\n",
       "      <td>1_to_3</td>\n",
       "      <td>Not_Specified</td>\n",
       "      <td>CLoan</td>\n",
       "      <td>East</td>\n",
       "    </tr>\n",
       "    <tr>\n",
       "      <th>1</th>\n",
       "      <td>N</td>\n",
       "      <td>IT</td>\n",
       "      <td>ndf</td>\n",
       "      <td>Morethan_One</td>\n",
       "      <td>Metro</td>\n",
       "      <td>2</td>\n",
       "      <td>Grad</td>\n",
       "      <td>Married</td>\n",
       "      <td>M</td>\n",
       "      <td>1_to_3</td>\n",
       "      <td>Not_Specified</td>\n",
       "      <td>CLoan</td>\n",
       "      <td>North</td>\n",
       "    </tr>\n",
       "    <tr>\n",
       "      <th>2</th>\n",
       "      <td>N</td>\n",
       "      <td>Govt.</td>\n",
       "      <td>ndf</td>\n",
       "      <td>One</td>\n",
       "      <td>Metro</td>\n",
       "      <td>3</td>\n",
       "      <td>Other</td>\n",
       "      <td>Married</td>\n",
       "      <td>M</td>\n",
       "      <td>1_to_3</td>\n",
       "      <td>Not_Specified</td>\n",
       "      <td>CLoan</td>\n",
       "      <td>North</td>\n",
       "    </tr>\n",
       "    <tr>\n",
       "      <th>3</th>\n",
       "      <td>N</td>\n",
       "      <td>Non-IT</td>\n",
       "      <td>df</td>\n",
       "      <td>None</td>\n",
       "      <td>Metro</td>\n",
       "      <td>1</td>\n",
       "      <td>Grad</td>\n",
       "      <td>Married</td>\n",
       "      <td>M</td>\n",
       "      <td>1_to_3</td>\n",
       "      <td>Not_Specified</td>\n",
       "      <td>RLoan</td>\n",
       "      <td>South</td>\n",
       "    </tr>\n",
       "    <tr>\n",
       "      <th>4</th>\n",
       "      <td>Y</td>\n",
       "      <td>Non-IT</td>\n",
       "      <td>ndf</td>\n",
       "      <td>Morethan_One</td>\n",
       "      <td>Rural</td>\n",
       "      <td>2</td>\n",
       "      <td>Grad</td>\n",
       "      <td>Married</td>\n",
       "      <td>F</td>\n",
       "      <td>4_to_6</td>\n",
       "      <td>Y</td>\n",
       "      <td>CLoan</td>\n",
       "      <td>North</td>\n",
       "    </tr>\n",
       "  </tbody>\n",
       "</table>\n",
       "</div>"
      ],
      "text/plain": [
       "  Vehicle_Status Job_Type Default_hist     Prop_List Region_Type Credit_Inq  \\\n",
       "0              Y       IT          ndf  Morethan_One       Metro          1   \n",
       "1              N       IT          ndf  Morethan_One       Metro          2   \n",
       "2              N    Govt.          ndf           One       Metro          3   \n",
       "3              N   Non-IT           df          None       Metro          1   \n",
       "4              Y   Non-IT          ndf  Morethan_One       Rural          2   \n",
       "\n",
       "  Education_det Marital_Stat Gen Credit_Lnks     Income_Alt Type_Loan Region  \n",
       "0          Grad      Married   F      1_to_3  Not_Specified     CLoan   East  \n",
       "1          Grad      Married   M      1_to_3  Not_Specified     CLoan  North  \n",
       "2         Other      Married   M      1_to_3  Not_Specified     CLoan  North  \n",
       "3          Grad      Married   M      1_to_3  Not_Specified     RLoan  South  \n",
       "4          Grad      Married   F      4_to_6              Y     CLoan  North  "
      ]
     },
     "execution_count": 48,
     "metadata": {},
     "output_type": "execute_result"
    }
   ],
   "source": [
    "df_cat.head()"
   ]
  },
  {
   "cell_type": "code",
   "execution_count": 50,
   "id": "d35e19ac",
   "metadata": {},
   "outputs": [
    {
     "data": {
      "text/plain": [
       "([<matplotlib.patches.Wedge at 0x27d33d28cd0>,\n",
       "  <matplotlib.patches.Wedge at 0x27d30b3b550>],\n",
       " [Text(-0.7420990605035872, 0.8119661226921314, '0'),\n",
       "  Text(0.742099060503587, -0.8119661226921315, '1')],\n",
       " [Text(-0.4047813057292293, 0.4428906123775262, '73.57'),\n",
       "  Text(0.40478130572922927, -0.44289061237752625, '26.43')])"
      ]
     },
     "execution_count": 50,
     "metadata": {},
     "output_type": "execute_result"
    },
    {
     "data": {
      "image/png": "[encoded data removed]",
      "text/plain": [
       "<Figure size 504x360 with 1 Axes>"
      ]
     },
     "metadata": {},
     "output_type": "display_data"
    }
   ],
   "source": [
    "plt.pie(df_num['Default'].value_counts(),labels = [0,1],autopct = '%.2f')"
   ]
  },
  {
   "cell_type": "code",
   "execution_count": 51,
   "id": "b110429c",
   "metadata": {},
   "outputs": [],
   "source": [
    "df_num.drop(columns = ['c1_rated'],inplace = True)"
   ]
  },
  {
   "cell_type": "code",
   "execution_count": 52,
   "id": "66fac5dd",
   "metadata": {
    "scrolled": true
   },
   "outputs": [
    {
     "data": {
      "text/html": [
       "<div>\n",
       "<style scoped>\n",
       "    .dataframe tbody tr th:only-of-type {\n",
       "        vertical-align: middle;\n",
       "    }\n",
       "\n",
       "    .dataframe tbody tr th {\n",
       "        vertical-align: top;\n",
       "    }\n",
       "\n",
       "    .dataframe thead th {\n",
       "        text-align: right;\n",
       "    }\n",
       "</style>\n",
       "<table border=\"1\" class=\"dataframe\">\n",
       "  <thead>\n",
       "    <tr style=\"text-align: right;\">\n",
       "      <th></th>\n",
       "      <th>Vehicle_Status</th>\n",
       "      <th>Job_Type</th>\n",
       "      <th>Default_hist</th>\n",
       "      <th>Prop_List</th>\n",
       "      <th>Region_Type</th>\n",
       "      <th>Credit_Inq</th>\n",
       "      <th>Education_det</th>\n",
       "      <th>Marital_Stat</th>\n",
       "      <th>Gen</th>\n",
       "      <th>Credit_Lnks</th>\n",
       "      <th>Income_Alt</th>\n",
       "      <th>Type_Loan</th>\n",
       "      <th>Region</th>\n",
       "    </tr>\n",
       "  </thead>\n",
       "  <tbody>\n",
       "    <tr>\n",
       "      <th>0</th>\n",
       "      <td>Y</td>\n",
       "      <td>IT</td>\n",
       "      <td>ndf</td>\n",
       "      <td>Morethan_One</td>\n",
       "      <td>Metro</td>\n",
       "      <td>1</td>\n",
       "      <td>Grad</td>\n",
       "      <td>Married</td>\n",
       "      <td>F</td>\n",
       "      <td>1_to_3</td>\n",
       "      <td>Not_Specified</td>\n",
       "      <td>CLoan</td>\n",
       "      <td>East</td>\n",
       "    </tr>\n",
       "    <tr>\n",
       "      <th>1</th>\n",
       "      <td>N</td>\n",
       "      <td>IT</td>\n",
       "      <td>ndf</td>\n",
       "      <td>Morethan_One</td>\n",
       "      <td>Metro</td>\n",
       "      <td>2</td>\n",
       "      <td>Grad</td>\n",
       "      <td>Married</td>\n",
       "      <td>M</td>\n",
       "      <td>1_to_3</td>\n",
       "      <td>Not_Specified</td>\n",
       "      <td>CLoan</td>\n",
       "      <td>North</td>\n",
       "    </tr>\n",
       "    <tr>\n",
       "      <th>2</th>\n",
       "      <td>N</td>\n",
       "      <td>Govt.</td>\n",
       "      <td>ndf</td>\n",
       "      <td>One</td>\n",
       "      <td>Metro</td>\n",
       "      <td>3</td>\n",
       "      <td>Other</td>\n",
       "      <td>Married</td>\n",
       "      <td>M</td>\n",
       "      <td>1_to_3</td>\n",
       "      <td>Not_Specified</td>\n",
       "      <td>CLoan</td>\n",
       "      <td>North</td>\n",
       "    </tr>\n",
       "    <tr>\n",
       "      <th>3</th>\n",
       "      <td>N</td>\n",
       "      <td>Non-IT</td>\n",
       "      <td>df</td>\n",
       "      <td>None</td>\n",
       "      <td>Metro</td>\n",
       "      <td>1</td>\n",
       "      <td>Grad</td>\n",
       "      <td>Married</td>\n",
       "      <td>M</td>\n",
       "      <td>1_to_3</td>\n",
       "      <td>Not_Specified</td>\n",
       "      <td>RLoan</td>\n",
       "      <td>South</td>\n",
       "    </tr>\n",
       "    <tr>\n",
       "      <th>4</th>\n",
       "      <td>Y</td>\n",
       "      <td>Non-IT</td>\n",
       "      <td>ndf</td>\n",
       "      <td>Morethan_One</td>\n",
       "      <td>Rural</td>\n",
       "      <td>2</td>\n",
       "      <td>Grad</td>\n",
       "      <td>Married</td>\n",
       "      <td>F</td>\n",
       "      <td>4_to_6</td>\n",
       "      <td>Y</td>\n",
       "      <td>CLoan</td>\n",
       "      <td>North</td>\n",
       "    </tr>\n",
       "  </tbody>\n",
       "</table>\n",
       "</div>"
      ],
      "text/plain": [
       "  Vehicle_Status Job_Type Default_hist     Prop_List Region_Type Credit_Inq  \\\n",
       "0              Y       IT          ndf  Morethan_One       Metro          1   \n",
       "1              N       IT          ndf  Morethan_One       Metro          2   \n",
       "2              N    Govt.          ndf           One       Metro          3   \n",
       "3              N   Non-IT           df          None       Metro          1   \n",
       "4              Y   Non-IT          ndf  Morethan_One       Rural          2   \n",
       "\n",
       "  Education_det Marital_Stat Gen Credit_Lnks     Income_Alt Type_Loan Region  \n",
       "0          Grad      Married   F      1_to_3  Not_Specified     CLoan   East  \n",
       "1          Grad      Married   M      1_to_3  Not_Specified     CLoan  North  \n",
       "2         Other      Married   M      1_to_3  Not_Specified     CLoan  North  \n",
       "3          Grad      Married   M      1_to_3  Not_Specified     RLoan  South  \n",
       "4          Grad      Married   F      4_to_6              Y     CLoan  North  "
      ]
     },
     "execution_count": 52,
     "metadata": {},
     "output_type": "execute_result"
    }
   ],
   "source": [
    "df_cat.head()"
   ]
  },
  {
   "cell_type": "markdown",
   "id": "98381e57",
   "metadata": {},
   "source": [
    "######  Statsistical Analysis"
   ]
  },
  {
   "cell_type": "code",
   "execution_count": 53,
   "id": "ff789f5f",
   "metadata": {},
   "outputs": [],
   "source": [
    "from scipy import stats\n",
    "from scipy.stats import chi2_contingency,chi2,chisquare"
   ]
  },
  {
   "cell_type": "code",
   "execution_count": 55,
   "id": "c3247a27",
   "metadata": {},
   "outputs": [],
   "source": [
    "### Chisquare contingency test to check  independence btw various categorical and target varible\n",
    "### H0 : The values are independent \n",
    "### H1 : The values are dependent \n",
    "### apla = 0.05(we are providing inferences with 95 percent of confidence)"
   ]
  },
  {
   "cell_type": "code",
   "execution_count": 54,
   "id": "fbc29fc9",
   "metadata": {},
   "outputs": [],
   "source": [
    "df_num['Default'] = df_num['Default'].astype('object')"
   ]
  },
  {
   "cell_type": "code",
   "execution_count": 55,
   "id": "2edf0e01",
   "metadata": {},
   "outputs": [],
   "source": [
    "lt = []\n",
    "def chi(x,y):\n",
    "    tab = pd.crosstab(x,y)\n",
    "    obs = tab.values\n",
    "    r = x.nunique()\n",
    "    c = y.nunique()\n",
    "    chi_crit = stats.chi2.isf(0.05,df = (r-1)*(c-1))\n",
    "    tval,pval,dof,exp_val = chi2_contingency(observed = obs,correction = False)\n",
    "    if tval>chi_crit and pval<0.05:\n",
    "        print('Null hypo rejected ',i,' and Default are dependent' )\n",
    "        lt.append(i)\n",
    "    else:\n",
    "        print('Null hypo accepted  ',i,' and Default are independent' )\n",
    "        "
   ]
  },
  {
   "cell_type": "code",
   "execution_count": 56,
   "id": "16d35fc7",
   "metadata": {},
   "outputs": [
    {
     "name": "stdout",
     "output_type": "stream",
     "text": [
      "Null hypo rejected  Vehicle_Status  and Default are dependent\n",
      "Null hypo accepted   Job_Type  and Default are independent\n",
      "Null hypo accepted   Default_hist  and Default are independent\n",
      "Null hypo accepted   Prop_List  and Default are independent\n",
      "Null hypo accepted   Region_Type  and Default are independent\n",
      "Null hypo rejected  Credit_Inq  and Default are dependent\n",
      "Null hypo rejected  Education_det  and Default are dependent\n",
      "Null hypo accepted   Marital_Stat  and Default are independent\n",
      "Null hypo rejected  Gen  and Default are dependent\n",
      "Null hypo rejected  Credit_Lnks  and Default are dependent\n",
      "Null hypo accepted   Income_Alt  and Default are independent\n",
      "Null hypo rejected  Type_Loan  and Default are dependent\n",
      "Null hypo rejected  Region  and Default are dependent\n"
     ]
    }
   ],
   "source": [
    "for i in df_cat.columns:\n",
    "    chi(df_cat[i],df_num['Default'])"
   ]
  },
  {
   "cell_type": "code",
   "execution_count": 57,
   "id": "98de72ce",
   "metadata": {},
   "outputs": [
    {
     "name": "stdout",
     "output_type": "stream",
     "text": [
      "['Vehicle_Status', 'Credit_Inq', 'Education_det', 'Gen', 'Credit_Lnks', 'Type_Loan', 'Region']\n"
     ]
    }
   ],
   "source": [
    "print(lt)"
   ]
  },
  {
   "cell_type": "markdown",
   "id": "f570f0b0",
   "metadata": {},
   "source": [
    "##### Inference \n",
    "######  The variables 'Vehicle_Status', 'Credit_Inq', 'Education_det', 'Gen', 'Credit_Lnks', 'Type_Loan', 'Region' have \n",
    "###### an impact of whether the loaner would default the loan or not."
   ]
  },
  {
   "cell_type": "code",
   "execution_count": 58,
   "id": "ea19ed2a",
   "metadata": {},
   "outputs": [],
   "source": [
    "### ANN0VA test to check  independence btw various numerical and target varible\n",
    "### H0 : The means are equal ie  values are independent \n",
    "### H1 : The means are different ie the values are dependent \n",
    "### apla = 0.05(we are providing inferences with 95 percent of confidence)\n",
    "### Asuming the data is normal and has equal variance"
   ]
  },
  {
   "cell_type": "code",
   "execution_count": 59,
   "id": "2992a95c",
   "metadata": {},
   "outputs": [
    {
     "data": {
      "text/plain": [
       "Compensation       51.249445\n",
       "Loan_amt            1.375253\n",
       "Annuity_amt         0.688440\n",
       "density_Ind        55.603200\n",
       "Home_Appliances    -1.133765\n",
       "Experience          2.233831\n",
       "Dependents          0.886568\n",
       "Company_Rating      0.076357\n",
       "Age                 0.118174\n",
       "hour_Process       -0.021477\n",
       "c2_rated           -0.018369\n",
       "Contact_age         0.780406\n",
       "Product_bought      0.798961\n",
       "Default             1.069039\n",
       "dtype: float64"
      ]
     },
     "execution_count": 59,
     "metadata": {},
     "output_type": "execute_result"
    }
   ],
   "source": [
    "df_num.skew()"
   ]
  },
  {
   "cell_type": "code",
   "execution_count": 60,
   "id": "2f4f9676",
   "metadata": {},
   "outputs": [
    {
     "data": {
      "text/plain": [
       "0.425646979907237"
      ]
     },
     "execution_count": 60,
     "metadata": {},
     "output_type": "execute_result"
    }
   ],
   "source": [
    "np.log(df_num['Compensation']).skew()"
   ]
  },
  {
   "cell_type": "code",
   "execution_count": 61,
   "id": "9fab990a",
   "metadata": {},
   "outputs": [
    {
     "data": {
      "text/plain": [
       "Compensation       2.110169e+11\n",
       "Loan_amt           7.544843e+10\n",
       "Annuity_amt        4.102110e+06\n",
       "density_Ind        2.180101e-04\n",
       "Home_Appliances    1.460387e+00\n",
       "Experience         3.428673e+01\n",
       "Dependents         8.263649e-01\n",
       "Company_Rating     2.313616e-01\n",
       "Age                1.431062e+02\n",
       "hour_Process       1.272145e+01\n",
       "c2_rated           6.494865e-02\n",
       "Contact_age        6.484526e+05\n",
       "Product_bought     4.722996e+00\n",
       "Default            1.944474e-01\n",
       "dtype: float64"
      ]
     },
     "execution_count": 61,
     "metadata": {},
     "output_type": "execute_result"
    }
   ],
   "source": [
    "df_num.var()"
   ]
  },
  {
   "cell_type": "code",
   "execution_count": 62,
   "id": "71b6c04b",
   "metadata": {},
   "outputs": [],
   "source": [
    "from sklearn.preprocessing import PowerTransformer\n",
    "pt = PowerTransformer()"
   ]
  },
  {
   "cell_type": "code",
   "execution_count": 63,
   "id": "bbe2a555",
   "metadata": {},
   "outputs": [],
   "source": [
    "xt = pt.fit_transform(df_num)\n",
    "df_num = pd.DataFrame(data = xt,columns = df_num.columns)"
   ]
  },
  {
   "cell_type": "code",
   "execution_count": 64,
   "id": "c3888f08",
   "metadata": {},
   "outputs": [
    {
     "data": {
      "text/plain": [
       "Compensation       0.000000\n",
       "Loan_amt          -0.012618\n",
       "Annuity_amt        0.000000\n",
       "density_Ind       -0.037286\n",
       "Home_Appliances    2.120848\n",
       "Experience         0.002800\n",
       "Dependents         0.006796\n",
       "Company_Rating     0.069004\n",
       "Age               -0.053664\n",
       "hour_Process      -0.016229\n",
       "c2_rated          -0.058611\n",
       "Contact_age       -0.267519\n",
       "Product_bought    -0.021951\n",
       "Default            1.069039\n",
       "dtype: float64"
      ]
     },
     "execution_count": 64,
     "metadata": {},
     "output_type": "execute_result"
    }
   ],
   "source": [
    "df_num.skew()"
   ]
  },
  {
   "cell_type": "code",
   "execution_count": 65,
   "id": "6e42327c",
   "metadata": {},
   "outputs": [
    {
     "data": {
      "image/png": "[encoded data removed]",
      "text/plain": [
       "<Figure size 504x360 with 1 Axes>"
      ]
     },
     "metadata": {
      "needs_background": "light"
     },
     "output_type": "display_data"
    },
    {
     "data": {
      "image/png": "[encoded data removed]",
      "text/plain": [
       "<Figure size 504x360 with 1 Axes>"
      ]
     },
     "metadata": {
      "needs_background": "light"
     },
     "output_type": "display_data"
    },
    {
     "data": {
      "image/png": "[encoded data removed]",
      "text/plain": [
       "<Figure size 504x360 with 1 Axes>"
      ]
     },
     "metadata": {
      "needs_background": "light"
     },
     "output_type": "display_data"
    },
    {
     "data": {
      "image/png": "[encoded data removed]",
      "text/plain": [
       "<Figure size 504x360 with 1 Axes>"
      ]
     },
     "metadata": {
      "needs_background": "light"
     },
     "output_type": "display_data"
    },
    {
     "data": {
      "image/png": "[encoded data removed]",
      "text/plain": [
       "<Figure size 504x360 with 1 Axes>"
      ]
     },
     "metadata": {
      "needs_background": "light"
     },
     "output_type": "display_data"
    },
    {
     "data": {
      "image/png": "[encoded data removed]",
      "text/plain": [
       "<Figure size 504x360 with 1 Axes>"
      ]
     },
     "metadata": {
      "needs_background": "light"
     },
     "output_type": "display_data"
    },
    {
     "data": {
      "image/png": "[encoded data removed]",
      "text/plain": [
       "<Figure size 504x360 with 1 Axes>"
      ]
     },
     "metadata": {
      "needs_background": "light"
     },
     "output_type": "display_data"
    },
    {
     "data": {
      "image/png": "[encoded data removed]",
      "text/plain": [
       "<Figure size 504x360 with 1 Axes>"
      ]
     },
     "metadata": {
      "needs_background": "light"
     },
     "output_type": "display_data"
    },
    {
     "data": {
      "image/png": "[encoded data removed]",
      "text/plain": [
       "<Figure size 504x360 with 1 Axes>"
      ]
     },
     "metadata": {
      "needs_background": "light"
     },
     "output_type": "display_data"
    },
    {
     "data": {
      "image/png": "[encoded data removed]",
      "text/plain": [
       "<Figure size 504x360 with 1 Axes>"
      ]
     },
     "metadata": {
      "needs_background": "light"
     },
     "output_type": "display_data"
    },
    {
     "data": {
      "image/png": "[encoded data removed]",
      "text/plain": [
       "<Figure size 504x360 with 1 Axes>"
      ]
     },
     "metadata": {
      "needs_background": "light"
     },
     "output_type": "display_data"
    },
    {
     "data": {
      "image/png": "[encoded data removed]",
      "text/plain": [
       "<Figure size 504x360 with 1 Axes>"
      ]
     },
     "metadata": {
      "needs_background": "light"
     },
     "output_type": "display_data"
    },
    {
     "data": {
      "image/png": "[encoded data removed]",
      "text/plain": [
       "<Figure size 504x360 with 1 Axes>"
      ]
     },
     "metadata": {
      "needs_background": "light"
     },
     "output_type": "display_data"
    },
    {
     "data": {
      "image/png": "[encoded data removed]",
      "text/plain": [
       "<Figure size 504x360 with 1 Axes>"
      ]
     },
     "metadata": {
      "needs_background": "light"
     },
     "output_type": "display_data"
    }
   ],
   "source": [
    "for i in df_num.columns:\n",
    "    sns.distplot(df_num[i])\n",
    "    plt.show()\n",
    "    "
   ]
  },
  {
   "cell_type": "code",
   "execution_count": 66,
   "id": "d5f923e0",
   "metadata": {},
   "outputs": [],
   "source": [
    "from sklearn.preprocessing import StandardScaler\n",
    "SS = StandardScaler()"
   ]
  },
  {
   "cell_type": "code",
   "execution_count": 67,
   "id": "9fca1f70",
   "metadata": {},
   "outputs": [],
   "source": [
    "df_num_scaled = pd.DataFrame(SS.fit_transform(df_num),columns = df_num.columns)"
   ]
  },
  {
   "cell_type": "code",
   "execution_count": 68,
   "id": "443f1677",
   "metadata": {},
   "outputs": [
    {
     "data": {
      "text/plain": [
       "Compensation       0.000000\n",
       "Loan_amt           1.000008\n",
       "Annuity_amt        0.000000\n",
       "density_Ind        1.000008\n",
       "Home_Appliances    1.000008\n",
       "Experience         1.000008\n",
       "Dependents         1.000008\n",
       "Company_Rating     1.000008\n",
       "Age                1.000008\n",
       "hour_Process       1.000008\n",
       "c2_rated           1.000008\n",
       "Contact_age        1.000008\n",
       "Product_bought     1.000008\n",
       "Default            1.000008\n",
       "dtype: float64"
      ]
     },
     "execution_count": 68,
     "metadata": {},
     "output_type": "execute_result"
    }
   ],
   "source": [
    "df_num_scaled.var()"
   ]
  },
  {
   "cell_type": "code",
   "execution_count": 69,
   "id": "97d136ce",
   "metadata": {},
   "outputs": [],
   "source": [
    "df_num_scaled.drop(columns = ['Default'],inplace = True)"
   ]
  },
  {
   "cell_type": "code",
   "execution_count": 70,
   "id": "fff194da",
   "metadata": {},
   "outputs": [],
   "source": [
    "## Assumptions satisfied, i-e normal data with more or less equal variances"
   ]
  },
  {
   "cell_type": "code",
   "execution_count": 71,
   "id": "fd38b14d",
   "metadata": {},
   "outputs": [],
   "source": [
    "df_cat_dummy = pd.get_dummies(df_cat,drop_first = True)"
   ]
  },
  {
   "cell_type": "code",
   "execution_count": 72,
   "id": "bbb33012",
   "metadata": {
    "scrolled": true
   },
   "outputs": [
    {
     "data": {
      "text/html": [
       "<div>\n",
       "<style scoped>\n",
       "    .dataframe tbody tr th:only-of-type {\n",
       "        vertical-align: middle;\n",
       "    }\n",
       "\n",
       "    .dataframe tbody tr th {\n",
       "        vertical-align: top;\n",
       "    }\n",
       "\n",
       "    .dataframe thead th {\n",
       "        text-align: right;\n",
       "    }\n",
       "</style>\n",
       "<table border=\"1\" class=\"dataframe\">\n",
       "  <thead>\n",
       "    <tr style=\"text-align: right;\">\n",
       "      <th></th>\n",
       "      <th>Vehicle_Status_Y</th>\n",
       "      <th>Job_Type_IT</th>\n",
       "      <th>Job_Type_Non-IT</th>\n",
       "      <th>Default_hist_ndf</th>\n",
       "      <th>Prop_List_None</th>\n",
       "      <th>Prop_List_One</th>\n",
       "      <th>Region_Type_Rural</th>\n",
       "      <th>Region_Type_other</th>\n",
       "      <th>Credit_Inq_2</th>\n",
       "      <th>Credit_Inq_3</th>\n",
       "      <th>...</th>\n",
       "      <th>Marital_Stat_Single</th>\n",
       "      <th>Marital_Stat_Widow</th>\n",
       "      <th>Gen_M</th>\n",
       "      <th>Credit_Lnks_4_to_6</th>\n",
       "      <th>Credit_Lnks_&gt;6</th>\n",
       "      <th>Income_Alt_Y</th>\n",
       "      <th>Type_Loan_RLoan</th>\n",
       "      <th>Region_East</th>\n",
       "      <th>Region_North</th>\n",
       "      <th>Region_South</th>\n",
       "    </tr>\n",
       "  </thead>\n",
       "  <tbody>\n",
       "    <tr>\n",
       "      <th>0</th>\n",
       "      <td>1</td>\n",
       "      <td>1</td>\n",
       "      <td>0</td>\n",
       "      <td>1</td>\n",
       "      <td>0</td>\n",
       "      <td>0</td>\n",
       "      <td>0</td>\n",
       "      <td>0</td>\n",
       "      <td>0</td>\n",
       "      <td>0</td>\n",
       "      <td>...</td>\n",
       "      <td>0</td>\n",
       "      <td>0</td>\n",
       "      <td>0</td>\n",
       "      <td>0</td>\n",
       "      <td>0</td>\n",
       "      <td>0</td>\n",
       "      <td>0</td>\n",
       "      <td>1</td>\n",
       "      <td>0</td>\n",
       "      <td>0</td>\n",
       "    </tr>\n",
       "    <tr>\n",
       "      <th>1</th>\n",
       "      <td>0</td>\n",
       "      <td>1</td>\n",
       "      <td>0</td>\n",
       "      <td>1</td>\n",
       "      <td>0</td>\n",
       "      <td>0</td>\n",
       "      <td>0</td>\n",
       "      <td>0</td>\n",
       "      <td>1</td>\n",
       "      <td>0</td>\n",
       "      <td>...</td>\n",
       "      <td>0</td>\n",
       "      <td>0</td>\n",
       "      <td>1</td>\n",
       "      <td>0</td>\n",
       "      <td>0</td>\n",
       "      <td>0</td>\n",
       "      <td>0</td>\n",
       "      <td>0</td>\n",
       "      <td>1</td>\n",
       "      <td>0</td>\n",
       "    </tr>\n",
       "    <tr>\n",
       "      <th>2</th>\n",
       "      <td>0</td>\n",
       "      <td>0</td>\n",
       "      <td>0</td>\n",
       "      <td>1</td>\n",
       "      <td>0</td>\n",
       "      <td>1</td>\n",
       "      <td>0</td>\n",
       "      <td>0</td>\n",
       "      <td>0</td>\n",
       "      <td>1</td>\n",
       "      <td>...</td>\n",
       "      <td>0</td>\n",
       "      <td>0</td>\n",
       "      <td>1</td>\n",
       "      <td>0</td>\n",
       "      <td>0</td>\n",
       "      <td>0</td>\n",
       "      <td>0</td>\n",
       "      <td>0</td>\n",
       "      <td>1</td>\n",
       "      <td>0</td>\n",
       "    </tr>\n",
       "    <tr>\n",
       "      <th>3</th>\n",
       "      <td>0</td>\n",
       "      <td>0</td>\n",
       "      <td>1</td>\n",
       "      <td>0</td>\n",
       "      <td>1</td>\n",
       "      <td>0</td>\n",
       "      <td>0</td>\n",
       "      <td>0</td>\n",
       "      <td>0</td>\n",
       "      <td>0</td>\n",
       "      <td>...</td>\n",
       "      <td>0</td>\n",
       "      <td>0</td>\n",
       "      <td>1</td>\n",
       "      <td>0</td>\n",
       "      <td>0</td>\n",
       "      <td>0</td>\n",
       "      <td>1</td>\n",
       "      <td>0</td>\n",
       "      <td>0</td>\n",
       "      <td>1</td>\n",
       "    </tr>\n",
       "    <tr>\n",
       "      <th>4</th>\n",
       "      <td>1</td>\n",
       "      <td>0</td>\n",
       "      <td>1</td>\n",
       "      <td>1</td>\n",
       "      <td>0</td>\n",
       "      <td>0</td>\n",
       "      <td>1</td>\n",
       "      <td>0</td>\n",
       "      <td>1</td>\n",
       "      <td>0</td>\n",
       "      <td>...</td>\n",
       "      <td>0</td>\n",
       "      <td>0</td>\n",
       "      <td>0</td>\n",
       "      <td>1</td>\n",
       "      <td>0</td>\n",
       "      <td>1</td>\n",
       "      <td>0</td>\n",
       "      <td>0</td>\n",
       "      <td>1</td>\n",
       "      <td>0</td>\n",
       "    </tr>\n",
       "  </tbody>\n",
       "</table>\n",
       "<p>5 rows × 24 columns</p>\n",
       "</div>"
      ],
      "text/plain": [
       "   Vehicle_Status_Y  Job_Type_IT  Job_Type_Non-IT  Default_hist_ndf  \\\n",
       "0                 1            1                0                 1   \n",
       "1                 0            1                0                 1   \n",
       "2                 0            0                0                 1   \n",
       "3                 0            0                1                 0   \n",
       "4                 1            0                1                 1   \n",
       "\n",
       "   Prop_List_None  Prop_List_One  Region_Type_Rural  Region_Type_other  \\\n",
       "0               0              0                  0                  0   \n",
       "1               0              0                  0                  0   \n",
       "2               0              1                  0                  0   \n",
       "3               1              0                  0                  0   \n",
       "4               0              0                  1                  0   \n",
       "\n",
       "   Credit_Inq_2  Credit_Inq_3  ...  Marital_Stat_Single  Marital_Stat_Widow  \\\n",
       "0             0             0  ...                    0                   0   \n",
       "1             1             0  ...                    0                   0   \n",
       "2             0             1  ...                    0                   0   \n",
       "3             0             0  ...                    0                   0   \n",
       "4             1             0  ...                    0                   0   \n",
       "\n",
       "   Gen_M  Credit_Lnks_4_to_6  Credit_Lnks_>6  Income_Alt_Y  Type_Loan_RLoan  \\\n",
       "0      0                   0               0             0                0   \n",
       "1      1                   0               0             0                0   \n",
       "2      1                   0               0             0                0   \n",
       "3      1                   0               0             0                1   \n",
       "4      0                   1               0             1                0   \n",
       "\n",
       "   Region_East  Region_North  Region_South  \n",
       "0            1             0             0  \n",
       "1            0             1             0  \n",
       "2            0             1             0  \n",
       "3            0             0             1  \n",
       "4            0             1             0  \n",
       "\n",
       "[5 rows x 24 columns]"
      ]
     },
     "execution_count": 72,
     "metadata": {},
     "output_type": "execute_result"
    }
   ],
   "source": [
    "df_cat_dummy.head()"
   ]
  },
  {
   "cell_type": "code",
   "execution_count": 73,
   "id": "7226d1a7",
   "metadata": {
    "scrolled": true
   },
   "outputs": [
    {
     "data": {
      "text/html": [
       "<div>\n",
       "<style scoped>\n",
       "    .dataframe tbody tr th:only-of-type {\n",
       "        vertical-align: middle;\n",
       "    }\n",
       "\n",
       "    .dataframe tbody tr th {\n",
       "        vertical-align: top;\n",
       "    }\n",
       "\n",
       "    .dataframe thead th {\n",
       "        text-align: right;\n",
       "    }\n",
       "</style>\n",
       "<table border=\"1\" class=\"dataframe\">\n",
       "  <thead>\n",
       "    <tr style=\"text-align: right;\">\n",
       "      <th></th>\n",
       "      <th>Compensation</th>\n",
       "      <th>Loan_amt</th>\n",
       "      <th>Annuity_amt</th>\n",
       "      <th>density_Ind</th>\n",
       "      <th>Home_Appliances</th>\n",
       "      <th>Experience</th>\n",
       "      <th>Dependents</th>\n",
       "      <th>Company_Rating</th>\n",
       "      <th>Age</th>\n",
       "      <th>hour_Process</th>\n",
       "      <th>c2_rated</th>\n",
       "      <th>Contact_age</th>\n",
       "      <th>Product_bought</th>\n",
       "    </tr>\n",
       "  </thead>\n",
       "  <tbody>\n",
       "    <tr>\n",
       "      <th>0</th>\n",
       "      <td>0.0</td>\n",
       "      <td>1.009943</td>\n",
       "      <td>0.0</td>\n",
       "      <td>0.888069</td>\n",
       "      <td>0.580147</td>\n",
       "      <td>-1.548728</td>\n",
       "      <td>0.991634</td>\n",
       "      <td>-0.057155</td>\n",
       "      <td>0.228539</td>\n",
       "      <td>-0.578563</td>\n",
       "      <td>-1.721084</td>\n",
       "      <td>-1.671860</td>\n",
       "      <td>-0.553063</td>\n",
       "    </tr>\n",
       "    <tr>\n",
       "      <th>1</th>\n",
       "      <td>0.0</td>\n",
       "      <td>-0.801363</td>\n",
       "      <td>0.0</td>\n",
       "      <td>-0.048501</td>\n",
       "      <td>-1.750963</td>\n",
       "      <td>-0.463483</td>\n",
       "      <td>0.991634</td>\n",
       "      <td>-2.139674</td>\n",
       "      <td>0.228539</td>\n",
       "      <td>-0.017970</td>\n",
       "      <td>-1.272932</td>\n",
       "      <td>-0.647768</td>\n",
       "      <td>0.409713</td>\n",
       "    </tr>\n",
       "    <tr>\n",
       "      <th>2</th>\n",
       "      <td>0.0</td>\n",
       "      <td>-1.717829</td>\n",
       "      <td>0.0</td>\n",
       "      <td>-0.739552</td>\n",
       "      <td>0.580147</td>\n",
       "      <td>0.014096</td>\n",
       "      <td>-0.015691</td>\n",
       "      <td>2.018931</td>\n",
       "      <td>1.080244</td>\n",
       "      <td>-1.976878</td>\n",
       "      <td>0.146886</td>\n",
       "      <td>-0.700206</td>\n",
       "      <td>0.409713</td>\n",
       "    </tr>\n",
       "    <tr>\n",
       "      <th>3</th>\n",
       "      <td>0.0</td>\n",
       "      <td>-0.943523</td>\n",
       "      <td>0.0</td>\n",
       "      <td>1.439674</td>\n",
       "      <td>-1.264533</td>\n",
       "      <td>0.038999</td>\n",
       "      <td>1.739385</td>\n",
       "      <td>-0.057155</td>\n",
       "      <td>-0.359573</td>\n",
       "      <td>-0.017970</td>\n",
       "      <td>0.236263</td>\n",
       "      <td>-1.652236</td>\n",
       "      <td>0.409713</td>\n",
       "    </tr>\n",
       "    <tr>\n",
       "      <th>4</th>\n",
       "      <td>0.0</td>\n",
       "      <td>0.790893</td>\n",
       "      <td>0.0</td>\n",
       "      <td>-0.554055</td>\n",
       "      <td>-1.750963</td>\n",
       "      <td>0.494363</td>\n",
       "      <td>0.991634</td>\n",
       "      <td>-2.139674</td>\n",
       "      <td>-0.994709</td>\n",
       "      <td>1.104783</td>\n",
       "      <td>-1.206763</td>\n",
       "      <td>1.382892</td>\n",
       "      <td>1.172224</td>\n",
       "    </tr>\n",
       "  </tbody>\n",
       "</table>\n",
       "</div>"
      ],
      "text/plain": [
       "   Compensation  Loan_amt  Annuity_amt  density_Ind  Home_Appliances  \\\n",
       "0           0.0  1.009943          0.0     0.888069         0.580147   \n",
       "1           0.0 -0.801363          0.0    -0.048501        -1.750963   \n",
       "2           0.0 -1.717829          0.0    -0.739552         0.580147   \n",
       "3           0.0 -0.943523          0.0     1.439674        -1.264533   \n",
       "4           0.0  0.790893          0.0    -0.554055        -1.750963   \n",
       "\n",
       "   Experience  Dependents  Company_Rating       Age  hour_Process  c2_rated  \\\n",
       "0   -1.548728    0.991634       -0.057155  0.228539     -0.578563 -1.721084   \n",
       "1   -0.463483    0.991634       -2.139674  0.228539     -0.017970 -1.272932   \n",
       "2    0.014096   -0.015691        2.018931  1.080244     -1.976878  0.146886   \n",
       "3    0.038999    1.739385       -0.057155 -0.359573     -0.017970  0.236263   \n",
       "4    0.494363    0.991634       -2.139674 -0.994709      1.104783 -1.206763   \n",
       "\n",
       "   Contact_age  Product_bought  \n",
       "0    -1.671860       -0.553063  \n",
       "1    -0.647768        0.409713  \n",
       "2    -0.700206        0.409713  \n",
       "3    -1.652236        0.409713  \n",
       "4     1.382892        1.172224  "
      ]
     },
     "execution_count": 73,
     "metadata": {},
     "output_type": "execute_result"
    }
   ],
   "source": [
    "df_num_scaled.head()"
   ]
  },
  {
   "cell_type": "code",
   "execution_count": 74,
   "id": "e8e0b3bd",
   "metadata": {},
   "outputs": [],
   "source": [
    "df_num_scaled['Default'] = dff['Default']"
   ]
  },
  {
   "cell_type": "code",
   "execution_count": 75,
   "id": "62568651",
   "metadata": {},
   "outputs": [
    {
     "data": {
      "text/html": [
       "<div>\n",
       "<style scoped>\n",
       "    .dataframe tbody tr th:only-of-type {\n",
       "        vertical-align: middle;\n",
       "    }\n",
       "\n",
       "    .dataframe tbody tr th {\n",
       "        vertical-align: top;\n",
       "    }\n",
       "\n",
       "    .dataframe thead th {\n",
       "        text-align: right;\n",
       "    }\n",
       "</style>\n",
       "<table border=\"1\" class=\"dataframe\">\n",
       "  <thead>\n",
       "    <tr style=\"text-align: right;\">\n",
       "      <th></th>\n",
       "      <th>Compensation</th>\n",
       "      <th>Loan_amt</th>\n",
       "      <th>Annuity_amt</th>\n",
       "      <th>density_Ind</th>\n",
       "      <th>Home_Appliances</th>\n",
       "      <th>Experience</th>\n",
       "      <th>Dependents</th>\n",
       "      <th>Company_Rating</th>\n",
       "      <th>Age</th>\n",
       "      <th>hour_Process</th>\n",
       "      <th>c2_rated</th>\n",
       "      <th>Contact_age</th>\n",
       "      <th>Product_bought</th>\n",
       "      <th>Default</th>\n",
       "    </tr>\n",
       "  </thead>\n",
       "  <tbody>\n",
       "    <tr>\n",
       "      <th>0</th>\n",
       "      <td>0.0</td>\n",
       "      <td>1.009943</td>\n",
       "      <td>0.0</td>\n",
       "      <td>0.888069</td>\n",
       "      <td>0.580147</td>\n",
       "      <td>-1.548728</td>\n",
       "      <td>0.991634</td>\n",
       "      <td>-0.057155</td>\n",
       "      <td>0.228539</td>\n",
       "      <td>-0.578563</td>\n",
       "      <td>-1.721084</td>\n",
       "      <td>-1.671860</td>\n",
       "      <td>-0.553063</td>\n",
       "      <td>1.0</td>\n",
       "    </tr>\n",
       "    <tr>\n",
       "      <th>1</th>\n",
       "      <td>0.0</td>\n",
       "      <td>-0.801363</td>\n",
       "      <td>0.0</td>\n",
       "      <td>-0.048501</td>\n",
       "      <td>-1.750963</td>\n",
       "      <td>-0.463483</td>\n",
       "      <td>0.991634</td>\n",
       "      <td>-2.139674</td>\n",
       "      <td>0.228539</td>\n",
       "      <td>-0.017970</td>\n",
       "      <td>-1.272932</td>\n",
       "      <td>-0.647768</td>\n",
       "      <td>0.409713</td>\n",
       "      <td>0.0</td>\n",
       "    </tr>\n",
       "    <tr>\n",
       "      <th>2</th>\n",
       "      <td>0.0</td>\n",
       "      <td>-1.717829</td>\n",
       "      <td>0.0</td>\n",
       "      <td>-0.739552</td>\n",
       "      <td>0.580147</td>\n",
       "      <td>0.014096</td>\n",
       "      <td>-0.015691</td>\n",
       "      <td>2.018931</td>\n",
       "      <td>1.080244</td>\n",
       "      <td>-1.976878</td>\n",
       "      <td>0.146886</td>\n",
       "      <td>-0.700206</td>\n",
       "      <td>0.409713</td>\n",
       "      <td>0.0</td>\n",
       "    </tr>\n",
       "    <tr>\n",
       "      <th>3</th>\n",
       "      <td>0.0</td>\n",
       "      <td>-0.943523</td>\n",
       "      <td>0.0</td>\n",
       "      <td>1.439674</td>\n",
       "      <td>-1.264533</td>\n",
       "      <td>0.038999</td>\n",
       "      <td>1.739385</td>\n",
       "      <td>-0.057155</td>\n",
       "      <td>-0.359573</td>\n",
       "      <td>-0.017970</td>\n",
       "      <td>0.236263</td>\n",
       "      <td>-1.652236</td>\n",
       "      <td>0.409713</td>\n",
       "      <td>0.0</td>\n",
       "    </tr>\n",
       "    <tr>\n",
       "      <th>4</th>\n",
       "      <td>0.0</td>\n",
       "      <td>0.790893</td>\n",
       "      <td>0.0</td>\n",
       "      <td>-0.554055</td>\n",
       "      <td>-1.750963</td>\n",
       "      <td>0.494363</td>\n",
       "      <td>0.991634</td>\n",
       "      <td>-2.139674</td>\n",
       "      <td>-0.994709</td>\n",
       "      <td>1.104783</td>\n",
       "      <td>-1.206763</td>\n",
       "      <td>1.382892</td>\n",
       "      <td>1.172224</td>\n",
       "      <td>0.0</td>\n",
       "    </tr>\n",
       "  </tbody>\n",
       "</table>\n",
       "</div>"
      ],
      "text/plain": [
       "   Compensation  Loan_amt  Annuity_amt  density_Ind  Home_Appliances  \\\n",
       "0           0.0  1.009943          0.0     0.888069         0.580147   \n",
       "1           0.0 -0.801363          0.0    -0.048501        -1.750963   \n",
       "2           0.0 -1.717829          0.0    -0.739552         0.580147   \n",
       "3           0.0 -0.943523          0.0     1.439674        -1.264533   \n",
       "4           0.0  0.790893          0.0    -0.554055        -1.750963   \n",
       "\n",
       "   Experience  Dependents  Company_Rating       Age  hour_Process  c2_rated  \\\n",
       "0   -1.548728    0.991634       -0.057155  0.228539     -0.578563 -1.721084   \n",
       "1   -0.463483    0.991634       -2.139674  0.228539     -0.017970 -1.272932   \n",
       "2    0.014096   -0.015691        2.018931  1.080244     -1.976878  0.146886   \n",
       "3    0.038999    1.739385       -0.057155 -0.359573     -0.017970  0.236263   \n",
       "4    0.494363    0.991634       -2.139674 -0.994709      1.104783 -1.206763   \n",
       "\n",
       "   Contact_age  Product_bought  Default  \n",
       "0    -1.671860       -0.553063      1.0  \n",
       "1    -0.647768        0.409713      0.0  \n",
       "2    -0.700206        0.409713      0.0  \n",
       "3    -1.652236        0.409713      0.0  \n",
       "4     1.382892        1.172224      0.0  "
      ]
     },
     "execution_count": 75,
     "metadata": {},
     "output_type": "execute_result"
    }
   ],
   "source": [
    "df_num_scaled.head()"
   ]
  },
  {
   "cell_type": "code",
   "execution_count": 78,
   "id": "f6f78a52",
   "metadata": {},
   "outputs": [
    {
     "name": "stdout",
     "output_type": "stream",
     "text": [
      "Null Hypo accepted ie  Compensation  has  no  influence in defaulting a loan\n",
      "Null Hypo accepted ie  Loan_amt  has  no  influence in defaulting a loan\n",
      "Null Hypo accepted ie  Annuity_amt  has  no  influence in defaulting a loan\n",
      "Null Hypo accepted ie  density_Ind  has  no  influence in defaulting a loan\n",
      "Null Hypo accepted ie  Home_Appliances  has  no  influence in defaulting a loan\n",
      "Null Hypo rejected ie  Experience  has an influence in defaulting a loan\n",
      "Null Hypo accepted ie  Dependents  has  no  influence in defaulting a loan\n",
      "Null Hypo rejected ie  Company_Rating  has an influence in defaulting a loan\n",
      "Null Hypo rejected ie  Age  has an influence in defaulting a loan\n",
      "Null Hypo rejected ie  hour_Process  has an influence in defaulting a loan\n",
      "Null Hypo rejected ie  c2_rated  has an influence in defaulting a loan\n",
      "Null Hypo rejected ie  Contact_age  has an influence in defaulting a loan\n",
      "Null Hypo rejected ie  Product_bought  has an influence in defaulting a loan\n"
     ]
    }
   ],
   "source": [
    "for i in df_num_scaled.drop(columns = ['Default']).columns:\n",
    "    AN(i,df_num_scaled['Default'])"
   ]
  },
  {
   "cell_type": "code",
   "execution_count": 77,
   "id": "f00c15dc",
   "metadata": {},
   "outputs": [],
   "source": [
    "lt = []\n",
    "def AN(x,y):\n",
    "    a = df_num_scaled.loc[(df_num_scaled['Default']==0),[x]]\n",
    "    b = df_num_scaled.loc[(df_num_scaled['Default']==1),[x]]\n",
    "    t = y.nunique()\n",
    "    n = len(df_num_scaled)\n",
    "    f_crit = stats.f.isf(0.05,dfn = t-1,dfd = n-t)\n",
    "    f_stat, pval = stats.f_oneway(a,b)\n",
    "    if f_stat>f_crit and pval<0.05:\n",
    "        print('Null Hypo rejected ie ',x,' has an influence in defaulting a loan')\n",
    "        lt.append(x)\n",
    "    else:\n",
    "        print('Null Hypo accepted ie ',x,' has  no  influence in defaulting a loan')\n",
    "        \n",
    "        "
   ]
  },
  {
   "cell_type": "code",
   "execution_count": 79,
   "id": "d0514833",
   "metadata": {},
   "outputs": [
    {
     "name": "stdout",
     "output_type": "stream",
     "text": [
      "['Experience', 'Company_Rating', 'Age', 'hour_Process', 'c2_rated', 'Contact_age', 'Product_bought']\n"
     ]
    }
   ],
   "source": [
    "print(lt)"
   ]
  },
  {
   "cell_type": "markdown",
   "id": "b19d9a4b",
   "metadata": {},
   "source": [
    "#### Inferene \n",
    "###### The Variables 'Experience', 'Company_Rating', 'Age', 'hour_Process', 'c2_rated', 'Contact_age', 'Product_bought' has \n",
    "###### influence if a loaner would default or not "
   ]
  },
  {
   "cell_type": "code",
   "execution_count": 80,
   "id": "8670f3a0",
   "metadata": {},
   "outputs": [],
   "source": [
    "df_scaled_final = pd.concat([df_num_scaled,df_cat_dummy],axis=1)"
   ]
  },
  {
   "cell_type": "code",
   "execution_count": 81,
   "id": "0fc2e1ab",
   "metadata": {},
   "outputs": [],
   "source": [
    "df_scaled_final.reset_index(drop = True,inplace = True)"
   ]
  },
  {
   "cell_type": "code",
   "execution_count": 82,
   "id": "6c067621",
   "metadata": {},
   "outputs": [
    {
     "data": {
      "text/html": [
       "<div>\n",
       "<style scoped>\n",
       "    .dataframe tbody tr th:only-of-type {\n",
       "        vertical-align: middle;\n",
       "    }\n",
       "\n",
       "    .dataframe tbody tr th {\n",
       "        vertical-align: top;\n",
       "    }\n",
       "\n",
       "    .dataframe thead th {\n",
       "        text-align: right;\n",
       "    }\n",
       "</style>\n",
       "<table border=\"1\" class=\"dataframe\">\n",
       "  <thead>\n",
       "    <tr style=\"text-align: right;\">\n",
       "      <th></th>\n",
       "      <th>Compensation</th>\n",
       "      <th>Loan_amt</th>\n",
       "      <th>Annuity_amt</th>\n",
       "      <th>density_Ind</th>\n",
       "      <th>Home_Appliances</th>\n",
       "      <th>Experience</th>\n",
       "      <th>Dependents</th>\n",
       "      <th>Company_Rating</th>\n",
       "      <th>Age</th>\n",
       "      <th>hour_Process</th>\n",
       "      <th>...</th>\n",
       "      <th>Marital_Stat_Single</th>\n",
       "      <th>Marital_Stat_Widow</th>\n",
       "      <th>Gen_M</th>\n",
       "      <th>Credit_Lnks_4_to_6</th>\n",
       "      <th>Credit_Lnks_&gt;6</th>\n",
       "      <th>Income_Alt_Y</th>\n",
       "      <th>Type_Loan_RLoan</th>\n",
       "      <th>Region_East</th>\n",
       "      <th>Region_North</th>\n",
       "      <th>Region_South</th>\n",
       "    </tr>\n",
       "  </thead>\n",
       "  <tbody>\n",
       "    <tr>\n",
       "      <th>0</th>\n",
       "      <td>0.0</td>\n",
       "      <td>1.009943</td>\n",
       "      <td>0.0</td>\n",
       "      <td>0.888069</td>\n",
       "      <td>0.580147</td>\n",
       "      <td>-1.548728</td>\n",
       "      <td>0.991634</td>\n",
       "      <td>-0.057155</td>\n",
       "      <td>0.228539</td>\n",
       "      <td>-0.578563</td>\n",
       "      <td>...</td>\n",
       "      <td>0</td>\n",
       "      <td>0</td>\n",
       "      <td>0</td>\n",
       "      <td>0</td>\n",
       "      <td>0</td>\n",
       "      <td>0</td>\n",
       "      <td>0</td>\n",
       "      <td>1</td>\n",
       "      <td>0</td>\n",
       "      <td>0</td>\n",
       "    </tr>\n",
       "    <tr>\n",
       "      <th>1</th>\n",
       "      <td>0.0</td>\n",
       "      <td>-0.801363</td>\n",
       "      <td>0.0</td>\n",
       "      <td>-0.048501</td>\n",
       "      <td>-1.750963</td>\n",
       "      <td>-0.463483</td>\n",
       "      <td>0.991634</td>\n",
       "      <td>-2.139674</td>\n",
       "      <td>0.228539</td>\n",
       "      <td>-0.017970</td>\n",
       "      <td>...</td>\n",
       "      <td>0</td>\n",
       "      <td>0</td>\n",
       "      <td>1</td>\n",
       "      <td>0</td>\n",
       "      <td>0</td>\n",
       "      <td>0</td>\n",
       "      <td>0</td>\n",
       "      <td>0</td>\n",
       "      <td>1</td>\n",
       "      <td>0</td>\n",
       "    </tr>\n",
       "    <tr>\n",
       "      <th>2</th>\n",
       "      <td>0.0</td>\n",
       "      <td>-1.717829</td>\n",
       "      <td>0.0</td>\n",
       "      <td>-0.739552</td>\n",
       "      <td>0.580147</td>\n",
       "      <td>0.014096</td>\n",
       "      <td>-0.015691</td>\n",
       "      <td>2.018931</td>\n",
       "      <td>1.080244</td>\n",
       "      <td>-1.976878</td>\n",
       "      <td>...</td>\n",
       "      <td>0</td>\n",
       "      <td>0</td>\n",
       "      <td>1</td>\n",
       "      <td>0</td>\n",
       "      <td>0</td>\n",
       "      <td>0</td>\n",
       "      <td>0</td>\n",
       "      <td>0</td>\n",
       "      <td>1</td>\n",
       "      <td>0</td>\n",
       "    </tr>\n",
       "    <tr>\n",
       "      <th>3</th>\n",
       "      <td>0.0</td>\n",
       "      <td>-0.943523</td>\n",
       "      <td>0.0</td>\n",
       "      <td>1.439674</td>\n",
       "      <td>-1.264533</td>\n",
       "      <td>0.038999</td>\n",
       "      <td>1.739385</td>\n",
       "      <td>-0.057155</td>\n",
       "      <td>-0.359573</td>\n",
       "      <td>-0.017970</td>\n",
       "      <td>...</td>\n",
       "      <td>0</td>\n",
       "      <td>0</td>\n",
       "      <td>1</td>\n",
       "      <td>0</td>\n",
       "      <td>0</td>\n",
       "      <td>0</td>\n",
       "      <td>1</td>\n",
       "      <td>0</td>\n",
       "      <td>0</td>\n",
       "      <td>1</td>\n",
       "    </tr>\n",
       "    <tr>\n",
       "      <th>4</th>\n",
       "      <td>0.0</td>\n",
       "      <td>0.790893</td>\n",
       "      <td>0.0</td>\n",
       "      <td>-0.554055</td>\n",
       "      <td>-1.750963</td>\n",
       "      <td>0.494363</td>\n",
       "      <td>0.991634</td>\n",
       "      <td>-2.139674</td>\n",
       "      <td>-0.994709</td>\n",
       "      <td>1.104783</td>\n",
       "      <td>...</td>\n",
       "      <td>0</td>\n",
       "      <td>0</td>\n",
       "      <td>0</td>\n",
       "      <td>1</td>\n",
       "      <td>0</td>\n",
       "      <td>1</td>\n",
       "      <td>0</td>\n",
       "      <td>0</td>\n",
       "      <td>1</td>\n",
       "      <td>0</td>\n",
       "    </tr>\n",
       "  </tbody>\n",
       "</table>\n",
       "<p>5 rows × 38 columns</p>\n",
       "</div>"
      ],
      "text/plain": [
       "   Compensation  Loan_amt  Annuity_amt  density_Ind  Home_Appliances  \\\n",
       "0           0.0  1.009943          0.0     0.888069         0.580147   \n",
       "1           0.0 -0.801363          0.0    -0.048501        -1.750963   \n",
       "2           0.0 -1.717829          0.0    -0.739552         0.580147   \n",
       "3           0.0 -0.943523          0.0     1.439674        -1.264533   \n",
       "4           0.0  0.790893          0.0    -0.554055        -1.750963   \n",
       "\n",
       "   Experience  Dependents  Company_Rating       Age  hour_Process  ...  \\\n",
       "0   -1.548728    0.991634       -0.057155  0.228539     -0.578563  ...   \n",
       "1   -0.463483    0.991634       -2.139674  0.228539     -0.017970  ...   \n",
       "2    0.014096   -0.015691        2.018931  1.080244     -1.976878  ...   \n",
       "3    0.038999    1.739385       -0.057155 -0.359573     -0.017970  ...   \n",
       "4    0.494363    0.991634       -2.139674 -0.994709      1.104783  ...   \n",
       "\n",
       "   Marital_Stat_Single  Marital_Stat_Widow  Gen_M  Credit_Lnks_4_to_6  \\\n",
       "0                    0                   0      0                   0   \n",
       "1                    0                   0      1                   0   \n",
       "2                    0                   0      1                   0   \n",
       "3                    0                   0      1                   0   \n",
       "4                    0                   0      0                   1   \n",
       "\n",
       "   Credit_Lnks_>6  Income_Alt_Y  Type_Loan_RLoan  Region_East  Region_North  \\\n",
       "0               0             0                0            1             0   \n",
       "1               0             0                0            0             1   \n",
       "2               0             0                0            0             1   \n",
       "3               0             0                1            0             0   \n",
       "4               0             1                0            0             1   \n",
       "\n",
       "   Region_South  \n",
       "0             0  \n",
       "1             0  \n",
       "2             0  \n",
       "3             1  \n",
       "4             0  \n",
       "\n",
       "[5 rows x 38 columns]"
      ]
     },
     "execution_count": 82,
     "metadata": {},
     "output_type": "execute_result"
    }
   ],
   "source": [
    "df_scaled_final.head()"
   ]
  },
  {
   "cell_type": "code",
   "execution_count": 83,
   "id": "b316e248",
   "metadata": {},
   "outputs": [
    {
     "data": {
      "text/plain": [
       "[1.6684027068652123,\n",
       " -0.599375675839627,\n",
       " -0.599375675839627,\n",
       " -0.599375675839627,\n",
       " -0.599375675839627,\n",
       " -0.599375675839627,\n",
       " 1.6684027068652123,\n",
       " -0.599375675839627,\n",
       " -0.599375675839627,\n",
       " 1.6684027068652123,\n",
       " 1.6684027068652123,\n",
       " -0.599375675839627,\n",
       " -0.599375675839627,\n",
       " -0.599375675839627,\n",
       " 1.6684027068652123,\n",
       " -0.599375675839627,\n",
       " -0.599375675839627,\n",
       " -0.599375675839627,\n",
       " -0.599375675839627,\n",
       " -0.599375675839627,\n",
       " -0.599375675839627,\n",
       " -0.599375675839627,\n",
       " -0.599375675839627,\n",
       " -0.599375675839627,\n",
       " 1.6684027068652123,\n",
       " -0.599375675839627,\n",
       " -0.599375675839627,\n",
       " -0.599375675839627,\n",
       " -0.599375675839627,\n",
       " 1.6684027068652123,\n",
       " 1.6684027068652123,\n",
       " -0.599375675839627,\n",
       " -0.599375675839627,\n",
       " -0.599375675839627,\n",
       " -0.599375675839627,\n",
       " 1.6684027068652123,\n",
       " 1.6684027068652123,\n",
       " -0.599375675839627,\n",
       " 1.6684027068652123,\n",
       " -0.599375675839627,\n",
       " -0.599375675839627,\n",
       " 1.6684027068652123,\n",
       " -0.599375675839627,\n",
       " -0.599375675839627,\n",
       " -0.599375675839627,\n",
       " -0.599375675839627,\n",
       " 1.6684027068652123,\n",
       " 1.6684027068652123,\n",
       " 1.6684027068652123,\n",
       " -0.599375675839627,\n",
       " -0.599375675839627,\n",
       " -0.599375675839627,\n",
       " -0.599375675839627,\n",
       " -0.599375675839627,\n",
       " -0.599375675839627,\n",
       " -0.599375675839627,\n",
       " 1.6684027068652123,\n",
       " -0.599375675839627,\n",
       " -0.599375675839627,\n",
       " -0.599375675839627,\n",
       " -0.599375675839627,\n",
       " -0.599375675839627,\n",
       " -0.599375675839627,\n",
       " -0.599375675839627,\n",
       " -0.599375675839627,\n",
       " -0.599375675839627,\n",
       " -0.599375675839627,\n",
       " -0.599375675839627,\n",
       " 1.6684027068652123,\n",
       " -0.599375675839627,\n",
       " -0.599375675839627,\n",
       " -0.599375675839627,\n",
       " 1.6684027068652123,\n",
       " -0.599375675839627,\n",
       " -0.599375675839627,\n",
       " -0.599375675839627,\n",
       " 1.6684027068652123,\n",
       " -0.599375675839627,\n",
       " 1.6684027068652123,\n",
       " -0.599375675839627,\n",
       " -0.599375675839627,\n",
       " -0.599375675839627,\n",
       " -0.599375675839627,\n",
       " 1.6684027068652123,\n",
       " 1.6684027068652123,\n",
       " -0.599375675839627,\n",
       " -0.599375675839627,\n",
       " -0.599375675839627,\n",
       " -0.599375675839627,\n",
       " -0.599375675839627,\n",
       " -0.599375675839627,\n",
       " 1.6684027068652123,\n",
       " -0.599375675839627,\n",
       " -0.599375675839627,\n",
       " -0.599375675839627,\n",
       " -0.599375675839627,\n",
       " -0.599375675839627,\n",
       " 1.6684027068652123,\n",
       " -0.599375675839627,\n",
       " 1.6684027068652123,\n",
       " 1.6684027068652123,\n",
       " -0.599375675839627,\n",
       " 1.6684027068652123,\n",
       " -0.599375675839627,\n",
       " -0.599375675839627,\n",
       " -0.599375675839627,\n",
       " -0.599375675839627,\n",
       " 1.6684027068652123,\n",
       " 1.6684027068652123,\n",
       " -0.599375675839627,\n",
       " -0.599375675839627,\n",
       " -0.599375675839627,\n",
       " -0.599375675839627,\n",
       " -0.599375675839627,\n",
       " 1.6684027068652123,\n",
       " -0.599375675839627,\n",
       " -0.599375675839627,\n",
       " 1.6684027068652123,\n",
       " 1.6684027068652123,\n",
       " 1.6684027068652123,\n",
       " -0.599375675839627,\n",
       " 1.6684027068652123,\n",
       " -0.599375675839627,\n",
       " -0.599375675839627,\n",
       " -0.599375675839627,\n",
       " -0.599375675839627,\n",
       " -0.599375675839627,\n",
       " -0.599375675839627,\n",
       " -0.599375675839627,\n",
       " -0.599375675839627,\n",
       " -0.599375675839627,\n",
       " -0.599375675839627,\n",
       " 1.6684027068652123,\n",
       " -0.599375675839627,\n",
       " -0.599375675839627,\n",
       " -0.599375675839627,\n",
       " 1.6684027068652123,\n",
       " -0.599375675839627,\n",
       " -0.599375675839627,\n",
       " -0.599375675839627,\n",
       " -0.599375675839627,\n",
       " -0.599375675839627,\n",
       " -0.599375675839627,\n",
       " 1.6684027068652123,\n",
       " 1.6684027068652123,\n",
       " -0.599375675839627,\n",
       " -0.599375675839627,\n",
       " -0.599375675839627,\n",
       " -0.599375675839627,\n",
       " 1.6684027068652123,\n",
       " -0.599375675839627,\n",
       " -0.599375675839627,\n",
       " -0.599375675839627,\n",
       " -0.599375675839627,\n",
       " -0.599375675839627,\n",
       " 1.6684027068652123,\n",
       " 1.6684027068652123,\n",
       " -0.599375675839627,\n",
       " -0.599375675839627,\n",
       " -0.599375675839627,\n",
       " -0.599375675839627,\n",
       " -0.599375675839627,\n",
       " 1.6684027068652123,\n",
       " -0.599375675839627,\n",
       " -0.599375675839627,\n",
       " -0.599375675839627,\n",
       " -0.599375675839627,\n",
       " -0.599375675839627,\n",
       " 1.6684027068652123,\n",
       " -0.599375675839627,\n",
       " -0.599375675839627,\n",
       " -0.599375675839627,\n",
       " -0.599375675839627,\n",
       " -0.599375675839627,\n",
       " -0.599375675839627,\n",
       " 1.6684027068652123,\n",
       " 1.6684027068652123,\n",
       " -0.599375675839627,\n",
       " 1.6684027068652123,\n",
       " 1.6684027068652123,\n",
       " 1.6684027068652123,\n",
       " -0.599375675839627,\n",
       " 1.6684027068652123,\n",
       " -0.599375675839627,\n",
       " -0.599375675839627,\n",
       " -0.599375675839627,\n",
       " -0.599375675839627,\n",
       " 1.6684027068652123,\n",
       " -0.599375675839627,\n",
       " -0.599375675839627,\n",
       " -0.599375675839627,\n",
       " -0.599375675839627,\n",
       " -0.599375675839627,\n",
       " -0.599375675839627,\n",
       " -0.599375675839627,\n",
       " -0.599375675839627,\n",
       " 1.6684027068652123,\n",
       " -0.599375675839627,\n",
       " -0.599375675839627,\n",
       " -0.599375675839627,\n",
       " 1.6684027068652123,\n",
       " -0.599375675839627,\n",
       " -0.599375675839627,\n",
       " -0.599375675839627,\n",
       " -0.599375675839627,\n",
       " 1.6684027068652123,\n",
       " -0.599375675839627,\n",
       " -0.599375675839627,\n",
       " -0.599375675839627,\n",
       " 1.6684027068652123,\n",
       " -0.599375675839627,\n",
       " -0.599375675839627,\n",
       " -0.599375675839627,\n",
       " -0.599375675839627,\n",
       " -0.599375675839627,\n",
       " -0.599375675839627,\n",
       " -0.599375675839627,\n",
       " 1.6684027068652123,\n",
       " -0.599375675839627,\n",
       " -0.599375675839627,\n",
       " -0.599375675839627,\n",
       " 1.6684027068652123,\n",
       " -0.599375675839627,\n",
       " -0.599375675839627,\n",
       " 1.6684027068652123,\n",
       " -0.599375675839627,\n",
       " -0.599375675839627,\n",
       " -0.599375675839627,\n",
       " -0.599375675839627,\n",
       " -0.599375675839627,\n",
       " -0.599375675839627,\n",
       " -0.599375675839627,\n",
       " 1.6684027068652123,\n",
       " -0.599375675839627,\n",
       " -0.599375675839627,\n",
       " -0.599375675839627,\n",
       " -0.599375675839627,\n",
       " -0.599375675839627,\n",
       " -0.599375675839627,\n",
       " -0.599375675839627,\n",
       " -0.599375675839627,\n",
       " -0.599375675839627,\n",
       " 1.6684027068652123,\n",
       " 1.6684027068652123,\n",
       " -0.599375675839627,\n",
       " -0.599375675839627,\n",
       " -0.599375675839627,\n",
       " 1.6684027068652123,\n",
       " -0.599375675839627,\n",
       " 1.6684027068652123,\n",
       " 1.6684027068652123,\n",
       " -0.599375675839627,\n",
       " 1.6684027068652123,\n",
       " -0.599375675839627,\n",
       " -0.599375675839627,\n",
       " -0.599375675839627,\n",
       " 1.6684027068652123,\n",
       " -0.599375675839627,\n",
       " -0.599375675839627,\n",
       " -0.599375675839627,\n",
       " -0.599375675839627,\n",
       " 1.6684027068652123,\n",
       " -0.599375675839627,\n",
       " -0.599375675839627,\n",
       " 1.6684027068652123,\n",
       " -0.599375675839627,\n",
       " -0.599375675839627,\n",
       " -0.599375675839627,\n",
       " -0.599375675839627,\n",
       " -0.599375675839627,\n",
       " -0.599375675839627,\n",
       " -0.599375675839627,\n",
       " -0.599375675839627,\n",
       " -0.599375675839627,\n",
       " -0.599375675839627,\n",
       " -0.599375675839627,\n",
       " 1.6684027068652123,\n",
       " -0.599375675839627,\n",
       " 1.6684027068652123,\n",
       " -0.599375675839627,\n",
       " -0.599375675839627,\n",
       " -0.599375675839627,\n",
       " -0.599375675839627,\n",
       " -0.599375675839627,\n",
       " 1.6684027068652123,\n",
       " 1.6684027068652123,\n",
       " -0.599375675839627,\n",
       " -0.599375675839627,\n",
       " -0.599375675839627,\n",
       " -0.599375675839627,\n",
       " 1.6684027068652123,\n",
       " -0.599375675839627,\n",
       " 1.6684027068652123,\n",
       " -0.599375675839627,\n",
       " -0.599375675839627,\n",
       " -0.599375675839627,\n",
       " 1.6684027068652123,\n",
       " -0.599375675839627,\n",
       " -0.599375675839627,\n",
       " -0.599375675839627,\n",
       " 1.6684027068652123,\n",
       " -0.599375675839627,\n",
       " -0.599375675839627,\n",
       " -0.599375675839627,\n",
       " -0.599375675839627,\n",
       " 1.6684027068652123,\n",
       " 1.6684027068652123,\n",
       " -0.599375675839627,\n",
       " -0.599375675839627,\n",
       " -0.599375675839627,\n",
       " 1.6684027068652123,\n",
       " -0.599375675839627,\n",
       " -0.599375675839627,\n",
       " -0.599375675839627,\n",
       " 1.6684027068652123,\n",
       " -0.599375675839627,\n",
       " 1.6684027068652123,\n",
       " -0.599375675839627,\n",
       " -0.599375675839627,\n",
       " 1.6684027068652123,\n",
       " -0.599375675839627,\n",
       " 1.6684027068652123,\n",
       " 1.6684027068652123,\n",
       " -0.599375675839627,\n",
       " -0.599375675839627,\n",
       " 1.6684027068652123,\n",
       " 1.6684027068652123,\n",
       " 1.6684027068652123,\n",
       " -0.599375675839627,\n",
       " -0.599375675839627,\n",
       " -0.599375675839627,\n",
       " -0.599375675839627,\n",
       " -0.599375675839627,\n",
       " -0.599375675839627,\n",
       " -0.599375675839627,\n",
       " -0.599375675839627,\n",
       " -0.599375675839627,\n",
       " 1.6684027068652123,\n",
       " -0.599375675839627,\n",
       " 1.6684027068652123,\n",
       " 1.6684027068652123,\n",
       " -0.599375675839627,\n",
       " -0.599375675839627,\n",
       " -0.599375675839627,\n",
       " -0.599375675839627,\n",
       " -0.599375675839627,\n",
       " -0.599375675839627,\n",
       " 1.6684027068652123,\n",
       " -0.599375675839627,\n",
       " -0.599375675839627,\n",
       " -0.599375675839627,\n",
       " -0.599375675839627,\n",
       " -0.599375675839627,\n",
       " -0.599375675839627,\n",
       " -0.599375675839627,\n",
       " -0.599375675839627,\n",
       " 1.6684027068652123,\n",
       " -0.599375675839627,\n",
       " -0.599375675839627,\n",
       " -0.599375675839627,\n",
       " -0.599375675839627,\n",
       " -0.599375675839627,\n",
       " -0.599375675839627,\n",
       " -0.599375675839627,\n",
       " 1.6684027068652123,\n",
       " -0.599375675839627,\n",
       " -0.599375675839627,\n",
       " 1.6684027068652123,\n",
       " -0.599375675839627,\n",
       " -0.599375675839627,\n",
       " 1.6684027068652123,\n",
       " 1.6684027068652123,\n",
       " -0.599375675839627,\n",
       " -0.599375675839627,\n",
       " 1.6684027068652123,\n",
       " -0.599375675839627,\n",
       " -0.599375675839627,\n",
       " -0.599375675839627,\n",
       " -0.599375675839627,\n",
       " -0.599375675839627,\n",
       " -0.599375675839627,\n",
       " -0.599375675839627,\n",
       " -0.599375675839627,\n",
       " -0.599375675839627,\n",
       " 1.6684027068652123,\n",
       " -0.599375675839627,\n",
       " -0.599375675839627,\n",
       " -0.599375675839627,\n",
       " -0.599375675839627,\n",
       " -0.599375675839627,\n",
       " 1.6684027068652123,\n",
       " -0.599375675839627,\n",
       " 1.6684027068652123,\n",
       " -0.599375675839627,\n",
       " 1.6684027068652123,\n",
       " -0.599375675839627,\n",
       " -0.599375675839627,\n",
       " -0.599375675839627,\n",
       " 1.6684027068652123,\n",
       " -0.599375675839627,\n",
       " -0.599375675839627,\n",
       " -0.599375675839627,\n",
       " -0.599375675839627,\n",
       " -0.599375675839627,\n",
       " 1.6684027068652123,\n",
       " -0.599375675839627,\n",
       " -0.599375675839627,\n",
       " -0.599375675839627,\n",
       " -0.599375675839627,\n",
       " 1.6684027068652123,\n",
       " -0.599375675839627,\n",
       " -0.599375675839627,\n",
       " -0.599375675839627,\n",
       " -0.599375675839627,\n",
       " -0.599375675839627,\n",
       " -0.599375675839627,\n",
       " 1.6684027068652123,\n",
       " -0.599375675839627,\n",
       " 1.6684027068652123,\n",
       " -0.599375675839627,\n",
       " -0.599375675839627,\n",
       " 1.6684027068652123,\n",
       " -0.599375675839627,\n",
       " -0.599375675839627,\n",
       " -0.599375675839627,\n",
       " 1.6684027068652123,\n",
       " 1.6684027068652123,\n",
       " 1.6684027068652123,\n",
       " 1.6684027068652123,\n",
       " -0.599375675839627,\n",
       " -0.599375675839627,\n",
       " -0.599375675839627,\n",
       " -0.599375675839627,\n",
       " -0.599375675839627,\n",
       " -0.599375675839627,\n",
       " -0.599375675839627,\n",
       " -0.599375675839627,\n",
       " -0.599375675839627,\n",
       " -0.599375675839627,\n",
       " -0.599375675839627,\n",
       " -0.599375675839627,\n",
       " -0.599375675839627,\n",
       " -0.599375675839627,\n",
       " -0.599375675839627,\n",
       " 1.6684027068652123,\n",
       " -0.599375675839627,\n",
       " -0.599375675839627,\n",
       " 1.6684027068652123,\n",
       " -0.599375675839627,\n",
       " -0.599375675839627,\n",
       " -0.599375675839627,\n",
       " -0.599375675839627,\n",
       " -0.599375675839627,\n",
       " -0.599375675839627,\n",
       " -0.599375675839627,\n",
       " -0.599375675839627,\n",
       " -0.599375675839627,\n",
       " -0.599375675839627,\n",
       " 1.6684027068652123,\n",
       " -0.599375675839627,\n",
       " -0.599375675839627,\n",
       " -0.599375675839627,\n",
       " 1.6684027068652123,\n",
       " -0.599375675839627,\n",
       " -0.599375675839627,\n",
       " -0.599375675839627,\n",
       " 1.6684027068652123,\n",
       " -0.599375675839627,\n",
       " -0.599375675839627,\n",
       " -0.599375675839627,\n",
       " -0.599375675839627,\n",
       " 1.6684027068652123,\n",
       " 1.6684027068652123,\n",
       " -0.599375675839627,\n",
       " -0.599375675839627,\n",
       " -0.599375675839627,\n",
       " -0.599375675839627,\n",
       " -0.599375675839627,\n",
       " 1.6684027068652123,\n",
       " -0.599375675839627,\n",
       " -0.599375675839627,\n",
       " 1.6684027068652123,\n",
       " -0.599375675839627,\n",
       " 1.6684027068652123,\n",
       " -0.599375675839627,\n",
       " -0.599375675839627,\n",
       " -0.599375675839627,\n",
       " -0.599375675839627,\n",
       " -0.599375675839627,\n",
       " 1.6684027068652123,\n",
       " -0.599375675839627,\n",
       " -0.599375675839627,\n",
       " -0.599375675839627,\n",
       " -0.599375675839627,\n",
       " 1.6684027068652123,\n",
       " -0.599375675839627,\n",
       " -0.599375675839627,\n",
       " 1.6684027068652123,\n",
       " -0.599375675839627,\n",
       " -0.599375675839627,\n",
       " -0.599375675839627,\n",
       " -0.599375675839627,\n",
       " -0.599375675839627,\n",
       " 1.6684027068652123,\n",
       " 1.6684027068652123,\n",
       " -0.599375675839627,\n",
       " -0.599375675839627,\n",
       " -0.599375675839627,\n",
       " -0.599375675839627,\n",
       " -0.599375675839627,\n",
       " -0.599375675839627,\n",
       " -0.599375675839627,\n",
       " -0.599375675839627,\n",
       " -0.599375675839627,\n",
       " 1.6684027068652123,\n",
       " -0.599375675839627,\n",
       " -0.599375675839627,\n",
       " 1.6684027068652123,\n",
       " -0.599375675839627,\n",
       " -0.599375675839627,\n",
       " -0.599375675839627,\n",
       " 1.6684027068652123,\n",
       " -0.599375675839627,\n",
       " -0.599375675839627,\n",
       " -0.599375675839627,\n",
       " 1.6684027068652123,\n",
       " -0.599375675839627,\n",
       " -0.599375675839627,\n",
       " 1.6684027068652123,\n",
       " -0.599375675839627,\n",
       " -0.599375675839627,\n",
       " 1.6684027068652123,\n",
       " -0.599375675839627,\n",
       " 1.6684027068652123,\n",
       " -0.599375675839627,\n",
       " -0.599375675839627,\n",
       " -0.599375675839627,\n",
       " -0.599375675839627,\n",
       " 1.6684027068652123,\n",
       " -0.599375675839627,\n",
       " -0.599375675839627,\n",
       " 1.6684027068652123,\n",
       " 1.6684027068652123,\n",
       " -0.599375675839627,\n",
       " -0.599375675839627,\n",
       " 1.6684027068652123,\n",
       " 1.6684027068652123,\n",
       " -0.599375675839627,\n",
       " -0.599375675839627,\n",
       " 1.6684027068652123,\n",
       " -0.599375675839627,\n",
       " 1.6684027068652123,\n",
       " -0.599375675839627,\n",
       " -0.599375675839627,\n",
       " -0.599375675839627,\n",
       " -0.599375675839627,\n",
       " 1.6684027068652123,\n",
       " -0.599375675839627,\n",
       " -0.599375675839627,\n",
       " -0.599375675839627,\n",
       " -0.599375675839627,\n",
       " -0.599375675839627,\n",
       " -0.599375675839627,\n",
       " -0.599375675839627,\n",
       " -0.599375675839627,\n",
       " -0.599375675839627,\n",
       " -0.599375675839627,\n",
       " -0.599375675839627,\n",
       " -0.599375675839627,\n",
       " -0.599375675839627,\n",
       " -0.599375675839627,\n",
       " -0.599375675839627,\n",
       " -0.599375675839627,\n",
       " -0.599375675839627,\n",
       " 1.6684027068652123,\n",
       " -0.599375675839627,\n",
       " -0.599375675839627,\n",
       " -0.599375675839627,\n",
       " -0.599375675839627,\n",
       " -0.599375675839627,\n",
       " -0.599375675839627,\n",
       " -0.599375675839627,\n",
       " -0.599375675839627,\n",
       " -0.599375675839627,\n",
       " 1.6684027068652123,\n",
       " -0.599375675839627,\n",
       " -0.599375675839627,\n",
       " -0.599375675839627,\n",
       " -0.599375675839627,\n",
       " -0.599375675839627,\n",
       " -0.599375675839627,\n",
       " -0.599375675839627,\n",
       " -0.599375675839627,\n",
       " -0.599375675839627,\n",
       " 1.6684027068652123,\n",
       " -0.599375675839627,\n",
       " -0.599375675839627,\n",
       " -0.599375675839627,\n",
       " -0.599375675839627,\n",
       " -0.599375675839627,\n",
       " 1.6684027068652123,\n",
       " 1.6684027068652123,\n",
       " 1.6684027068652123,\n",
       " 1.6684027068652123,\n",
       " 1.6684027068652123,\n",
       " 1.6684027068652123,\n",
       " -0.599375675839627,\n",
       " -0.599375675839627,\n",
       " -0.599375675839627,\n",
       " -0.599375675839627,\n",
       " -0.599375675839627,\n",
       " -0.599375675839627,\n",
       " -0.599375675839627,\n",
       " -0.599375675839627,\n",
       " -0.599375675839627,\n",
       " -0.599375675839627,\n",
       " -0.599375675839627,\n",
       " -0.599375675839627,\n",
       " -0.599375675839627,\n",
       " -0.599375675839627,\n",
       " 1.6684027068652123,\n",
       " -0.599375675839627,\n",
       " -0.599375675839627,\n",
       " -0.599375675839627,\n",
       " 1.6684027068652123,\n",
       " -0.599375675839627,\n",
       " -0.599375675839627,\n",
       " -0.599375675839627,\n",
       " 1.6684027068652123,\n",
       " -0.599375675839627,\n",
       " -0.599375675839627,\n",
       " -0.599375675839627,\n",
       " 1.6684027068652123,\n",
       " -0.599375675839627,\n",
       " -0.599375675839627,\n",
       " 1.6684027068652123,\n",
       " -0.599375675839627,\n",
       " -0.599375675839627,\n",
       " -0.599375675839627,\n",
       " -0.599375675839627,\n",
       " -0.599375675839627,\n",
       " -0.599375675839627,\n",
       " -0.599375675839627,\n",
       " -0.599375675839627,\n",
       " -0.599375675839627,\n",
       " -0.599375675839627,\n",
       " -0.599375675839627,\n",
       " -0.599375675839627,\n",
       " -0.599375675839627,\n",
       " -0.599375675839627,\n",
       " 1.6684027068652123,\n",
       " -0.599375675839627,\n",
       " -0.599375675839627,\n",
       " -0.599375675839627,\n",
       " -0.599375675839627,\n",
       " -0.599375675839627,\n",
       " 1.6684027068652123,\n",
       " -0.599375675839627,\n",
       " 1.6684027068652123,\n",
       " 1.6684027068652123,\n",
       " 1.6684027068652123,\n",
       " 1.6684027068652123,\n",
       " -0.599375675839627,\n",
       " 1.6684027068652123,\n",
       " 1.6684027068652123,\n",
       " -0.599375675839627,\n",
       " 1.6684027068652123,\n",
       " -0.599375675839627,\n",
       " -0.599375675839627,\n",
       " 1.6684027068652123,\n",
       " -0.599375675839627,\n",
       " -0.599375675839627,\n",
       " -0.599375675839627,\n",
       " -0.599375675839627,\n",
       " -0.599375675839627,\n",
       " -0.599375675839627,\n",
       " -0.599375675839627,\n",
       " -0.599375675839627,\n",
       " -0.599375675839627,\n",
       " 1.6684027068652123,\n",
       " -0.599375675839627,\n",
       " -0.599375675839627,\n",
       " -0.599375675839627,\n",
       " -0.599375675839627,\n",
       " -0.599375675839627,\n",
       " -0.599375675839627,\n",
       " 1.6684027068652123,\n",
       " -0.599375675839627,\n",
       " 1.6684027068652123,\n",
       " -0.599375675839627,\n",
       " -0.599375675839627,\n",
       " -0.599375675839627,\n",
       " 1.6684027068652123,\n",
       " -0.599375675839627,\n",
       " -0.599375675839627,\n",
       " -0.599375675839627,\n",
       " 1.6684027068652123,\n",
       " -0.599375675839627,\n",
       " -0.599375675839627,\n",
       " -0.599375675839627,\n",
       " -0.599375675839627,\n",
       " -0.599375675839627,\n",
       " -0.599375675839627,\n",
       " -0.599375675839627,\n",
       " -0.599375675839627,\n",
       " -0.599375675839627,\n",
       " 1.6684027068652123,\n",
       " -0.599375675839627,\n",
       " -0.599375675839627,\n",
       " -0.599375675839627,\n",
       " -0.599375675839627,\n",
       " -0.599375675839627,\n",
       " -0.599375675839627,\n",
       " -0.599375675839627,\n",
       " -0.599375675839627,\n",
       " 1.6684027068652123,\n",
       " 1.6684027068652123,\n",
       " -0.599375675839627,\n",
       " -0.599375675839627,\n",
       " 1.6684027068652123,\n",
       " -0.599375675839627,\n",
       " -0.599375675839627,\n",
       " 1.6684027068652123,\n",
       " 1.6684027068652123,\n",
       " 1.6684027068652123,\n",
       " 1.6684027068652123,\n",
       " -0.599375675839627,\n",
       " -0.599375675839627,\n",
       " -0.599375675839627,\n",
       " -0.599375675839627,\n",
       " 1.6684027068652123,\n",
       " 1.6684027068652123,\n",
       " -0.599375675839627,\n",
       " -0.599375675839627,\n",
       " -0.599375675839627,\n",
       " -0.599375675839627,\n",
       " -0.599375675839627,\n",
       " -0.599375675839627,\n",
       " 1.6684027068652123,\n",
       " 1.6684027068652123,\n",
       " -0.599375675839627,\n",
       " -0.599375675839627,\n",
       " 1.6684027068652123,\n",
       " 1.6684027068652123,\n",
       " 1.6684027068652123,\n",
       " 1.6684027068652123,\n",
       " -0.599375675839627,\n",
       " -0.599375675839627,\n",
       " 1.6684027068652123,\n",
       " 1.6684027068652123,\n",
       " 1.6684027068652123,\n",
       " -0.599375675839627,\n",
       " -0.599375675839627,\n",
       " -0.599375675839627,\n",
       " -0.599375675839627,\n",
       " 1.6684027068652123,\n",
       " -0.599375675839627,\n",
       " -0.599375675839627,\n",
       " -0.599375675839627,\n",
       " -0.599375675839627,\n",
       " -0.599375675839627,\n",
       " -0.599375675839627,\n",
       " -0.599375675839627,\n",
       " -0.599375675839627,\n",
       " -0.599375675839627,\n",
       " -0.599375675839627,\n",
       " -0.599375675839627,\n",
       " 1.6684027068652123,\n",
       " -0.599375675839627,\n",
       " -0.599375675839627,\n",
       " -0.599375675839627,\n",
       " -0.599375675839627,\n",
       " -0.599375675839627,\n",
       " 1.6684027068652123,\n",
       " -0.599375675839627,\n",
       " -0.599375675839627,\n",
       " -0.599375675839627,\n",
       " 1.6684027068652123,\n",
       " -0.599375675839627,\n",
       " 1.6684027068652123,\n",
       " -0.599375675839627,\n",
       " -0.599375675839627,\n",
       " -0.599375675839627,\n",
       " -0.599375675839627,\n",
       " -0.599375675839627,\n",
       " -0.599375675839627,\n",
       " -0.599375675839627,\n",
       " -0.599375675839627,\n",
       " -0.599375675839627,\n",
       " -0.599375675839627,\n",
       " -0.599375675839627,\n",
       " 1.6684027068652123,\n",
       " -0.599375675839627,\n",
       " -0.599375675839627,\n",
       " -0.599375675839627,\n",
       " 1.6684027068652123,\n",
       " -0.599375675839627,\n",
       " -0.599375675839627,\n",
       " -0.599375675839627,\n",
       " -0.599375675839627,\n",
       " -0.599375675839627,\n",
       " 1.6684027068652123,\n",
       " -0.599375675839627,\n",
       " 1.6684027068652123,\n",
       " -0.599375675839627,\n",
       " -0.599375675839627,\n",
       " 1.6684027068652123,\n",
       " -0.599375675839627,\n",
       " 1.6684027068652123,\n",
       " -0.599375675839627,\n",
       " -0.599375675839627,\n",
       " 1.6684027068652123,\n",
       " 1.6684027068652123,\n",
       " 1.6684027068652123,\n",
       " 1.6684027068652123,\n",
       " -0.599375675839627,\n",
       " 1.6684027068652123,\n",
       " -0.599375675839627,\n",
       " -0.599375675839627,\n",
       " -0.599375675839627,\n",
       " -0.599375675839627,\n",
       " 1.6684027068652123,\n",
       " -0.599375675839627,\n",
       " 1.6684027068652123,\n",
       " 1.6684027068652123,\n",
       " 1.6684027068652123,\n",
       " -0.599375675839627,\n",
       " -0.599375675839627,\n",
       " -0.599375675839627,\n",
       " 1.6684027068652123,\n",
       " 1.6684027068652123,\n",
       " -0.599375675839627,\n",
       " -0.599375675839627,\n",
       " -0.599375675839627,\n",
       " 1.6684027068652123,\n",
       " 1.6684027068652123,\n",
       " 1.6684027068652123,\n",
       " -0.599375675839627,\n",
       " 1.6684027068652123,\n",
       " -0.599375675839627,\n",
       " -0.599375675839627,\n",
       " 1.6684027068652123,\n",
       " -0.599375675839627,\n",
       " -0.599375675839627,\n",
       " -0.599375675839627,\n",
       " -0.599375675839627,\n",
       " -0.599375675839627,\n",
       " 1.6684027068652123,\n",
       " -0.599375675839627,\n",
       " -0.599375675839627,\n",
       " -0.599375675839627,\n",
       " -0.599375675839627,\n",
       " -0.599375675839627,\n",
       " 1.6684027068652123,\n",
       " -0.599375675839627,\n",
       " -0.599375675839627,\n",
       " -0.599375675839627,\n",
       " 1.6684027068652123,\n",
       " -0.599375675839627,\n",
       " 1.6684027068652123,\n",
       " -0.599375675839627,\n",
       " -0.599375675839627,\n",
       " -0.599375675839627,\n",
       " -0.599375675839627,\n",
       " -0.599375675839627,\n",
       " -0.599375675839627,\n",
       " 1.6684027068652123,\n",
       " 1.6684027068652123,\n",
       " 1.6684027068652123,\n",
       " -0.599375675839627,\n",
       " -0.599375675839627,\n",
       " -0.599375675839627,\n",
       " 1.6684027068652123,\n",
       " -0.599375675839627,\n",
       " 1.6684027068652123,\n",
       " -0.599375675839627,\n",
       " 1.6684027068652123,\n",
       " -0.599375675839627,\n",
       " -0.599375675839627,\n",
       " 1.6684027068652123,\n",
       " -0.599375675839627,\n",
       " 1.6684027068652123,\n",
       " -0.599375675839627,\n",
       " 1.6684027068652123,\n",
       " -0.599375675839627,\n",
       " 1.6684027068652123,\n",
       " -0.599375675839627,\n",
       " -0.599375675839627,\n",
       " 1.6684027068652123,\n",
       " -0.599375675839627,\n",
       " -0.599375675839627,\n",
       " -0.599375675839627,\n",
       " -0.599375675839627,\n",
       " -0.599375675839627,\n",
       " -0.599375675839627,\n",
       " 1.6684027068652123,\n",
       " -0.599375675839627,\n",
       " -0.599375675839627,\n",
       " -0.599375675839627,\n",
       " -0.599375675839627,\n",
       " -0.599375675839627,\n",
       " -0.599375675839627,\n",
       " 1.6684027068652123,\n",
       " 1.6684027068652123,\n",
       " -0.599375675839627,\n",
       " 1.6684027068652123,\n",
       " -0.599375675839627,\n",
       " -0.599375675839627,\n",
       " 1.6684027068652123,\n",
       " 1.6684027068652123,\n",
       " -0.599375675839627,\n",
       " -0.599375675839627,\n",
       " 1.6684027068652123,\n",
       " -0.599375675839627,\n",
       " 1.6684027068652123,\n",
       " -0.599375675839627,\n",
       " -0.599375675839627,\n",
       " 1.6684027068652123,\n",
       " -0.599375675839627,\n",
       " -0.599375675839627,\n",
       " 1.6684027068652123,\n",
       " 1.6684027068652123,\n",
       " 1.6684027068652123,\n",
       " -0.599375675839627,\n",
       " -0.599375675839627,\n",
       " -0.599375675839627,\n",
       " -0.599375675839627,\n",
       " -0.599375675839627,\n",
       " -0.599375675839627,\n",
       " -0.599375675839627,\n",
       " -0.599375675839627,\n",
       " -0.599375675839627,\n",
       " -0.599375675839627,\n",
       " -0.599375675839627,\n",
       " -0.599375675839627,\n",
       " -0.599375675839627,\n",
       " -0.599375675839627,\n",
       " 1.6684027068652123,\n",
       " -0.599375675839627,\n",
       " -0.599375675839627,\n",
       " -0.599375675839627,\n",
       " -0.599375675839627,\n",
       " 1.6684027068652123,\n",
       " -0.599375675839627,\n",
       " 1.6684027068652123,\n",
       " 1.6684027068652123,\n",
       " -0.599375675839627,\n",
       " -0.599375675839627,\n",
       " -0.599375675839627,\n",
       " 1.6684027068652123,\n",
       " 1.6684027068652123,\n",
       " 1.6684027068652123,\n",
       " -0.599375675839627,\n",
       " -0.599375675839627,\n",
       " -0.599375675839627,\n",
       " -0.599375675839627,\n",
       " 1.6684027068652123,\n",
       " 1.6684027068652123,\n",
       " -0.599375675839627,\n",
       " -0.599375675839627,\n",
       " -0.599375675839627,\n",
       " 1.6684027068652123,\n",
       " -0.599375675839627,\n",
       " -0.599375675839627,\n",
       " -0.599375675839627,\n",
       " -0.599375675839627,\n",
       " -0.599375675839627,\n",
       " -0.599375675839627,\n",
       " -0.599375675839627,\n",
       " -0.599375675839627,\n",
       " 1.6684027068652123,\n",
       " -0.599375675839627,\n",
       " -0.599375675839627,\n",
       " 1.6684027068652123,\n",
       " -0.599375675839627,\n",
       " 1.6684027068652123,\n",
       " -0.599375675839627,\n",
       " -0.599375675839627,\n",
       " -0.599375675839627,\n",
       " 1.6684027068652123,\n",
       " -0.599375675839627,\n",
       " -0.599375675839627,\n",
       " -0.599375675839627,\n",
       " -0.599375675839627,\n",
       " -0.599375675839627,\n",
       " -0.599375675839627,\n",
       " 1.6684027068652123,\n",
       " -0.599375675839627,\n",
       " -0.599375675839627,\n",
       " -0.599375675839627,\n",
       " -0.599375675839627,\n",
       " -0.599375675839627,\n",
       " -0.599375675839627,\n",
       " 1.6684027068652123,\n",
       " -0.599375675839627,\n",
       " 1.6684027068652123,\n",
       " -0.599375675839627,\n",
       " -0.599375675839627,\n",
       " -0.599375675839627,\n",
       " -0.599375675839627,\n",
       " ...]"
      ]
     },
     "execution_count": 83,
     "metadata": {},
     "output_type": "execute_result"
    }
   ],
   "source": [
    "list(df_num['Default'])"
   ]
  },
  {
   "cell_type": "code",
   "execution_count": 84,
   "id": "ac0a19e8",
   "metadata": {},
   "outputs": [],
   "source": [
    "df_scaled_final = df_scaled_final.assign(Default = list(dff['Default']))"
   ]
  },
  {
   "cell_type": "code",
   "execution_count": 85,
   "id": "67f8b5c0",
   "metadata": {},
   "outputs": [
    {
     "data": {
      "text/html": [
       "<div>\n",
       "<style scoped>\n",
       "    .dataframe tbody tr th:only-of-type {\n",
       "        vertical-align: middle;\n",
       "    }\n",
       "\n",
       "    .dataframe tbody tr th {\n",
       "        vertical-align: top;\n",
       "    }\n",
       "\n",
       "    .dataframe thead th {\n",
       "        text-align: right;\n",
       "    }\n",
       "</style>\n",
       "<table border=\"1\" class=\"dataframe\">\n",
       "  <thead>\n",
       "    <tr style=\"text-align: right;\">\n",
       "      <th></th>\n",
       "      <th>Compensation</th>\n",
       "      <th>Loan_amt</th>\n",
       "      <th>Annuity_amt</th>\n",
       "      <th>density_Ind</th>\n",
       "      <th>Home_Appliances</th>\n",
       "      <th>Experience</th>\n",
       "      <th>Dependents</th>\n",
       "      <th>Company_Rating</th>\n",
       "      <th>Age</th>\n",
       "      <th>hour_Process</th>\n",
       "      <th>...</th>\n",
       "      <th>Marital_Stat_Single</th>\n",
       "      <th>Marital_Stat_Widow</th>\n",
       "      <th>Gen_M</th>\n",
       "      <th>Credit_Lnks_4_to_6</th>\n",
       "      <th>Credit_Lnks_&gt;6</th>\n",
       "      <th>Income_Alt_Y</th>\n",
       "      <th>Type_Loan_RLoan</th>\n",
       "      <th>Region_East</th>\n",
       "      <th>Region_North</th>\n",
       "      <th>Region_South</th>\n",
       "    </tr>\n",
       "  </thead>\n",
       "  <tbody>\n",
       "    <tr>\n",
       "      <th>0</th>\n",
       "      <td>0.0</td>\n",
       "      <td>1.009943</td>\n",
       "      <td>0.0</td>\n",
       "      <td>0.888069</td>\n",
       "      <td>0.580147</td>\n",
       "      <td>-1.548728</td>\n",
       "      <td>0.991634</td>\n",
       "      <td>-0.057155</td>\n",
       "      <td>0.228539</td>\n",
       "      <td>-0.578563</td>\n",
       "      <td>...</td>\n",
       "      <td>0</td>\n",
       "      <td>0</td>\n",
       "      <td>0</td>\n",
       "      <td>0</td>\n",
       "      <td>0</td>\n",
       "      <td>0</td>\n",
       "      <td>0</td>\n",
       "      <td>1</td>\n",
       "      <td>0</td>\n",
       "      <td>0</td>\n",
       "    </tr>\n",
       "    <tr>\n",
       "      <th>1</th>\n",
       "      <td>0.0</td>\n",
       "      <td>-0.801363</td>\n",
       "      <td>0.0</td>\n",
       "      <td>-0.048501</td>\n",
       "      <td>-1.750963</td>\n",
       "      <td>-0.463483</td>\n",
       "      <td>0.991634</td>\n",
       "      <td>-2.139674</td>\n",
       "      <td>0.228539</td>\n",
       "      <td>-0.017970</td>\n",
       "      <td>...</td>\n",
       "      <td>0</td>\n",
       "      <td>0</td>\n",
       "      <td>1</td>\n",
       "      <td>0</td>\n",
       "      <td>0</td>\n",
       "      <td>0</td>\n",
       "      <td>0</td>\n",
       "      <td>0</td>\n",
       "      <td>1</td>\n",
       "      <td>0</td>\n",
       "    </tr>\n",
       "    <tr>\n",
       "      <th>2</th>\n",
       "      <td>0.0</td>\n",
       "      <td>-1.717829</td>\n",
       "      <td>0.0</td>\n",
       "      <td>-0.739552</td>\n",
       "      <td>0.580147</td>\n",
       "      <td>0.014096</td>\n",
       "      <td>-0.015691</td>\n",
       "      <td>2.018931</td>\n",
       "      <td>1.080244</td>\n",
       "      <td>-1.976878</td>\n",
       "      <td>...</td>\n",
       "      <td>0</td>\n",
       "      <td>0</td>\n",
       "      <td>1</td>\n",
       "      <td>0</td>\n",
       "      <td>0</td>\n",
       "      <td>0</td>\n",
       "      <td>0</td>\n",
       "      <td>0</td>\n",
       "      <td>1</td>\n",
       "      <td>0</td>\n",
       "    </tr>\n",
       "    <tr>\n",
       "      <th>3</th>\n",
       "      <td>0.0</td>\n",
       "      <td>-0.943523</td>\n",
       "      <td>0.0</td>\n",
       "      <td>1.439674</td>\n",
       "      <td>-1.264533</td>\n",
       "      <td>0.038999</td>\n",
       "      <td>1.739385</td>\n",
       "      <td>-0.057155</td>\n",
       "      <td>-0.359573</td>\n",
       "      <td>-0.017970</td>\n",
       "      <td>...</td>\n",
       "      <td>0</td>\n",
       "      <td>0</td>\n",
       "      <td>1</td>\n",
       "      <td>0</td>\n",
       "      <td>0</td>\n",
       "      <td>0</td>\n",
       "      <td>1</td>\n",
       "      <td>0</td>\n",
       "      <td>0</td>\n",
       "      <td>1</td>\n",
       "    </tr>\n",
       "    <tr>\n",
       "      <th>4</th>\n",
       "      <td>0.0</td>\n",
       "      <td>0.790893</td>\n",
       "      <td>0.0</td>\n",
       "      <td>-0.554055</td>\n",
       "      <td>-1.750963</td>\n",
       "      <td>0.494363</td>\n",
       "      <td>0.991634</td>\n",
       "      <td>-2.139674</td>\n",
       "      <td>-0.994709</td>\n",
       "      <td>1.104783</td>\n",
       "      <td>...</td>\n",
       "      <td>0</td>\n",
       "      <td>0</td>\n",
       "      <td>0</td>\n",
       "      <td>1</td>\n",
       "      <td>0</td>\n",
       "      <td>1</td>\n",
       "      <td>0</td>\n",
       "      <td>0</td>\n",
       "      <td>1</td>\n",
       "      <td>0</td>\n",
       "    </tr>\n",
       "  </tbody>\n",
       "</table>\n",
       "<p>5 rows × 38 columns</p>\n",
       "</div>"
      ],
      "text/plain": [
       "   Compensation  Loan_amt  Annuity_amt  density_Ind  Home_Appliances  \\\n",
       "0           0.0  1.009943          0.0     0.888069         0.580147   \n",
       "1           0.0 -0.801363          0.0    -0.048501        -1.750963   \n",
       "2           0.0 -1.717829          0.0    -0.739552         0.580147   \n",
       "3           0.0 -0.943523          0.0     1.439674        -1.264533   \n",
       "4           0.0  0.790893          0.0    -0.554055        -1.750963   \n",
       "\n",
       "   Experience  Dependents  Company_Rating       Age  hour_Process  ...  \\\n",
       "0   -1.548728    0.991634       -0.057155  0.228539     -0.578563  ...   \n",
       "1   -0.463483    0.991634       -2.139674  0.228539     -0.017970  ...   \n",
       "2    0.014096   -0.015691        2.018931  1.080244     -1.976878  ...   \n",
       "3    0.038999    1.739385       -0.057155 -0.359573     -0.017970  ...   \n",
       "4    0.494363    0.991634       -2.139674 -0.994709      1.104783  ...   \n",
       "\n",
       "   Marital_Stat_Single  Marital_Stat_Widow  Gen_M  Credit_Lnks_4_to_6  \\\n",
       "0                    0                   0      0                   0   \n",
       "1                    0                   0      1                   0   \n",
       "2                    0                   0      1                   0   \n",
       "3                    0                   0      1                   0   \n",
       "4                    0                   0      0                   1   \n",
       "\n",
       "   Credit_Lnks_>6  Income_Alt_Y  Type_Loan_RLoan  Region_East  Region_North  \\\n",
       "0               0             0                0            1             0   \n",
       "1               0             0                0            0             1   \n",
       "2               0             0                0            0             1   \n",
       "3               0             0                1            0             0   \n",
       "4               0             1                0            0             1   \n",
       "\n",
       "   Region_South  \n",
       "0             0  \n",
       "1             0  \n",
       "2             0  \n",
       "3             1  \n",
       "4             0  \n",
       "\n",
       "[5 rows x 38 columns]"
      ]
     },
     "execution_count": 85,
     "metadata": {},
     "output_type": "execute_result"
    }
   ],
   "source": [
    "df_scaled_final.head()"
   ]
  },
  {
   "cell_type": "code",
   "execution_count": 86,
   "id": "69ca0797",
   "metadata": {},
   "outputs": [
    {
     "data": {
      "text/plain": [
       "Index(['Compensation', 'Loan_amt', 'Annuity_amt', 'density_Ind',\n",
       "       'Home_Appliances', 'Experience', 'Dependents', 'Company_Rating', 'Age',\n",
       "       'hour_Process', 'c2_rated', 'Contact_age', 'Product_bought', 'Default',\n",
       "       'Vehicle_Status_Y', 'Job_Type_IT', 'Job_Type_Non-IT',\n",
       "       'Default_hist_ndf', 'Prop_List_None', 'Prop_List_One',\n",
       "       'Region_Type_Rural', 'Region_Type_other', 'Credit_Inq_2',\n",
       "       'Credit_Inq_3', 'Credit_Inq_>4', 'Education_det_Other',\n",
       "       'Education_det_P_Grad', 'Marital_Stat_Married', 'Marital_Stat_Single',\n",
       "       'Marital_Stat_Widow', 'Gen_M', 'Credit_Lnks_4_to_6', 'Credit_Lnks_>6',\n",
       "       'Income_Alt_Y', 'Type_Loan_RLoan', 'Region_East', 'Region_North',\n",
       "       'Region_South'],\n",
       "      dtype='object')"
      ]
     },
     "execution_count": 86,
     "metadata": {},
     "output_type": "execute_result"
    }
   ],
   "source": [
    "df_scaled_final.columns"
   ]
  },
  {
   "cell_type": "code",
   "execution_count": 87,
   "id": "bcd4e2e5",
   "metadata": {},
   "outputs": [
    {
     "name": "stdout",
     "output_type": "stream",
     "text": [
      "<class 'pandas.core.frame.DataFrame'>\n",
      "RangeIndex: 132440 entries, 0 to 132439\n",
      "Data columns (total 38 columns):\n",
      " #   Column                Non-Null Count   Dtype  \n",
      "---  ------                --------------   -----  \n",
      " 0   Compensation          132440 non-null  float64\n",
      " 1   Loan_amt              132440 non-null  float64\n",
      " 2   Annuity_amt           132440 non-null  float64\n",
      " 3   density_Ind           132440 non-null  float64\n",
      " 4   Home_Appliances       132440 non-null  float64\n",
      " 5   Experience            132440 non-null  float64\n",
      " 6   Dependents            132440 non-null  float64\n",
      " 7   Company_Rating        132440 non-null  float64\n",
      " 8   Age                   132440 non-null  float64\n",
      " 9   hour_Process          132440 non-null  float64\n",
      " 10  c2_rated              132440 non-null  float64\n",
      " 11  Contact_age           132440 non-null  float64\n",
      " 12  Product_bought        132440 non-null  float64\n",
      " 13  Default               132440 non-null  float64\n",
      " 14  Vehicle_Status_Y      132440 non-null  uint8  \n",
      " 15  Job_Type_IT           132440 non-null  uint8  \n",
      " 16  Job_Type_Non-IT       132440 non-null  uint8  \n",
      " 17  Default_hist_ndf      132440 non-null  uint8  \n",
      " 18  Prop_List_None        132440 non-null  uint8  \n",
      " 19  Prop_List_One         132440 non-null  uint8  \n",
      " 20  Region_Type_Rural     132440 non-null  uint8  \n",
      " 21  Region_Type_other     132440 non-null  uint8  \n",
      " 22  Credit_Inq_2          132440 non-null  uint8  \n",
      " 23  Credit_Inq_3          132440 non-null  uint8  \n",
      " 24  Credit_Inq_>4         132440 non-null  uint8  \n",
      " 25  Education_det_Other   132440 non-null  uint8  \n",
      " 26  Education_det_P_Grad  132440 non-null  uint8  \n",
      " 27  Marital_Stat_Married  132440 non-null  uint8  \n",
      " 28  Marital_Stat_Single   132440 non-null  uint8  \n",
      " 29  Marital_Stat_Widow    132440 non-null  uint8  \n",
      " 30  Gen_M                 132440 non-null  uint8  \n",
      " 31  Credit_Lnks_4_to_6    132440 non-null  uint8  \n",
      " 32  Credit_Lnks_>6        132440 non-null  uint8  \n",
      " 33  Income_Alt_Y          132440 non-null  uint8  \n",
      " 34  Type_Loan_RLoan       132440 non-null  uint8  \n",
      " 35  Region_East           132440 non-null  uint8  \n",
      " 36  Region_North          132440 non-null  uint8  \n",
      " 37  Region_South          132440 non-null  uint8  \n",
      "dtypes: float64(14), uint8(24)\n",
      "memory usage: 17.2 MB\n"
     ]
    }
   ],
   "source": [
    "df_scaled_final.info()"
   ]
  },
  {
   "cell_type": "markdown",
   "id": "d7d85628",
   "metadata": {},
   "source": [
    "## 3 Model Building"
   ]
  },
  {
   "cell_type": "markdown",
   "id": "31a1f68c",
   "metadata": {},
   "source": [
    "In this you can build various ML models and try tuning the parameters involved to achieve better score"
   ]
  },
  {
   "cell_type": "code",
   "execution_count": 88,
   "id": "3004a290",
   "metadata": {},
   "outputs": [],
   "source": [
    "x = df_scaled_final.drop(columns = ['Default'])\n",
    "y = df_scaled_final['Default']"
   ]
  },
  {
   "cell_type": "code",
   "execution_count": 89,
   "id": "546c5822",
   "metadata": {},
   "outputs": [],
   "source": [
    "from sklearn.model_selection import train_test_split,GridSearchCV"
   ]
  },
  {
   "cell_type": "code",
   "execution_count": 90,
   "id": "57f16063",
   "metadata": {},
   "outputs": [],
   "source": [
    "xtrain,xtest,ytrain,ytest = train_test_split(x,y,test_size = 0.3,random_state = 123,stratify = y)"
   ]
  },
  {
   "cell_type": "code",
   "execution_count": 91,
   "id": "a4cb7bec",
   "metadata": {},
   "outputs": [
    {
     "data": {
      "text/plain": [
       "((92708, 37), (39732, 37), (92708,), (39732,))"
      ]
     },
     "execution_count": 91,
     "metadata": {},
     "output_type": "execute_result"
    }
   ],
   "source": [
    "xtrain.shape,xtest.shape,ytrain.shape,ytest.shape"
   ]
  },
  {
   "cell_type": "code",
   "execution_count": 92,
   "id": "ef5c751a",
   "metadata": {},
   "outputs": [],
   "source": [
    "from sklearn.tree import DecisionTreeClassifier\n",
    "from sklearn.ensemble import RandomForestClassifier\n",
    "from sklearn.metrics import classification_report"
   ]
  },
  {
   "cell_type": "code",
   "execution_count": 93,
   "id": "5f947043",
   "metadata": {},
   "outputs": [],
   "source": [
    "import xgboost as xgb\n",
    "\n",
    "xgb_cl = xgb.XGBClassifier()\n"
   ]
  },
  {
   "cell_type": "markdown",
   "id": "14d5877e",
   "metadata": {},
   "source": [
    "\n",
    "####    MODEL 1\n"
   ]
  },
  {
   "cell_type": "code",
   "execution_count": 94,
   "id": "6c1ff1e5",
   "metadata": {},
   "outputs": [],
   "source": [
    "DC = DecisionTreeClassifier()\n",
    "DC_mod = DC.fit(xtrain,ytrain)\n",
    "ypred_dc = DC_mod.predict(xtest)\n"
   ]
  },
  {
   "cell_type": "code",
   "execution_count": 95,
   "id": "936938f5",
   "metadata": {},
   "outputs": [
    {
     "name": "stdout",
     "output_type": "stream",
     "text": [
      "              precision    recall  f1-score   support\n",
      "\n",
      "         0.0       0.74      0.72      0.73     29231\n",
      "         1.0       0.27      0.29      0.28     10501\n",
      "\n",
      "    accuracy                           0.60     39732\n",
      "   macro avg       0.50      0.50      0.50     39732\n",
      "weighted avg       0.61      0.60      0.61     39732\n",
      "\n"
     ]
    }
   ],
   "source": [
    "print(classification_report(ytest,ypred_dc))"
   ]
  },
  {
   "cell_type": "code",
   "execution_count": 96,
   "id": "bfb598a3",
   "metadata": {},
   "outputs": [],
   "source": [
    "RF = RandomForestClassifier()\n",
    "RF_mod = RF.fit(xtrain,ytrain)\n",
    "ypred_rf = RF_mod.predict(xtest)\n"
   ]
  },
  {
   "cell_type": "code",
   "execution_count": 97,
   "id": "29b39ca9",
   "metadata": {},
   "outputs": [
    {
     "name": "stdout",
     "output_type": "stream",
     "text": [
      "              precision    recall  f1-score   support\n",
      "\n",
      "         0.0       0.74      1.00      0.85     29231\n",
      "         1.0       0.34      0.00      0.01     10501\n",
      "\n",
      "    accuracy                           0.74     39732\n",
      "   macro avg       0.54      0.50      0.43     39732\n",
      "weighted avg       0.63      0.74      0.62     39732\n",
      "\n"
     ]
    }
   ],
   "source": [
    "print(classification_report(ytest,ypred_rf))"
   ]
  },
  {
   "cell_type": "code",
   "execution_count": null,
   "id": "d4ede23e",
   "metadata": {},
   "outputs": [],
   "source": [
    "tuned_paramaters = [{'criterion': ['entropy', 'gini'],\n",
    "                     'max_depth': [10,12,15],\n",
    "                     'max_leaf_nodes': [10,12,15],\n",
    "                    'min_samples_split':[2,3,4]}]\n",
    "\n",
    "rf= RandomForestClassifier(random_state = 123)\n",
    "\n",
    "grid_model_rf = GridSearchCV(estimator = rf , param_grid = tuned_paramaters,cv = 5)\n",
    "\n",
    "rf_tuned = grid_model_rf.fit(xtrain,ytrain)\n",
    "\n",
    "print(' Best parameters: ',grid_model_rf.best_params_,'\\n')"
   ]
  },
  {
   "cell_type": "code",
   "execution_count": 98,
   "id": "48e2a1bd",
   "metadata": {},
   "outputs": [
    {
     "name": "stdout",
     "output_type": "stream",
     "text": [
      "[18:05:54] WARNING: ..\\src\\learner.cc:1115: Starting in XGBoost 1.3.0, the default evaluation metric used with the objective 'binary:logistic' was changed from 'error' to 'logloss'. Explicitly set eval_metric if you'd like to restore the old behavior.\n"
     ]
    }
   ],
   "source": [
    "xgb_mod =xgb_cl.fit(xtrain,ytrain)\n",
    "ypred_xgb = xgb_mod.predict(xtest)\n"
   ]
  },
  {
   "cell_type": "code",
   "execution_count": 99,
   "id": "04879070",
   "metadata": {},
   "outputs": [
    {
     "name": "stdout",
     "output_type": "stream",
     "text": [
      "              precision    recall  f1-score   support\n",
      "\n",
      "         0.0       0.74      0.99      0.85     29231\n",
      "         1.0       0.28      0.01      0.01     10501\n",
      "\n",
      "    accuracy                           0.73     39732\n",
      "   macro avg       0.51      0.50      0.43     39732\n",
      "weighted avg       0.62      0.73      0.63     39732\n",
      "\n"
     ]
    }
   ],
   "source": [
    "print(classification_report(ytest,ypred_xgb))"
   ]
  },
  {
   "cell_type": "code",
   "execution_count": 100,
   "id": "2704db96",
   "metadata": {},
   "outputs": [],
   "source": [
    "from sklearn.ensemble import AdaBoostClassifier\n",
    "AD = AdaBoostClassifier(n_estimators = 500)"
   ]
  },
  {
   "cell_type": "code",
   "execution_count": 101,
   "id": "e684ad01",
   "metadata": {},
   "outputs": [
    {
     "name": "stdout",
     "output_type": "stream",
     "text": [
      "              precision    recall  f1-score   support\n",
      "\n",
      "         0.0       0.74      1.00      0.85     29231\n",
      "         1.0       0.32      0.00      0.00     10501\n",
      "\n",
      "    accuracy                           0.74     39732\n",
      "   macro avg       0.53      0.50      0.42     39732\n",
      "weighted avg       0.63      0.74      0.62     39732\n",
      "\n"
     ]
    }
   ],
   "source": [
    "AD_mod =AD.fit(xtrain,ytrain)\n",
    "ypred_ad = AD_mod.predict(xtest)\n",
    "print(classification_report(ytest,ypred_ad))\n"
   ]
  },
  {
   "cell_type": "code",
   "execution_count": 103,
   "id": "4e5cf226",
   "metadata": {},
   "outputs": [],
   "source": [
    "from sklearn.ensemble import GradientBoostingClassifier\n",
    "GB = GradientBoostingClassifier(n_estimators = 500)"
   ]
  },
  {
   "cell_type": "code",
   "execution_count": 104,
   "id": "04f2ff76",
   "metadata": {},
   "outputs": [
    {
     "name": "stdout",
     "output_type": "stream",
     "text": [
      "              precision    recall  f1-score   support\n",
      "\n",
      "         0.0       0.74      1.00      0.85     29231\n",
      "         1.0       0.27      0.00      0.00     10501\n",
      "\n",
      "    accuracy                           0.73     39732\n",
      "   macro avg       0.50      0.50      0.43     39732\n",
      "weighted avg       0.61      0.73      0.62     39732\n",
      "\n"
     ]
    }
   ],
   "source": [
    "GB_mod =GB.fit(xtrain,ytrain)\n",
    "ypred_gb = GB_mod.predict(xtest)\n",
    "print(classification_report(ytest,ypred_gb))\n"
   ]
  },
  {
   "cell_type": "markdown",
   "id": "384b6ad0",
   "metadata": {},
   "source": [
    "###### DOWNSAMPLING THE MAJORITY CLASS "
   ]
  },
  {
   "cell_type": "markdown",
   "id": "b6848198",
   "metadata": {},
   "source": [
    "###### Since the recall and precision for 1 ie defaulters is not increasing much ,lets try doing down-Sampling of the Majority Calss"
   ]
  },
  {
   "cell_type": "code",
   "execution_count": 105,
   "id": "0d8bb90f",
   "metadata": {},
   "outputs": [
    {
     "data": {
      "text/plain": [
       "0.0    97436\n",
       "1.0    35004\n",
       "Name: Default, dtype: int64"
      ]
     },
     "execution_count": 105,
     "metadata": {},
     "output_type": "execute_result"
    }
   ],
   "source": [
    "df_scaled_final['Default'].value_counts()"
   ]
  },
  {
   "cell_type": "code",
   "execution_count": 106,
   "id": "f979b928",
   "metadata": {},
   "outputs": [],
   "source": [
    "df_new = df_scaled_final"
   ]
  },
  {
   "cell_type": "code",
   "execution_count": 107,
   "id": "b14a04da",
   "metadata": {},
   "outputs": [],
   "source": [
    "df_zero = df_new[df_new['Default']==0].sample(35004)"
   ]
  },
  {
   "cell_type": "code",
   "execution_count": 108,
   "id": "551a1f60",
   "metadata": {},
   "outputs": [],
   "source": [
    "df_one = df_new[df_new['Default']==1]"
   ]
  },
  {
   "cell_type": "code",
   "execution_count": 109,
   "id": "13aa79a7",
   "metadata": {},
   "outputs": [
    {
     "data": {
      "text/plain": [
       "((35004, 38), (35004, 38))"
      ]
     },
     "execution_count": 109,
     "metadata": {},
     "output_type": "execute_result"
    }
   ],
   "source": [
    "df_zero.shape,df_one.shape"
   ]
  },
  {
   "cell_type": "code",
   "execution_count": 110,
   "id": "68307a66",
   "metadata": {},
   "outputs": [],
   "source": [
    "df_balanced =  pd.concat([df_zero,df_one],keys= df_zero.columns ,axis = 0,ignore_index = True )"
   ]
  },
  {
   "cell_type": "code",
   "execution_count": 111,
   "id": "f4624171",
   "metadata": {},
   "outputs": [
    {
     "data": {
      "text/plain": [
       "(70008, 38)"
      ]
     },
     "execution_count": 111,
     "metadata": {},
     "output_type": "execute_result"
    }
   ],
   "source": [
    "df_balanced.shape"
   ]
  },
  {
   "cell_type": "code",
   "execution_count": 112,
   "id": "f4c19e7d",
   "metadata": {},
   "outputs": [
    {
     "data": {
      "text/plain": [
       "0.0    35004\n",
       "1.0    35004\n",
       "Name: Default, dtype: int64"
      ]
     },
     "execution_count": 112,
     "metadata": {},
     "output_type": "execute_result"
    }
   ],
   "source": [
    "df_balanced['Default'].value_counts()"
   ]
  },
  {
   "cell_type": "code",
   "execution_count": 113,
   "id": "10e689ab",
   "metadata": {},
   "outputs": [],
   "source": [
    "x = df_balanced.drop(['Default'],1)\n",
    "y = df_balanced['Default']"
   ]
  },
  {
   "cell_type": "code",
   "execution_count": 114,
   "id": "221a2b8e",
   "metadata": {},
   "outputs": [],
   "source": [
    "xtrain,xtest,ytrain,ytest = train_test_split(x,y,random_state = 123,stratify = y,test_size = 0.30)"
   ]
  },
  {
   "cell_type": "code",
   "execution_count": 115,
   "id": "1d45f35b",
   "metadata": {},
   "outputs": [
    {
     "name": "stdout",
     "output_type": "stream",
     "text": [
      "              precision    recall  f1-score   support\n",
      "\n",
      "         0.0       0.50      0.50      0.50     10502\n",
      "         1.0       0.50      0.49      0.50     10501\n",
      "\n",
      "    accuracy                           0.50     21003\n",
      "   macro avg       0.50      0.50      0.50     21003\n",
      "weighted avg       0.50      0.50      0.50     21003\n",
      "\n"
     ]
    }
   ],
   "source": [
    "DC_mod = DC.fit(xtrain,ytrain)\n",
    "ypred_dc = DC_mod.predict(xtest)\n",
    "print(classification_report(ytest,ypred_dc))"
   ]
  },
  {
   "cell_type": "code",
   "execution_count": 116,
   "id": "02212983",
   "metadata": {},
   "outputs": [
    {
     "name": "stdout",
     "output_type": "stream",
     "text": [
      "              precision    recall  f1-score   support\n",
      "\n",
      "         0.0       0.51      0.53      0.52     10502\n",
      "         1.0       0.51      0.48      0.50     10501\n",
      "\n",
      "    accuracy                           0.51     21003\n",
      "   macro avg       0.51      0.51      0.51     21003\n",
      "weighted avg       0.51      0.51      0.51     21003\n",
      "\n"
     ]
    }
   ],
   "source": [
    "RF_mod = RF.fit(xtrain,ytrain)\n",
    "ypred_rf = RF_mod.predict(xtest)\n",
    "print(classification_report(ytest,ypred_rf))"
   ]
  },
  {
   "cell_type": "code",
   "execution_count": 117,
   "id": "2e80aa7a",
   "metadata": {},
   "outputs": [
    {
     "name": "stdout",
     "output_type": "stream",
     "text": [
      "[18:18:11] WARNING: ..\\src\\learner.cc:1115: Starting in XGBoost 1.3.0, the default evaluation metric used with the objective 'binary:logistic' was changed from 'error' to 'logloss'. Explicitly set eval_metric if you'd like to restore the old behavior.\n",
      "              precision    recall  f1-score   support\n",
      "\n",
      "         0.0       0.51      0.51      0.51     10502\n",
      "         1.0       0.51      0.51      0.51     10501\n",
      "\n",
      "    accuracy                           0.51     21003\n",
      "   macro avg       0.51      0.51      0.51     21003\n",
      "weighted avg       0.51      0.51      0.51     21003\n",
      "\n"
     ]
    }
   ],
   "source": [
    "xgb_mod = xgb_cl.fit(xtrain,ytrain)\n",
    "ypred_xgb = xgb_mod.predict(xtest)\n",
    "print(classification_report(ytest,ypred_xgb))"
   ]
  },
  {
   "cell_type": "markdown",
   "id": "d6fea514",
   "metadata": {},
   "source": [
    "### UPSAMPLING THE MINORITY CLASS"
   ]
  },
  {
   "cell_type": "code",
   "execution_count": 120,
   "id": "df0ba7fb",
   "metadata": {},
   "outputs": [
    {
     "data": {
      "text/plain": [
       "0.0    97436\n",
       "1.0    35004\n",
       "Name: Default, dtype: int64"
      ]
     },
     "execution_count": 120,
     "metadata": {},
     "output_type": "execute_result"
    }
   ],
   "source": [
    "df_scaled_final['Default'].value_counts()"
   ]
  },
  {
   "cell_type": "code",
   "execution_count": 122,
   "id": "3dd5d0c1",
   "metadata": {},
   "outputs": [],
   "source": [
    "df_zero = df_scaled_final[df_scaled_final['Default']== 0]\n",
    "df_one = df_scaled_final[df_scaled_final['Default']== 1].sample(97436,replace = True)"
   ]
  },
  {
   "cell_type": "code",
   "execution_count": 124,
   "id": "2a09ef9d",
   "metadata": {},
   "outputs": [],
   "source": [
    "df_balance = pd.concat([df_zero,df_one],0,keys = df_zero.columns,ignore_index = True)"
   ]
  },
  {
   "cell_type": "code",
   "execution_count": 125,
   "id": "c002833e",
   "metadata": {},
   "outputs": [
    {
     "data": {
      "text/plain": [
       "(194872, 38)"
      ]
     },
     "execution_count": 125,
     "metadata": {},
     "output_type": "execute_result"
    }
   ],
   "source": [
    "df_balance.shape"
   ]
  },
  {
   "cell_type": "code",
   "execution_count": 126,
   "id": "5c4a5d9d",
   "metadata": {},
   "outputs": [],
   "source": [
    "x = df_balance.drop(columns = ['Default'])\n",
    "y = df_balance['Default']"
   ]
  },
  {
   "cell_type": "code",
   "execution_count": 127,
   "id": "2a294bf8",
   "metadata": {},
   "outputs": [
    {
     "data": {
      "text/plain": [
       "((136410, 37), (58462, 37), (136410,), (58462,))"
      ]
     },
     "execution_count": 127,
     "metadata": {},
     "output_type": "execute_result"
    }
   ],
   "source": [
    "xtrain,xtest,ytrain,ytest = train_test_split(x,y,random_state = 123,stratify = y,test_size = 0.30)\n",
    "xtrain.shape,xtest.shape,ytrain.shape,ytest.shape"
   ]
  },
  {
   "cell_type": "code",
   "execution_count": 129,
   "id": "e932ab22",
   "metadata": {},
   "outputs": [
    {
     "name": "stdout",
     "output_type": "stream",
     "text": [
      "              precision    recall  f1-score   support\n",
      "\n",
      "         0.0       0.87      0.68      0.77     29231\n",
      "         1.0       0.74      0.90      0.81     29231\n",
      "\n",
      "    accuracy                           0.79     58462\n",
      "   macro avg       0.81      0.79      0.79     58462\n",
      "weighted avg       0.81      0.79      0.79     58462\n",
      "\n"
     ]
    }
   ],
   "source": [
    "DC_mod = DC.fit(xtrain,ytrain)\n",
    "ypred_dc = DC_mod.predict(xtest)\n",
    "print(classification_report(ytest,ypred_dc))"
   ]
  },
  {
   "cell_type": "code",
   "execution_count": 130,
   "id": "2ce2eb02",
   "metadata": {},
   "outputs": [
    {
     "name": "stdout",
     "output_type": "stream",
     "text": [
      "              precision    recall  f1-score   support\n",
      "\n",
      "         0.0       0.87      0.97      0.92     29231\n",
      "         1.0       0.97      0.86      0.91     29231\n",
      "\n",
      "    accuracy                           0.92     58462\n",
      "   macro avg       0.92      0.92      0.92     58462\n",
      "weighted avg       0.92      0.92      0.92     58462\n",
      "\n"
     ]
    }
   ],
   "source": [
    "RF_mod = RF.fit(xtrain,ytrain)\n",
    "ypred_rf = RF_mod.predict(xtest)\n",
    "print(classification_report(ytest,ypred_rf))"
   ]
  },
  {
   "cell_type": "code",
   "execution_count": 131,
   "id": "eeff66f0",
   "metadata": {},
   "outputs": [
    {
     "name": "stdout",
     "output_type": "stream",
     "text": [
      "[18:28:55] WARNING: ..\\src\\learner.cc:1115: Starting in XGBoost 1.3.0, the default evaluation metric used with the objective 'binary:logistic' was changed from 'error' to 'logloss'. Explicitly set eval_metric if you'd like to restore the old behavior.\n",
      "              precision    recall  f1-score   support\n",
      "\n",
      "         0.0       0.60      0.59      0.59     29231\n",
      "         1.0       0.60      0.61      0.60     29231\n",
      "\n",
      "    accuracy                           0.60     58462\n",
      "   macro avg       0.60      0.60      0.60     58462\n",
      "weighted avg       0.60      0.60      0.60     58462\n",
      "\n"
     ]
    }
   ],
   "source": [
    "xgb_mod = xgb_cl.fit(xtrain,ytrain)\n",
    "ypred_xgb = xgb_mod.predict(xtest)\n",
    "print(classification_report(ytest,ypred_xgb))"
   ]
  },
  {
   "cell_type": "code",
   "execution_count": 132,
   "id": "4f90e43c",
   "metadata": {},
   "outputs": [],
   "source": [
    "### Here the final model has to be random forest with 92 percenct accuracy ."
   ]
  },
  {
   "cell_type": "markdown",
   "id": "135c1058",
   "metadata": {},
   "source": [
    "## Descriptive Section"
   ]
  },
  {
   "cell_type": "code",
   "execution_count": 137,
   "id": "6c6fc2ea",
   "metadata": {},
   "outputs": [],
   "source": [
    "imp_features = pd.DataFrame({'Features':xtrain.columns,\n",
    "                            'Importances':RF_mod.feature_importances_})\n",
    "imp_features= imp_features.sort_values('Importances',ascending = False)\n",
    "inpp = imp_features.head(15)"
   ]
  },
  {
   "cell_type": "code",
   "execution_count": 138,
   "id": "b3c23c3e",
   "metadata": {},
   "outputs": [
    {
     "data": {
      "image/png": "[encoded data removed]",
      "text/plain": [
       "<Figure size 504x360 with 1 Axes>"
      ]
     },
     "metadata": {
      "needs_background": "light"
     },
     "output_type": "display_data"
    }
   ],
   "source": [
    "sns.barplot(data = inpp ,x = 'Importances',y = 'Features')\n",
    "plt.show()"
   ]
  },
  {
   "cell_type": "code",
   "execution_count": 139,
   "id": "9662e051",
   "metadata": {},
   "outputs": [],
   "source": [
    "#### The above are the top 15 features having an influence for a loaner to default or not ."
   ]
  }
 ],
 "metadata": {
  "kernelspec": {
   "display_name": "Python 3 (ipykernel)",
   "language": "python",
   "name": "python3"
  },
  "language_info": {
   "codemirror_mode": {
    "name": "ipython",
    "version": 3
   },
   "file_extension": ".py",
   "mimetype": "text/x-python",
   "name": "python",
   "nbconvert_exporter": "python",
   "pygments_lexer": "ipython3",
   "version": "3.9.7"
  }
 },
 "nbformat": 4,
 "nbformat_minor": 5
}
